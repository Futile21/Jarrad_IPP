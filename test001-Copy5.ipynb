{
 "cells": [
  {
   "cell_type": "code",
   "execution_count": 10,
   "metadata": {},
   "outputs": [],
   "source": [
    "import datetime\n",
    "import numpy as np\n",
    "import pandas as pd\n",
    "\n",
    "import plotly.graph_objects as go\n",
    "from ipywidgets import widgets"
   ]
  },
  {
   "cell_type": "code",
   "execution_count": null,
   "metadata": {},
   "outputs": [],
   "source": []
  },
  {
   "cell_type": "code",
   "execution_count": null,
   "metadata": {},
   "outputs": [],
   "source": []
  },
  {
   "cell_type": "code",
   "execution_count": null,
   "metadata": {},
   "outputs": [],
   "source": []
  },
  {
   "cell_type": "code",
   "execution_count": null,
   "metadata": {},
   "outputs": [],
   "source": []
  },
  {
   "cell_type": "code",
   "execution_count": null,
   "metadata": {},
   "outputs": [],
   "source": []
  },
  {
   "cell_type": "code",
   "execution_count": null,
   "metadata": {},
   "outputs": [],
   "source": []
  },
  {
   "cell_type": "code",
   "execution_count": null,
   "metadata": {},
   "outputs": [],
   "source": []
  },
  {
   "cell_type": "code",
   "execution_count": null,
   "metadata": {},
   "outputs": [],
   "source": []
  },
  {
   "cell_type": "code",
   "execution_count": 11,
   "metadata": {},
   "outputs": [
    {
     "data": {
      "text/html": [
       "<div>\n",
       "<style scoped>\n",
       "    .dataframe tbody tr th:only-of-type {\n",
       "        vertical-align: middle;\n",
       "    }\n",
       "\n",
       "    .dataframe tbody tr th {\n",
       "        vertical-align: top;\n",
       "    }\n",
       "\n",
       "    .dataframe thead th {\n",
       "        text-align: right;\n",
       "    }\n",
       "</style>\n",
       "<table border=\"1\" class=\"dataframe\">\n",
       "  <thead>\n",
       "    <tr style=\"text-align: right;\">\n",
       "      <th></th>\n",
       "      <th>Year</th>\n",
       "      <th>COA</th>\n",
       "      <th>NUC</th>\n",
       "      <th>GAS</th>\n",
       "      <th>PEA</th>\n",
       "      <th>HYD</th>\n",
       "      <th>WIN</th>\n",
       "      <th>CSP</th>\n",
       "      <th>SPV</th>\n",
       "      <th>DPV</th>\n",
       "      <th>BIO</th>\n",
       "      <th>DSR</th>\n",
       "      <th>PST</th>\n",
       "      <th>STO</th>\n",
       "    </tr>\n",
       "  </thead>\n",
       "  <tbody>\n",
       "    <tr>\n",
       "      <td>0</td>\n",
       "      <td>2018</td>\n",
       "      <td>37625.0</td>\n",
       "      <td>1860</td>\n",
       "      <td>424.6</td>\n",
       "      <td>3405.0</td>\n",
       "      <td>2192</td>\n",
       "      <td>2086</td>\n",
       "      <td>400.0</td>\n",
       "      <td>1479.0</td>\n",
       "      <td>584</td>\n",
       "      <td>282.0</td>\n",
       "      <td>0</td>\n",
       "      <td>2912</td>\n",
       "      <td>0.0</td>\n",
       "    </tr>\n",
       "    <tr>\n",
       "      <td>1</td>\n",
       "      <td>2019</td>\n",
       "      <td>38671.0</td>\n",
       "      <td>1860</td>\n",
       "      <td>424.6</td>\n",
       "      <td>3405.0</td>\n",
       "      <td>2192</td>\n",
       "      <td>2086</td>\n",
       "      <td>500.0</td>\n",
       "      <td>1594.0</td>\n",
       "      <td>584</td>\n",
       "      <td>282.0</td>\n",
       "      <td>0</td>\n",
       "      <td>2912</td>\n",
       "      <td>0.0</td>\n",
       "    </tr>\n",
       "    <tr>\n",
       "      <td>2</td>\n",
       "      <td>2020</td>\n",
       "      <td>37457.0</td>\n",
       "      <td>1860</td>\n",
       "      <td>424.6</td>\n",
       "      <td>3405.0</td>\n",
       "      <td>2192</td>\n",
       "      <td>2226</td>\n",
       "      <td>500.0</td>\n",
       "      <td>1669.0</td>\n",
       "      <td>584</td>\n",
       "      <td>307.0</td>\n",
       "      <td>0</td>\n",
       "      <td>2912</td>\n",
       "      <td>0.0</td>\n",
       "    </tr>\n",
       "    <tr>\n",
       "      <td>3</td>\n",
       "      <td>2021</td>\n",
       "      <td>38038.0</td>\n",
       "      <td>1860</td>\n",
       "      <td>424.6</td>\n",
       "      <td>3405.0</td>\n",
       "      <td>2192</td>\n",
       "      <td>2762</td>\n",
       "      <td>600.0</td>\n",
       "      <td>1894.0</td>\n",
       "      <td>584</td>\n",
       "      <td>307.0</td>\n",
       "      <td>0</td>\n",
       "      <td>2912</td>\n",
       "      <td>0.0</td>\n",
       "    </tr>\n",
       "    <tr>\n",
       "      <td>4</td>\n",
       "      <td>2022</td>\n",
       "      <td>38014.0</td>\n",
       "      <td>1860</td>\n",
       "      <td>424.6</td>\n",
       "      <td>3405.0</td>\n",
       "      <td>2192</td>\n",
       "      <td>4362</td>\n",
       "      <td>600.0</td>\n",
       "      <td>2894.0</td>\n",
       "      <td>584</td>\n",
       "      <td>307.0</td>\n",
       "      <td>0</td>\n",
       "      <td>2912</td>\n",
       "      <td>513.0</td>\n",
       "    </tr>\n",
       "  </tbody>\n",
       "</table>\n",
       "</div>"
      ],
      "text/plain": [
       "   Year      COA   NUC    GAS     PEA   HYD   WIN    CSP     SPV  DPV    BIO  \\\n",
       "0  2018  37625.0  1860  424.6  3405.0  2192  2086  400.0  1479.0  584  282.0   \n",
       "1  2019  38671.0  1860  424.6  3405.0  2192  2086  500.0  1594.0  584  282.0   \n",
       "2  2020  37457.0  1860  424.6  3405.0  2192  2226  500.0  1669.0  584  307.0   \n",
       "3  2021  38038.0  1860  424.6  3405.0  2192  2762  600.0  1894.0  584  307.0   \n",
       "4  2022  38014.0  1860  424.6  3405.0  2192  4362  600.0  2894.0  584  307.0   \n",
       "\n",
       "   DSR   PST    STO  \n",
       "0    0  2912    0.0  \n",
       "1    0  2912    0.0  \n",
       "2    0  2912    0.0  \n",
       "3    0  2912    0.0  \n",
       "4    0  2912  513.0  "
      ]
     },
     "execution_count": 11,
     "metadata": {},
     "output_type": "execute_result"
    }
   ],
   "source": [
    "IRP2019_P = pd.read_excel('2019-IRP.xlsx',sheet_name=\"IRP1_P\")\n",
    "IRP2019_P.round(2).head()"
   ]
  },
  {
   "cell_type": "code",
   "execution_count": 12,
   "metadata": {},
   "outputs": [
    {
     "data": {
      "text/html": [
       "<div>\n",
       "<style scoped>\n",
       "    .dataframe tbody tr th:only-of-type {\n",
       "        vertical-align: middle;\n",
       "    }\n",
       "\n",
       "    .dataframe tbody tr th {\n",
       "        vertical-align: top;\n",
       "    }\n",
       "\n",
       "    .dataframe thead th {\n",
       "        text-align: right;\n",
       "    }\n",
       "</style>\n",
       "<table border=\"1\" class=\"dataframe\">\n",
       "  <thead>\n",
       "    <tr style=\"text-align: right;\">\n",
       "      <th></th>\n",
       "      <th>Year</th>\n",
       "      <th>COA</th>\n",
       "      <th>NUC</th>\n",
       "      <th>GAS</th>\n",
       "      <th>PEA</th>\n",
       "      <th>HYD</th>\n",
       "      <th>WIN</th>\n",
       "      <th>CSP</th>\n",
       "      <th>SPV</th>\n",
       "      <th>DPV</th>\n",
       "      <th>BIO</th>\n",
       "      <th>DSR</th>\n",
       "      <th>PST</th>\n",
       "      <th>STO</th>\n",
       "    </tr>\n",
       "  </thead>\n",
       "  <tbody>\n",
       "    <tr>\n",
       "      <td>0</td>\n",
       "      <td>2018</td>\n",
       "      <td>202872.1</td>\n",
       "      <td>13360.8</td>\n",
       "      <td>2231.7</td>\n",
       "      <td>353.4</td>\n",
       "      <td>13170.8</td>\n",
       "      <td>6512.4</td>\n",
       "      <td>1880.4</td>\n",
       "      <td>3292.9</td>\n",
       "      <td>1041.5</td>\n",
       "      <td>1915.2</td>\n",
       "      <td>0.0</td>\n",
       "      <td>1325.1</td>\n",
       "      <td>0.0</td>\n",
       "    </tr>\n",
       "    <tr>\n",
       "      <td>1</td>\n",
       "      <td>2019</td>\n",
       "      <td>208471.8</td>\n",
       "      <td>13360.8</td>\n",
       "      <td>2231.7</td>\n",
       "      <td>348.4</td>\n",
       "      <td>13166.2</td>\n",
       "      <td>6509.2</td>\n",
       "      <td>1892.0</td>\n",
       "      <td>3530.6</td>\n",
       "      <td>1041.5</td>\n",
       "      <td>1783.2</td>\n",
       "      <td>0.0</td>\n",
       "      <td>880.8</td>\n",
       "      <td>0.0</td>\n",
       "    </tr>\n",
       "    <tr>\n",
       "      <td>2</td>\n",
       "      <td>2020</td>\n",
       "      <td>212423.2</td>\n",
       "      <td>13397.4</td>\n",
       "      <td>2237.8</td>\n",
       "      <td>800.8</td>\n",
       "      <td>13204.0</td>\n",
       "      <td>7830.1</td>\n",
       "      <td>1914.8</td>\n",
       "      <td>4072.7</td>\n",
       "      <td>1044.6</td>\n",
       "      <td>1944.7</td>\n",
       "      <td>0.0</td>\n",
       "      <td>1991.5</td>\n",
       "      <td>0.0</td>\n",
       "    </tr>\n",
       "    <tr>\n",
       "      <td>3</td>\n",
       "      <td>2021</td>\n",
       "      <td>216953.9</td>\n",
       "      <td>13360.8</td>\n",
       "      <td>2231.7</td>\n",
       "      <td>483.2</td>\n",
       "      <td>13168.1</td>\n",
       "      <td>8612.3</td>\n",
       "      <td>1916.7</td>\n",
       "      <td>4216.9</td>\n",
       "      <td>1041.5</td>\n",
       "      <td>1931.6</td>\n",
       "      <td>0.0</td>\n",
       "      <td>1189.8</td>\n",
       "      <td>0.0</td>\n",
       "    </tr>\n",
       "    <tr>\n",
       "      <td>4</td>\n",
       "      <td>2022</td>\n",
       "      <td>216254.8</td>\n",
       "      <td>13360.8</td>\n",
       "      <td>2231.7</td>\n",
       "      <td>328.4</td>\n",
       "      <td>13169.3</td>\n",
       "      <td>13550.7</td>\n",
       "      <td>1921.7</td>\n",
       "      <td>5999.9</td>\n",
       "      <td>1041.5</td>\n",
       "      <td>1930.0</td>\n",
       "      <td>0.0</td>\n",
       "      <td>1147.3</td>\n",
       "      <td>409.0</td>\n",
       "    </tr>\n",
       "  </tbody>\n",
       "</table>\n",
       "</div>"
      ],
      "text/plain": [
       "   Year       COA      NUC     GAS    PEA      HYD      WIN     CSP     SPV  \\\n",
       "0  2018  202872.1  13360.8  2231.7  353.4  13170.8   6512.4  1880.4  3292.9   \n",
       "1  2019  208471.8  13360.8  2231.7  348.4  13166.2   6509.2  1892.0  3530.6   \n",
       "2  2020  212423.2  13397.4  2237.8  800.8  13204.0   7830.1  1914.8  4072.7   \n",
       "3  2021  216953.9  13360.8  2231.7  483.2  13168.1   8612.3  1916.7  4216.9   \n",
       "4  2022  216254.8  13360.8  2231.7  328.4  13169.3  13550.7  1921.7  5999.9   \n",
       "\n",
       "      DPV     BIO  DSR     PST    STO  \n",
       "0  1041.5  1915.2  0.0  1325.1    0.0  \n",
       "1  1041.5  1783.2  0.0   880.8    0.0  \n",
       "2  1044.6  1944.7  0.0  1991.5    0.0  \n",
       "3  1041.5  1931.6  0.0  1189.8    0.0  \n",
       "4  1041.5  1930.0  0.0  1147.3  409.0  "
      ]
     },
     "execution_count": 12,
     "metadata": {},
     "output_type": "execute_result"
    }
   ],
   "source": [
    "IRP2019_E = pd.read_excel('2019-IRP.xlsx',sheet_name=\"IRP1_E\")\n",
    "IRP2019_E.round(1).head()"
   ]
  },
  {
   "cell_type": "code",
   "execution_count": null,
   "metadata": {},
   "outputs": [],
   "source": []
  },
  {
   "cell_type": "code",
   "execution_count": 13,
   "metadata": {},
   "outputs": [
    {
     "data": {
      "text/html": [
       "<div>\n",
       "<style scoped>\n",
       "    .dataframe tbody tr th:only-of-type {\n",
       "        vertical-align: middle;\n",
       "    }\n",
       "\n",
       "    .dataframe tbody tr th {\n",
       "        vertical-align: top;\n",
       "    }\n",
       "\n",
       "    .dataframe thead th {\n",
       "        text-align: right;\n",
       "    }\n",
       "</style>\n",
       "<table border=\"1\" class=\"dataframe\">\n",
       "  <thead>\n",
       "    <tr style=\"text-align: right;\">\n",
       "      <th></th>\n",
       "      <th>Year</th>\n",
       "      <th>COA</th>\n",
       "      <th>NUC</th>\n",
       "      <th>GAS</th>\n",
       "      <th>PEA</th>\n",
       "      <th>HYD</th>\n",
       "      <th>WIN</th>\n",
       "      <th>CSP</th>\n",
       "      <th>SPV</th>\n",
       "      <th>DPV</th>\n",
       "      <th>BIO</th>\n",
       "      <th>DSR</th>\n",
       "      <th>PST</th>\n",
       "      <th>STO</th>\n",
       "    </tr>\n",
       "  </thead>\n",
       "  <tbody>\n",
       "    <tr>\n",
       "      <td>0</td>\n",
       "      <td>2018</td>\n",
       "      <td>37625</td>\n",
       "      <td>1860</td>\n",
       "      <td>424.6</td>\n",
       "      <td>3405.0</td>\n",
       "      <td>2192</td>\n",
       "      <td>2086.0</td>\n",
       "      <td>400</td>\n",
       "      <td>1479.0</td>\n",
       "      <td>584</td>\n",
       "      <td>282.0</td>\n",
       "      <td>0</td>\n",
       "      <td>2912</td>\n",
       "      <td>0.0</td>\n",
       "    </tr>\n",
       "    <tr>\n",
       "      <td>1</td>\n",
       "      <td>2019</td>\n",
       "      <td>38671</td>\n",
       "      <td>1860</td>\n",
       "      <td>424.6</td>\n",
       "      <td>3405.0</td>\n",
       "      <td>2192</td>\n",
       "      <td>2086.0</td>\n",
       "      <td>500</td>\n",
       "      <td>1594.0</td>\n",
       "      <td>584</td>\n",
       "      <td>282.0</td>\n",
       "      <td>0</td>\n",
       "      <td>2912</td>\n",
       "      <td>0.0</td>\n",
       "    </tr>\n",
       "    <tr>\n",
       "      <td>2</td>\n",
       "      <td>2020</td>\n",
       "      <td>37457</td>\n",
       "      <td>1860</td>\n",
       "      <td>424.6</td>\n",
       "      <td>3405.0</td>\n",
       "      <td>2192</td>\n",
       "      <td>2226.0</td>\n",
       "      <td>500</td>\n",
       "      <td>1669.0</td>\n",
       "      <td>584</td>\n",
       "      <td>307.0</td>\n",
       "      <td>0</td>\n",
       "      <td>2912</td>\n",
       "      <td>0.0</td>\n",
       "    </tr>\n",
       "    <tr>\n",
       "      <td>3</td>\n",
       "      <td>2021</td>\n",
       "      <td>38038</td>\n",
       "      <td>1860</td>\n",
       "      <td>424.6</td>\n",
       "      <td>3405.0</td>\n",
       "      <td>2192</td>\n",
       "      <td>2762.0</td>\n",
       "      <td>500</td>\n",
       "      <td>1894.0</td>\n",
       "      <td>584</td>\n",
       "      <td>307.0</td>\n",
       "      <td>0</td>\n",
       "      <td>2912</td>\n",
       "      <td>0.0</td>\n",
       "    </tr>\n",
       "    <tr>\n",
       "      <td>4</td>\n",
       "      <td>2022</td>\n",
       "      <td>38014</td>\n",
       "      <td>1860</td>\n",
       "      <td>424.6</td>\n",
       "      <td>3405.0</td>\n",
       "      <td>2192</td>\n",
       "      <td>2762.0</td>\n",
       "      <td>500</td>\n",
       "      <td>1894.0</td>\n",
       "      <td>584</td>\n",
       "      <td>307.0</td>\n",
       "      <td>0</td>\n",
       "      <td>2912</td>\n",
       "      <td>0.0</td>\n",
       "    </tr>\n",
       "  </tbody>\n",
       "</table>\n",
       "</div>"
      ],
      "text/plain": [
       "   Year    COA   NUC    GAS     PEA   HYD     WIN  CSP     SPV  DPV    BIO  \\\n",
       "0  2018  37625  1860  424.6  3405.0  2192  2086.0  400  1479.0  584  282.0   \n",
       "1  2019  38671  1860  424.6  3405.0  2192  2086.0  500  1594.0  584  282.0   \n",
       "2  2020  37457  1860  424.6  3405.0  2192  2226.0  500  1669.0  584  307.0   \n",
       "3  2021  38038  1860  424.6  3405.0  2192  2762.0  500  1894.0  584  307.0   \n",
       "4  2022  38014  1860  424.6  3405.0  2192  2762.0  500  1894.0  584  307.0   \n",
       "\n",
       "   DSR   PST  STO  \n",
       "0    0  2912  0.0  \n",
       "1    0  2912  0.0  \n",
       "2    0  2912  0.0  \n",
       "3    0  2912  0.0  \n",
       "4    0  2912  0.0  "
      ]
     },
     "execution_count": 13,
     "metadata": {},
     "output_type": "execute_result"
    }
   ],
   "source": [
    "CSIR_LC_2019_P = pd.read_excel('2019-CSIR_LC.xlsx',sheet_name=\"IRP1_P\")\n",
    "CSIR_LC_2019_P.round(2).head()"
   ]
  },
  {
   "cell_type": "code",
   "execution_count": 14,
   "metadata": {},
   "outputs": [
    {
     "data": {
      "text/html": [
       "<div>\n",
       "<style scoped>\n",
       "    .dataframe tbody tr th:only-of-type {\n",
       "        vertical-align: middle;\n",
       "    }\n",
       "\n",
       "    .dataframe tbody tr th {\n",
       "        vertical-align: top;\n",
       "    }\n",
       "\n",
       "    .dataframe thead th {\n",
       "        text-align: right;\n",
       "    }\n",
       "</style>\n",
       "<table border=\"1\" class=\"dataframe\">\n",
       "  <thead>\n",
       "    <tr style=\"text-align: right;\">\n",
       "      <th></th>\n",
       "      <th>Year</th>\n",
       "      <th>COA</th>\n",
       "      <th>NUC</th>\n",
       "      <th>GAS</th>\n",
       "      <th>PEA</th>\n",
       "      <th>HYD</th>\n",
       "      <th>WIN</th>\n",
       "      <th>CSP</th>\n",
       "      <th>SPV</th>\n",
       "      <th>DPV</th>\n",
       "      <th>BIO</th>\n",
       "      <th>DSR</th>\n",
       "      <th>PST</th>\n",
       "      <th>STO</th>\n",
       "    </tr>\n",
       "  </thead>\n",
       "  <tbody>\n",
       "    <tr>\n",
       "      <td>0</td>\n",
       "      <td>2018</td>\n",
       "      <td>202281.5</td>\n",
       "      <td>13360.8</td>\n",
       "      <td>2231.7</td>\n",
       "      <td>362.1</td>\n",
       "      <td>13163.5</td>\n",
       "      <td>6516.9</td>\n",
       "      <td>1880.4</td>\n",
       "      <td>3292.9</td>\n",
       "      <td>1041.5</td>\n",
       "      <td>1907.5</td>\n",
       "      <td>0.0</td>\n",
       "      <td>1251.4</td>\n",
       "      <td>0.0</td>\n",
       "    </tr>\n",
       "    <tr>\n",
       "      <td>1</td>\n",
       "      <td>2019</td>\n",
       "      <td>202469.5</td>\n",
       "      <td>13360.8</td>\n",
       "      <td>2231.7</td>\n",
       "      <td>352.0</td>\n",
       "      <td>13171.1</td>\n",
       "      <td>6509.2</td>\n",
       "      <td>1892.1</td>\n",
       "      <td>3534.4</td>\n",
       "      <td>1041.5</td>\n",
       "      <td>1769.2</td>\n",
       "      <td>0.0</td>\n",
       "      <td>876.6</td>\n",
       "      <td>0.0</td>\n",
       "    </tr>\n",
       "    <tr>\n",
       "      <td>2</td>\n",
       "      <td>2020</td>\n",
       "      <td>197784.6</td>\n",
       "      <td>13397.4</td>\n",
       "      <td>2610.8</td>\n",
       "      <td>3646.8</td>\n",
       "      <td>13195.6</td>\n",
       "      <td>7832.4</td>\n",
       "      <td>2121.4</td>\n",
       "      <td>4070.5</td>\n",
       "      <td>1044.6</td>\n",
       "      <td>2170.5</td>\n",
       "      <td>0.0</td>\n",
       "      <td>4400.6</td>\n",
       "      <td>0.0</td>\n",
       "    </tr>\n",
       "    <tr>\n",
       "      <td>3</td>\n",
       "      <td>2021</td>\n",
       "      <td>197256.0</td>\n",
       "      <td>13360.8</td>\n",
       "      <td>2603.6</td>\n",
       "      <td>4589.1</td>\n",
       "      <td>13031.5</td>\n",
       "      <td>8615.0</td>\n",
       "      <td>2147.2</td>\n",
       "      <td>4216.9</td>\n",
       "      <td>1041.5</td>\n",
       "      <td>2180.2</td>\n",
       "      <td>0.0</td>\n",
       "      <td>3582.2</td>\n",
       "      <td>0.0</td>\n",
       "    </tr>\n",
       "    <tr>\n",
       "      <td>4</td>\n",
       "      <td>2022</td>\n",
       "      <td>191840.4</td>\n",
       "      <td>13360.8</td>\n",
       "      <td>2603.6</td>\n",
       "      <td>5965.6</td>\n",
       "      <td>13198.9</td>\n",
       "      <td>8621.7</td>\n",
       "      <td>2361.7</td>\n",
       "      <td>4216.9</td>\n",
       "      <td>1041.5</td>\n",
       "      <td>2189.1</td>\n",
       "      <td>0.0</td>\n",
       "      <td>983.2</td>\n",
       "      <td>0.0</td>\n",
       "    </tr>\n",
       "  </tbody>\n",
       "</table>\n",
       "</div>"
      ],
      "text/plain": [
       "   Year       COA      NUC     GAS     PEA      HYD     WIN     CSP     SPV  \\\n",
       "0  2018  202281.5  13360.8  2231.7   362.1  13163.5  6516.9  1880.4  3292.9   \n",
       "1  2019  202469.5  13360.8  2231.7   352.0  13171.1  6509.2  1892.1  3534.4   \n",
       "2  2020  197784.6  13397.4  2610.8  3646.8  13195.6  7832.4  2121.4  4070.5   \n",
       "3  2021  197256.0  13360.8  2603.6  4589.1  13031.5  8615.0  2147.2  4216.9   \n",
       "4  2022  191840.4  13360.8  2603.6  5965.6  13198.9  8621.7  2361.7  4216.9   \n",
       "\n",
       "      DPV     BIO  DSR     PST  STO  \n",
       "0  1041.5  1907.5  0.0  1251.4  0.0  \n",
       "1  1041.5  1769.2  0.0   876.6  0.0  \n",
       "2  1044.6  2170.5  0.0  4400.6  0.0  \n",
       "3  1041.5  2180.2  0.0  3582.2  0.0  \n",
       "4  1041.5  2189.1  0.0   983.2  0.0  "
      ]
     },
     "execution_count": 14,
     "metadata": {},
     "output_type": "execute_result"
    }
   ],
   "source": [
    "CSIR_LC_2019_E = pd.read_excel('2019-CSIR_LC.xlsx',sheet_name=\"IRP1_E\")\n",
    "CSIR_LC_2019_E.round(1).head()"
   ]
  },
  {
   "cell_type": "code",
   "execution_count": null,
   "metadata": {},
   "outputs": [],
   "source": []
  },
  {
   "cell_type": "code",
   "execution_count": 15,
   "metadata": {},
   "outputs": [
    {
     "name": "stdout",
     "output_type": "stream",
     "text": [
      "['Year', 'COA', 'NUC', 'GAS', 'PEA', 'HYD', 'WIN', 'CSP', 'SPV', 'DPV', 'BIO', 'DSR', 'PST', 'STO']\n",
      "remove Year\n",
      "remove DSR\n",
      "remove STO\n",
      "\n",
      "['COA', 'NUC', 'GAS', 'PEA', 'HYD', 'WIN', 'CSP', 'SPV', 'DPV', 'BIO', 'PST']\n",
      "11\n"
     ]
    }
   ],
   "source": [
    "powerlist =list(CSIR_LC_2019_E.columns) \n",
    "print(powerlist)\n",
    "removelist=[powerlist[0],powerlist[11],powerlist[13]]\n",
    "removelist\n",
    "\n",
    "for i in removelist:\n",
    "    print(f'remove {i}')\n",
    "    powerlist.remove(i)\n",
    "\n",
    "print(\"\")    \n",
    "print(powerlist)\n",
    "print(len(powerlist))"
   ]
  },
  {
   "cell_type": "code",
   "execution_count": null,
   "metadata": {},
   "outputs": [],
   "source": []
  },
  {
   "cell_type": "code",
   "execution_count": null,
   "metadata": {},
   "outputs": [],
   "source": []
  },
  {
   "cell_type": "code",
   "execution_count": null,
   "metadata": {},
   "outputs": [],
   "source": []
  },
  {
   "cell_type": "code",
   "execution_count": null,
   "metadata": {},
   "outputs": [],
   "source": []
  },
  {
   "cell_type": "code",
   "execution_count": 16,
   "metadata": {},
   "outputs": [],
   "source": [
    "# CSIR_LC_2019_E[powerlist]"
   ]
  },
  {
   "cell_type": "code",
   "execution_count": 17,
   "metadata": {},
   "outputs": [],
   "source": [
    "# CSIR_LC_2019_E[CSIR_LC_2019_E['Year'] == 2018][powerlist]"
   ]
  },
  {
   "cell_type": "code",
   "execution_count": 18,
   "metadata": {},
   "outputs": [
    {
     "data": {
      "text/plain": [
       "2050"
      ]
     },
     "execution_count": 18,
     "metadata": {},
     "output_type": "execute_result"
    }
   ],
   "source": [
    "CSIR_LC_2019_E['Year'].max()"
   ]
  },
  {
   "cell_type": "code",
   "execution_count": null,
   "metadata": {},
   "outputs": [],
   "source": []
  },
  {
   "cell_type": "code",
   "execution_count": 30,
   "metadata": {},
   "outputs": [],
   "source": [
    "from plotly.subplots import make_subplots"
   ]
  },
  {
   "cell_type": "code",
   "execution_count": 35,
   "metadata": {},
   "outputs": [
    {
     "data": {
      "application/vnd.jupyter.widget-view+json": {
       "model_id": "30ade20784844f3da64a6028ecdfde09",
       "version_major": 2,
       "version_minor": 0
      },
      "text/plain": [
       "VBox(children=(HBox(children=(Dropdown(description='Year:', options=('P', 'E'), value='P'), IntSlider(value=20…"
      ]
     },
     "metadata": {},
     "output_type": "display_data"
    }
   ],
   "source": [
    "yearSlider = widgets.IntSlider(\n",
    "    value=2018,\n",
    "    min=CSIR_LC_2019_E['Year'].min(), # 2018\n",
    "    max=CSIR_LC_2019_E['Year'].max(), # 2050\n",
    "    step=1.0,\n",
    "    description='Month:',\n",
    "    continuous_update=False\n",
    ")\n",
    "picker = widgets.Dropdown(\n",
    "    options=list([\"P\",\"E\"]),\n",
    "    value='P',\n",
    "    description='Year:',\n",
    ")\n",
    "\n",
    "All_date = widgets.Checkbox(\n",
    "    description='Date: ',\n",
    "    value=True,\n",
    ")\n",
    "\n",
    "containerSel = widgets.HBox(children=[picker, yearSlider,All_date])\n",
    "\n",
    "\n",
    "############ Graph\n",
    "\n",
    "tracebar=[]\n",
    "# powerlist=[]\n",
    "for power in powerlist:\n",
    "#     print (power)\n",
    "    tracebar.append(go.Bar(x=CSIR_LC_2019_E['Year'],\n",
    "                           y=CSIR_LC_2019_E[power],\n",
    "                           name=power,\n",
    "                           legendgroup=power))\n",
    "\n",
    "\n",
    "\n",
    "f = go.FigureWidget(data=tracebar,\n",
    "                    layout=go.Layout(\n",
    "                        title=dict(\n",
    "                            text='NYC FlightDatabase'\n",
    "                        ),\n",
    "                        barmode='stack',\n",
    "                        xaxis={'categoryorder':'category ascending'}\n",
    "                    ))\n",
    "\n",
    "g = go.FigureWidget(data=tracebar,\n",
    "                    layout=go.Layout(\n",
    "                        title=dict(\n",
    "                            text='NYC FlightDatabase'\n",
    "                        ),\n",
    "                        barmode='stack',\n",
    "                        xaxis={'categoryorder':'category ascending'}\n",
    "                    ))\n",
    "\n",
    "containerGraph = widgets.VBox(children=[f, g])\n",
    "\n",
    "def response(change):\n",
    "    tracebar_IRP=[]\n",
    "    tracebar_CSIR=[]\n",
    "    \n",
    "    if \"P\"==picker.value:\n",
    "        DF_IRP=IRP2019_P\n",
    "        DF_CSIR=CSIR_LC_2019_P\n",
    "    if \"E\"==picker.value:\n",
    "        DF_IRP=IRP2019_E\n",
    "        DF_CSIR=CSIR_LC_2019_E\n",
    "\n",
    "    \n",
    "\n",
    "    for power in powerlist:\n",
    "        tracebar_IRP.append(go.Bar(x=DF_IRP['Year'],\n",
    "                                   y=DF_IRP[power],\n",
    "                                   name=power))\n",
    "        \n",
    "        tracebar_CSIR.append(go.Bar(x=DF_CSIR['Year'],\n",
    "                                    y=DF_CSIR[power],\n",
    "                                    name=power))\n",
    "\n",
    "\n",
    "    with f.batch_update():\n",
    "        f.layout.title.text =\"IRP \"+str(picker.value)\n",
    "        \n",
    "        if All_date.value:\n",
    "            for i,power in enumerate(powerlist):\n",
    "                f.data[i].x=DF_IRP['Year']\n",
    "                f.data[i].y=DF_IRP[power]\n",
    "                f.layout.barmode = 'stack'\n",
    "\n",
    "\n",
    "        else:\n",
    "            for i,power in enumerate(powerlist):\n",
    "                f.data[i].x=[yearSlider.value]\n",
    "                f.data[i].y=(DF_IRP[DF_IRP['Year'] == yearSlider.value][power])\n",
    "                f.layout.barmode = 'stack'\n",
    "                \n",
    "    with g.batch_update():\n",
    "        g.layout.title.text =\"CSIR \"+str(picker.value)\n",
    "        \n",
    "        if All_date.value:\n",
    "            for i,power in enumerate(powerlist):\n",
    "                g.data[i].x=DF_CSIR['Year']\n",
    "                g.data[i].y=DF_CSIR[power]\n",
    "                g.layout.barmode = 'stack'\n",
    "\n",
    "\n",
    "        else:\n",
    "            for i,power in enumerate(powerlist):\n",
    "                g.data[i].x=[yearSlider.value]\n",
    "                g.data[i].y=(DF_CSIR[DF_CSIR['Year'] == yearSlider.value][power])\n",
    "                g.layout.barmode = 'stack'\n",
    "\n",
    "\n",
    "        \n",
    "picker.observe(response, names=\"value\")\n",
    "yearSlider.observe(response, names=\"value\")\n",
    "All_date.observe(response, names=\"value\")\n",
    "widgets.VBox([containerSel,\n",
    "              containerGraph])"
   ]
  },
  {
   "cell_type": "code",
   "execution_count": 20,
   "metadata": {},
   "outputs": [
    {
     "data": {
      "text/plain": [
       "13163.450971716773"
      ]
     },
     "execution_count": 20,
     "metadata": {},
     "output_type": "execute_result"
    }
   ],
   "source": [
    "np.array(CSIR_LC_2019_E[CSIR_LC_2019_E['Year'] == yearSlider.value][\"HYD\"])[0]"
   ]
  },
  {
   "cell_type": "code",
   "execution_count": 29,
   "metadata": {},
   "outputs": [],
   "source": [
    "if All_date.value:\n",
    "    print(\"yes\")"
   ]
  },
  {
   "cell_type": "code",
   "execution_count": 41,
   "metadata": {},
   "outputs": [],
   "source": [
    "# picker"
   ]
  },
  {
   "cell_type": "code",
   "execution_count": 42,
   "metadata": {},
   "outputs": [
    {
     "data": {
      "application/vnd.jupyter.widget-view+json": {
       "model_id": "aea1e4e0f57842468d2bbc21f46d9b32",
       "version_major": 2,
       "version_minor": 0
      },
      "text/plain": [
       "HBox(children=(Dropdown(description='something:', options=('IRP2019_P', 'IRP2019_E', 'CShhttps://www.newground…"
      ]
     },
     "metadata": {},
     "output_type": "display_data"
    }
   ],
   "source": []
  },
  {
   "cell_type": "code",
   "execution_count": 45,
   "metadata": {},
   "outputs": [
    {
     "name": "stdout",
     "output_type": "stream",
     "text": [
      "COA\n",
      "NUC\n",
      "GAS\n",
      "PEA\n",
      "HYD\n",
      "WIN\n",
      "CSP\n",
      "SPV\n",
      "DPV\n",
      "BIO\n",
      "PST\n"
     ]
    }
   ],
   "source": [
    "tracebar=[]\n",
    "# powerlist=[]\n",
    "for power in powerlist:\n",
    "    print (power)\n",
    "    tracebar.append(go.Bar(x=CSIR_LC_2019_E[CSIR_LC_2019_E['Year'] == 2019]['Year'],\n",
    "                           y=CSIR_LC_2019_E[CSIR_LC_2019_E['Year'] == 2019][power],\n",
    "                           name=power))\n",
    "\n",
    "\n",
    "\n",
    "f = go.FigureWidget(data=tracebar,\n",
    "                    layout=go.Layout(\n",
    "                        title=dict(\n",
    "                            text='NYC FlightDatabase'\n",
    "                        ),\n",
    "                        barmode='stack',\n",
    "                         xaxis={'categoryorder':'category ascending'}\n",
    "                    ))\n",
    "\n"
   ]
  },
  {
   "cell_type": "code",
   "execution_count": 46,
   "metadata": {},
   "outputs": [
    {
     "data": {
      "application/vnd.jupyter.widget-view+json": {
       "model_id": "0d6c258e9cfd4bbb8268f65ca72c8107",
       "version_major": 2,
       "version_minor": 0
      },
      "text/plain": [
       "FigureWidget({\n",
       "    'data': [{'name': 'COA',\n",
       "              'type': 'bar',\n",
       "              'uid': '87353967-ac2b-4…"
      ]
     },
     "metadata": {},
     "output_type": "display_data"
    }
   ],
   "source": [
    "f"
   ]
  },
  {
   "cell_type": "code",
   "execution_count": 47,
   "metadata": {},
   "outputs": [
    {
     "data": {
      "text/plain": [
       "[Bar({\n",
       "     'name': 'COA', 'x': array([2019], dtype=int64), 'y': array([202469.50209798])\n",
       " }), Bar({\n",
       "     'name': 'NUC', 'x': array([2019], dtype=int64), 'y': array([13360.752])\n",
       " }), Bar({\n",
       "     'name': 'GAS', 'x': array([2019], dtype=int64), 'y': array([2231.6976])\n",
       " }), Bar({\n",
       "     'name': 'PEA', 'x': array([2019], dtype=int64), 'y': array([352.03632981])\n",
       " }), Bar({\n",
       "     'name': 'HYD', 'x': array([2019], dtype=int64), 'y': array([13171.09640725])\n",
       " }), Bar({\n",
       "     'name': 'WIN', 'x': array([2019], dtype=int64), 'y': array([6509.17764716])\n",
       " }), Bar({\n",
       "     'name': 'CSP', 'x': array([2019], dtype=int64), 'y': array([1892.14516259])\n",
       " }), Bar({\n",
       "     'name': 'SPV', 'x': array([2019], dtype=int64), 'y': array([3534.42515215])\n",
       " }), Bar({\n",
       "     'name': 'DPV', 'x': array([2019], dtype=int64), 'y': array([1041.47248727])\n",
       " }), Bar({\n",
       "     'name': 'BIO', 'x': array([2019], dtype=int64), 'y': array([1769.24709344])\n",
       " }), Bar({\n",
       "     'name': 'PST', 'x': array([2019], dtype=int64), 'y': array([876.58238791])\n",
       " })]"
      ]
     },
     "execution_count": 47,
     "metadata": {},
     "output_type": "execute_result"
    }
   ],
   "source": [
    "tracebar"
   ]
  },
  {
   "cell_type": "code",
   "execution_count": 18,
   "metadata": {},
   "outputs": [
    {
     "data": {
      "text/plain": [
       "0    2018\n",
       "Name: Year, dtype: int64"
      ]
     },
     "execution_count": 18,
     "metadata": {},
     "output_type": "execute_result"
    }
   ],
   "source": [
    "CSIR_LC_2019_E[CSIR_LC_2019_E['Year'] == 2018]['Year']"
   ]
  },
  {
   "cell_type": "code",
   "execution_count": 19,
   "metadata": {},
   "outputs": [
    {
     "data": {
      "text/plain": [
       "0    202281.474201\n",
       "Name: COA, dtype: float64"
      ]
     },
     "execution_count": 19,
     "metadata": {},
     "output_type": "execute_result"
    }
   ],
   "source": [
    "CSIR_LC_2019_E[CSIR_LC_2019_E['Year'] == 2018]['COA']"
   ]
  },
  {
   "cell_type": "code",
   "execution_count": 20,
   "metadata": {},
   "outputs": [
    {
     "data": {
      "text/plain": [
       "Bar({\n",
       "    'name': 'COA', 'x': array([2019], dtype=int64), 'y': array([202469.50209798])\n",
       "})"
      ]
     },
     "execution_count": 20,
     "metadata": {},
     "output_type": "execute_result"
    }
   ],
   "source": [
    "tracebar[0]"
   ]
  },
  {
   "cell_type": "code",
   "execution_count": 21,
   "metadata": {},
   "outputs": [
    {
     "data": {
      "text/plain": [
       "array([2019], dtype=int64)"
      ]
     },
     "execution_count": 21,
     "metadata": {},
     "output_type": "execute_result"
    }
   ],
   "source": [
    "tracebar[0].x"
   ]
  },
  {
   "cell_type": "code",
   "execution_count": 22,
   "metadata": {},
   "outputs": [
    {
     "data": {
      "text/plain": [
       "['COA', 'NUC', 'GAS', 'PEA', 'HYD', 'WIN', 'CSP', 'SPV', 'DPV', 'BIO', 'PST']"
      ]
     },
     "execution_count": 22,
     "metadata": {},
     "output_type": "execute_result"
    }
   ],
   "source": [
    "powerlist"
   ]
  },
  {
   "cell_type": "code",
   "execution_count": 87,
   "metadata": {},
   "outputs": [
    {
     "name": "stdout",
     "output_type": "stream",
     "text": [
      "COA\n",
      "NUC\n",
      "GAS\n",
      "PEA\n",
      "HYD\n",
      "WIN\n",
      "CSP\n",
      "SPV\n",
      "DPV\n",
      "BIO\n",
      "PST\n"
     ]
    }
   ],
   "source": [
    "tracebar=[]\n",
    "# powerlist=[]\n",
    "for power in powerlist:\n",
    "    print (power)\n",
    "    tracebar.append(go.Bar(x=CSIR_LC_2019_E['Year'],\n",
    "                           y=CSIR_LC_2019_E[power],\n",
    "                           name=power))\n",
    "\n",
    "\n",
    "\n",
    "f = go.FigureWidget(data=tracebar,\n",
    "                    layout=go.Layout(\n",
    "                        title=dict(\n",
    "                            text='NYC FlightDatabase'\n",
    "                        ),\n",
    "                        barmode='stack',\n",
    "                         xaxis={'categoryorder':'category ascending'}\n",
    "                    ))\n",
    "\n",
    "\n",
    "#     options=list([\"IRP2019_P\",\n",
    "#                   \"IRP2019_E\",\n",
    "#                   \"IR_LC_2019_P\",\n",
    "#                   \"CSIR_LC_2019_E\"]),\n",
    "\n",
    "def response(change):\n",
    "    tracebar2=[]\n",
    "    \n",
    "    if \"IRP2019_P\"==picker.value:\n",
    "        DF=IRP2019_P\n",
    "    if \"IRP2019_E\"==picker.value:\n",
    "        DF=IRP2019_E\n",
    "    if \"IR_LC_2019_P\"==picker.value:\n",
    "        DF=IR_LC_2019_P\n",
    "    if \"IRP2019_P\"==picker.value:\n",
    "        DF=IRP2019_P\n",
    "    if \"IRP2019_P\"==picker.value:\n",
    "        DF=IRP2019_P\n",
    "    \n",
    "    \n",
    "#     for power in powerlist:\n",
    "#         print (power)\n",
    "#         print(yearSlider.value)\n",
    "#         tracebar2.append(go.Bar(x=yearSlider.value,\n",
    "#                                 y=CSIR_LC_2019_E[CSIR_LC_2019_E['Year'] == yearSlider.value][power],\n",
    "#                                 name=power))\n",
    "    print('hey')\n",
    "    with f.batch_update():\n",
    "        g.layout.xaxis.title =picker.value,\n",
    "#         for power,i in enumerate(powerlist):\n",
    "            \n",
    "\n",
    "        \n",
    "yearSlider.observe(response, names=\"value\")\n",
    "    "
   ]
  },
  {
   "cell_type": "code",
   "execution_count": 54,
   "metadata": {},
   "outputs": [
    {
     "data": {
      "text/plain": [
       "'IRP2019_P'"
      ]
     },
     "execution_count": 54,
     "metadata": {},
     "output_type": "execute_result"
    }
   ],
   "source": [
    "picker.value"
   ]
  },
  {
   "cell_type": "code",
   "execution_count": 89,
   "metadata": {},
   "outputs": [
    {
     "data": {
      "application/vnd.jupyter.widget-view+json": {
       "model_id": "ee009b036fe5416b941f6ce0f8c51fd4",
       "version_major": 2,
       "version_minor": 0
      },
      "text/plain": [
       "VBox(children=(HBox(children=(Dropdown(description='something:', options=('IRP2019_P', 'IRP2019_E', 'IR_LC_201…"
      ]
     },
     "metadata": {},
     "output_type": "display_data"
    },
    {
     "name": "stdout",
     "output_type": "stream",
     "text": [
      "COA\n",
      "NUC\n",
      "GAS\n",
      "PEA\n",
      "HYD\n",
      "WIN\n",
      "CSP\n",
      "SPV\n",
      "DPV\n",
      "BIO\n",
      "PST\n",
      "hey\n"
     ]
    },
    {
     "ename": "ValueError",
     "evalue": "The data property of a figure may only be assigned \na list or tuple that contains a permutation of a subset of itself.\n",
     "output_type": "error",
     "traceback": [
      "\u001b[1;31m---------------------------------------------------------------------------\u001b[0m",
      "\u001b[1;31mValueError\u001b[0m                                Traceback (most recent call last)",
      "\u001b[1;32m~\\Anaconda3\\lib\\site-packages\\ipywidgets\\widgets\\widget.py\u001b[0m in \u001b[0;36m_handle_msg\u001b[1;34m(self, msg)\u001b[0m\n\u001b[0;32m    674\u001b[0m                 \u001b[1;32mif\u001b[0m \u001b[1;34m'buffer_paths'\u001b[0m \u001b[1;32min\u001b[0m \u001b[0mdata\u001b[0m\u001b[1;33m:\u001b[0m\u001b[1;33m\u001b[0m\u001b[1;33m\u001b[0m\u001b[0m\n\u001b[0;32m    675\u001b[0m                     \u001b[0m_put_buffers\u001b[0m\u001b[1;33m(\u001b[0m\u001b[0mstate\u001b[0m\u001b[1;33m,\u001b[0m \u001b[0mdata\u001b[0m\u001b[1;33m[\u001b[0m\u001b[1;34m'buffer_paths'\u001b[0m\u001b[1;33m]\u001b[0m\u001b[1;33m,\u001b[0m \u001b[0mmsg\u001b[0m\u001b[1;33m[\u001b[0m\u001b[1;34m'buffers'\u001b[0m\u001b[1;33m]\u001b[0m\u001b[1;33m)\u001b[0m\u001b[1;33m\u001b[0m\u001b[1;33m\u001b[0m\u001b[0m\n\u001b[1;32m--> 676\u001b[1;33m                 \u001b[0mself\u001b[0m\u001b[1;33m.\u001b[0m\u001b[0mset_state\u001b[0m\u001b[1;33m(\u001b[0m\u001b[0mstate\u001b[0m\u001b[1;33m)\u001b[0m\u001b[1;33m\u001b[0m\u001b[1;33m\u001b[0m\u001b[0m\n\u001b[0m\u001b[0;32m    677\u001b[0m \u001b[1;33m\u001b[0m\u001b[0m\n\u001b[0;32m    678\u001b[0m         \u001b[1;31m# Handle a state request.\u001b[0m\u001b[1;33m\u001b[0m\u001b[1;33m\u001b[0m\u001b[1;33m\u001b[0m\u001b[0m\n",
      "\u001b[1;32m~\\Anaconda3\\lib\\site-packages\\ipywidgets\\widgets\\widget.py\u001b[0m in \u001b[0;36mset_state\u001b[1;34m(self, sync_data)\u001b[0m\n\u001b[0;32m    543\u001b[0m                     from_json = self.trait_metadata(name, 'from_json',\n\u001b[0;32m    544\u001b[0m                                                     self._trait_from_json)\n\u001b[1;32m--> 545\u001b[1;33m                     \u001b[0mself\u001b[0m\u001b[1;33m.\u001b[0m\u001b[0mset_trait\u001b[0m\u001b[1;33m(\u001b[0m\u001b[0mname\u001b[0m\u001b[1;33m,\u001b[0m \u001b[0mfrom_json\u001b[0m\u001b[1;33m(\u001b[0m\u001b[0msync_data\u001b[0m\u001b[1;33m[\u001b[0m\u001b[0mname\u001b[0m\u001b[1;33m]\u001b[0m\u001b[1;33m,\u001b[0m \u001b[0mself\u001b[0m\u001b[1;33m)\u001b[0m\u001b[1;33m)\u001b[0m\u001b[1;33m\u001b[0m\u001b[1;33m\u001b[0m\u001b[0m\n\u001b[0m\u001b[0;32m    546\u001b[0m \u001b[1;33m\u001b[0m\u001b[0m\n\u001b[0;32m    547\u001b[0m     \u001b[1;32mdef\u001b[0m \u001b[0msend\u001b[0m\u001b[1;33m(\u001b[0m\u001b[0mself\u001b[0m\u001b[1;33m,\u001b[0m \u001b[0mcontent\u001b[0m\u001b[1;33m,\u001b[0m \u001b[0mbuffers\u001b[0m\u001b[1;33m=\u001b[0m\u001b[1;32mNone\u001b[0m\u001b[1;33m)\u001b[0m\u001b[1;33m:\u001b[0m\u001b[1;33m\u001b[0m\u001b[1;33m\u001b[0m\u001b[0m\n",
      "\u001b[1;32m~\\Anaconda3\\lib\\contextlib.py\u001b[0m in \u001b[0;36m__exit__\u001b[1;34m(self, type, value, traceback)\u001b[0m\n\u001b[0;32m    117\u001b[0m         \u001b[1;32mif\u001b[0m \u001b[0mtype\u001b[0m \u001b[1;32mis\u001b[0m \u001b[1;32mNone\u001b[0m\u001b[1;33m:\u001b[0m\u001b[1;33m\u001b[0m\u001b[1;33m\u001b[0m\u001b[0m\n\u001b[0;32m    118\u001b[0m             \u001b[1;32mtry\u001b[0m\u001b[1;33m:\u001b[0m\u001b[1;33m\u001b[0m\u001b[1;33m\u001b[0m\u001b[0m\n\u001b[1;32m--> 119\u001b[1;33m                 \u001b[0mnext\u001b[0m\u001b[1;33m(\u001b[0m\u001b[0mself\u001b[0m\u001b[1;33m.\u001b[0m\u001b[0mgen\u001b[0m\u001b[1;33m)\u001b[0m\u001b[1;33m\u001b[0m\u001b[1;33m\u001b[0m\u001b[0m\n\u001b[0m\u001b[0;32m    120\u001b[0m             \u001b[1;32mexcept\u001b[0m \u001b[0mStopIteration\u001b[0m\u001b[1;33m:\u001b[0m\u001b[1;33m\u001b[0m\u001b[1;33m\u001b[0m\u001b[0m\n\u001b[0;32m    121\u001b[0m                 \u001b[1;32mreturn\u001b[0m \u001b[1;32mFalse\u001b[0m\u001b[1;33m\u001b[0m\u001b[1;33m\u001b[0m\u001b[0m\n",
      "\u001b[1;32m~\\Anaconda3\\lib\\site-packages\\traitlets\\traitlets.py\u001b[0m in \u001b[0;36mhold_trait_notifications\u001b[1;34m(self)\u001b[0m\n\u001b[0;32m   1129\u001b[0m                 \u001b[1;32mfor\u001b[0m \u001b[0mchanges\u001b[0m \u001b[1;32min\u001b[0m \u001b[0mcache\u001b[0m\u001b[1;33m.\u001b[0m\u001b[0mvalues\u001b[0m\u001b[1;33m(\u001b[0m\u001b[1;33m)\u001b[0m\u001b[1;33m:\u001b[0m\u001b[1;33m\u001b[0m\u001b[1;33m\u001b[0m\u001b[0m\n\u001b[0;32m   1130\u001b[0m                     \u001b[1;32mfor\u001b[0m \u001b[0mchange\u001b[0m \u001b[1;32min\u001b[0m \u001b[0mchanges\u001b[0m\u001b[1;33m:\u001b[0m\u001b[1;33m\u001b[0m\u001b[1;33m\u001b[0m\u001b[0m\n\u001b[1;32m-> 1131\u001b[1;33m                         \u001b[0mself\u001b[0m\u001b[1;33m.\u001b[0m\u001b[0mnotify_change\u001b[0m\u001b[1;33m(\u001b[0m\u001b[0mchange\u001b[0m\u001b[1;33m)\u001b[0m\u001b[1;33m\u001b[0m\u001b[1;33m\u001b[0m\u001b[0m\n\u001b[0m\u001b[0;32m   1132\u001b[0m \u001b[1;33m\u001b[0m\u001b[0m\n\u001b[0;32m   1133\u001b[0m     \u001b[1;32mdef\u001b[0m \u001b[0m_notify_trait\u001b[0m\u001b[1;33m(\u001b[0m\u001b[0mself\u001b[0m\u001b[1;33m,\u001b[0m \u001b[0mname\u001b[0m\u001b[1;33m,\u001b[0m \u001b[0mold_value\u001b[0m\u001b[1;33m,\u001b[0m \u001b[0mnew_value\u001b[0m\u001b[1;33m)\u001b[0m\u001b[1;33m:\u001b[0m\u001b[1;33m\u001b[0m\u001b[1;33m\u001b[0m\u001b[0m\n",
      "\u001b[1;32m~\\Anaconda3\\lib\\site-packages\\ipywidgets\\widgets\\widget.py\u001b[0m in \u001b[0;36mnotify_change\u001b[1;34m(self, change)\u001b[0m\n\u001b[0;32m    604\u001b[0m                 \u001b[1;31m# Send new state to front-end\u001b[0m\u001b[1;33m\u001b[0m\u001b[1;33m\u001b[0m\u001b[1;33m\u001b[0m\u001b[0m\n\u001b[0;32m    605\u001b[0m                 \u001b[0mself\u001b[0m\u001b[1;33m.\u001b[0m\u001b[0msend_state\u001b[0m\u001b[1;33m(\u001b[0m\u001b[0mkey\u001b[0m\u001b[1;33m=\u001b[0m\u001b[0mname\u001b[0m\u001b[1;33m)\u001b[0m\u001b[1;33m\u001b[0m\u001b[1;33m\u001b[0m\u001b[0m\n\u001b[1;32m--> 606\u001b[1;33m         \u001b[0msuper\u001b[0m\u001b[1;33m(\u001b[0m\u001b[0mWidget\u001b[0m\u001b[1;33m,\u001b[0m \u001b[0mself\u001b[0m\u001b[1;33m)\u001b[0m\u001b[1;33m.\u001b[0m\u001b[0mnotify_change\u001b[0m\u001b[1;33m(\u001b[0m\u001b[0mchange\u001b[0m\u001b[1;33m)\u001b[0m\u001b[1;33m\u001b[0m\u001b[1;33m\u001b[0m\u001b[0m\n\u001b[0m\u001b[0;32m    607\u001b[0m \u001b[1;33m\u001b[0m\u001b[0m\n\u001b[0;32m    608\u001b[0m     \u001b[1;32mdef\u001b[0m \u001b[0m__repr__\u001b[0m\u001b[1;33m(\u001b[0m\u001b[0mself\u001b[0m\u001b[1;33m)\u001b[0m\u001b[1;33m:\u001b[0m\u001b[1;33m\u001b[0m\u001b[1;33m\u001b[0m\u001b[0m\n",
      "\u001b[1;32m~\\Anaconda3\\lib\\site-packages\\traitlets\\traitlets.py\u001b[0m in \u001b[0;36mnotify_change\u001b[1;34m(self, change)\u001b[0m\n\u001b[0;32m   1174\u001b[0m                 \u001b[0mc\u001b[0m \u001b[1;33m=\u001b[0m \u001b[0mgetattr\u001b[0m\u001b[1;33m(\u001b[0m\u001b[0mself\u001b[0m\u001b[1;33m,\u001b[0m \u001b[0mc\u001b[0m\u001b[1;33m.\u001b[0m\u001b[0mname\u001b[0m\u001b[1;33m)\u001b[0m\u001b[1;33m\u001b[0m\u001b[1;33m\u001b[0m\u001b[0m\n\u001b[0;32m   1175\u001b[0m \u001b[1;33m\u001b[0m\u001b[0m\n\u001b[1;32m-> 1176\u001b[1;33m             \u001b[0mc\u001b[0m\u001b[1;33m(\u001b[0m\u001b[0mchange\u001b[0m\u001b[1;33m)\u001b[0m\u001b[1;33m\u001b[0m\u001b[1;33m\u001b[0m\u001b[0m\n\u001b[0m\u001b[0;32m   1177\u001b[0m \u001b[1;33m\u001b[0m\u001b[0m\n\u001b[0;32m   1178\u001b[0m     \u001b[1;32mdef\u001b[0m \u001b[0m_add_notifiers\u001b[0m\u001b[1;33m(\u001b[0m\u001b[0mself\u001b[0m\u001b[1;33m,\u001b[0m \u001b[0mhandler\u001b[0m\u001b[1;33m,\u001b[0m \u001b[0mname\u001b[0m\u001b[1;33m,\u001b[0m \u001b[0mtype\u001b[0m\u001b[1;33m)\u001b[0m\u001b[1;33m:\u001b[0m\u001b[1;33m\u001b[0m\u001b[1;33m\u001b[0m\u001b[0m\n",
      "\u001b[1;32m~\\Anaconda3\\lib\\site-packages\\ipywidgets\\widgets\\widget_selection.py\u001b[0m in \u001b[0;36m_propagate_index\u001b[1;34m(self, change)\u001b[0m\n\u001b[0;32m    233\u001b[0m             \u001b[0mself\u001b[0m\u001b[1;33m.\u001b[0m\u001b[0mlabel\u001b[0m \u001b[1;33m=\u001b[0m \u001b[0mlabel\u001b[0m\u001b[1;33m\u001b[0m\u001b[1;33m\u001b[0m\u001b[0m\n\u001b[0;32m    234\u001b[0m         \u001b[1;32mif\u001b[0m \u001b[0mself\u001b[0m\u001b[1;33m.\u001b[0m\u001b[0mvalue\u001b[0m \u001b[1;32mis\u001b[0m \u001b[1;32mnot\u001b[0m \u001b[0mvalue\u001b[0m\u001b[1;33m:\u001b[0m\u001b[1;33m\u001b[0m\u001b[1;33m\u001b[0m\u001b[0m\n\u001b[1;32m--> 235\u001b[1;33m             \u001b[0mself\u001b[0m\u001b[1;33m.\u001b[0m\u001b[0mvalue\u001b[0m \u001b[1;33m=\u001b[0m \u001b[0mvalue\u001b[0m\u001b[1;33m\u001b[0m\u001b[1;33m\u001b[0m\u001b[0m\n\u001b[0m\u001b[0;32m    236\u001b[0m \u001b[1;33m\u001b[0m\u001b[0m\n\u001b[0;32m    237\u001b[0m     \u001b[1;33m@\u001b[0m\u001b[0mvalidate\u001b[0m\u001b[1;33m(\u001b[0m\u001b[1;34m'value'\u001b[0m\u001b[1;33m)\u001b[0m\u001b[1;33m\u001b[0m\u001b[1;33m\u001b[0m\u001b[0m\n",
      "\u001b[1;32m~\\Anaconda3\\lib\\site-packages\\traitlets\\traitlets.py\u001b[0m in \u001b[0;36m__set__\u001b[1;34m(self, obj, value)\u001b[0m\n\u001b[0;32m    583\u001b[0m             \u001b[1;32mraise\u001b[0m \u001b[0mTraitError\u001b[0m\u001b[1;33m(\u001b[0m\u001b[1;34m'The \"%s\" trait is read-only.'\u001b[0m \u001b[1;33m%\u001b[0m \u001b[0mself\u001b[0m\u001b[1;33m.\u001b[0m\u001b[0mname\u001b[0m\u001b[1;33m)\u001b[0m\u001b[1;33m\u001b[0m\u001b[1;33m\u001b[0m\u001b[0m\n\u001b[0;32m    584\u001b[0m         \u001b[1;32melse\u001b[0m\u001b[1;33m:\u001b[0m\u001b[1;33m\u001b[0m\u001b[1;33m\u001b[0m\u001b[0m\n\u001b[1;32m--> 585\u001b[1;33m             \u001b[0mself\u001b[0m\u001b[1;33m.\u001b[0m\u001b[0mset\u001b[0m\u001b[1;33m(\u001b[0m\u001b[0mobj\u001b[0m\u001b[1;33m,\u001b[0m \u001b[0mvalue\u001b[0m\u001b[1;33m)\u001b[0m\u001b[1;33m\u001b[0m\u001b[1;33m\u001b[0m\u001b[0m\n\u001b[0m\u001b[0;32m    586\u001b[0m \u001b[1;33m\u001b[0m\u001b[0m\n\u001b[0;32m    587\u001b[0m     \u001b[1;32mdef\u001b[0m \u001b[0m_validate\u001b[0m\u001b[1;33m(\u001b[0m\u001b[0mself\u001b[0m\u001b[1;33m,\u001b[0m \u001b[0mobj\u001b[0m\u001b[1;33m,\u001b[0m \u001b[0mvalue\u001b[0m\u001b[1;33m)\u001b[0m\u001b[1;33m:\u001b[0m\u001b[1;33m\u001b[0m\u001b[1;33m\u001b[0m\u001b[0m\n",
      "\u001b[1;32m~\\Anaconda3\\lib\\site-packages\\traitlets\\traitlets.py\u001b[0m in \u001b[0;36mset\u001b[1;34m(self, obj, value)\u001b[0m\n\u001b[0;32m    572\u001b[0m             \u001b[1;31m# we explicitly compare silent to True just in case the equality\u001b[0m\u001b[1;33m\u001b[0m\u001b[1;33m\u001b[0m\u001b[1;33m\u001b[0m\u001b[0m\n\u001b[0;32m    573\u001b[0m             \u001b[1;31m# comparison above returns something other than True/False\u001b[0m\u001b[1;33m\u001b[0m\u001b[1;33m\u001b[0m\u001b[1;33m\u001b[0m\u001b[0m\n\u001b[1;32m--> 574\u001b[1;33m             \u001b[0mobj\u001b[0m\u001b[1;33m.\u001b[0m\u001b[0m_notify_trait\u001b[0m\u001b[1;33m(\u001b[0m\u001b[0mself\u001b[0m\u001b[1;33m.\u001b[0m\u001b[0mname\u001b[0m\u001b[1;33m,\u001b[0m \u001b[0mold_value\u001b[0m\u001b[1;33m,\u001b[0m \u001b[0mnew_value\u001b[0m\u001b[1;33m)\u001b[0m\u001b[1;33m\u001b[0m\u001b[1;33m\u001b[0m\u001b[0m\n\u001b[0m\u001b[0;32m    575\u001b[0m \u001b[1;33m\u001b[0m\u001b[0m\n\u001b[0;32m    576\u001b[0m     \u001b[1;32mdef\u001b[0m \u001b[0m__set__\u001b[0m\u001b[1;33m(\u001b[0m\u001b[0mself\u001b[0m\u001b[1;33m,\u001b[0m \u001b[0mobj\u001b[0m\u001b[1;33m,\u001b[0m \u001b[0mvalue\u001b[0m\u001b[1;33m)\u001b[0m\u001b[1;33m:\u001b[0m\u001b[1;33m\u001b[0m\u001b[1;33m\u001b[0m\u001b[0m\n",
      "\u001b[1;32m~\\Anaconda3\\lib\\site-packages\\traitlets\\traitlets.py\u001b[0m in \u001b[0;36m_notify_trait\u001b[1;34m(self, name, old_value, new_value)\u001b[0m\n\u001b[0;32m   1137\u001b[0m             \u001b[0mnew\u001b[0m\u001b[1;33m=\u001b[0m\u001b[0mnew_value\u001b[0m\u001b[1;33m,\u001b[0m\u001b[1;33m\u001b[0m\u001b[1;33m\u001b[0m\u001b[0m\n\u001b[0;32m   1138\u001b[0m             \u001b[0mowner\u001b[0m\u001b[1;33m=\u001b[0m\u001b[0mself\u001b[0m\u001b[1;33m,\u001b[0m\u001b[1;33m\u001b[0m\u001b[1;33m\u001b[0m\u001b[0m\n\u001b[1;32m-> 1139\u001b[1;33m             \u001b[0mtype\u001b[0m\u001b[1;33m=\u001b[0m\u001b[1;34m'change'\u001b[0m\u001b[1;33m,\u001b[0m\u001b[1;33m\u001b[0m\u001b[1;33m\u001b[0m\u001b[0m\n\u001b[0m\u001b[0;32m   1140\u001b[0m         ))\n\u001b[0;32m   1141\u001b[0m \u001b[1;33m\u001b[0m\u001b[0m\n",
      "\u001b[1;32m~\\Anaconda3\\lib\\site-packages\\ipywidgets\\widgets\\widget.py\u001b[0m in \u001b[0;36mnotify_change\u001b[1;34m(self, change)\u001b[0m\n\u001b[0;32m    604\u001b[0m                 \u001b[1;31m# Send new state to front-end\u001b[0m\u001b[1;33m\u001b[0m\u001b[1;33m\u001b[0m\u001b[1;33m\u001b[0m\u001b[0m\n\u001b[0;32m    605\u001b[0m                 \u001b[0mself\u001b[0m\u001b[1;33m.\u001b[0m\u001b[0msend_state\u001b[0m\u001b[1;33m(\u001b[0m\u001b[0mkey\u001b[0m\u001b[1;33m=\u001b[0m\u001b[0mname\u001b[0m\u001b[1;33m)\u001b[0m\u001b[1;33m\u001b[0m\u001b[1;33m\u001b[0m\u001b[0m\n\u001b[1;32m--> 606\u001b[1;33m         \u001b[0msuper\u001b[0m\u001b[1;33m(\u001b[0m\u001b[0mWidget\u001b[0m\u001b[1;33m,\u001b[0m \u001b[0mself\u001b[0m\u001b[1;33m)\u001b[0m\u001b[1;33m.\u001b[0m\u001b[0mnotify_change\u001b[0m\u001b[1;33m(\u001b[0m\u001b[0mchange\u001b[0m\u001b[1;33m)\u001b[0m\u001b[1;33m\u001b[0m\u001b[1;33m\u001b[0m\u001b[0m\n\u001b[0m\u001b[0;32m    607\u001b[0m \u001b[1;33m\u001b[0m\u001b[0m\n\u001b[0;32m    608\u001b[0m     \u001b[1;32mdef\u001b[0m \u001b[0m__repr__\u001b[0m\u001b[1;33m(\u001b[0m\u001b[0mself\u001b[0m\u001b[1;33m)\u001b[0m\u001b[1;33m:\u001b[0m\u001b[1;33m\u001b[0m\u001b[1;33m\u001b[0m\u001b[0m\n",
      "\u001b[1;32m~\\Anaconda3\\lib\\site-packages\\traitlets\\traitlets.py\u001b[0m in \u001b[0;36mnotify_change\u001b[1;34m(self, change)\u001b[0m\n\u001b[0;32m   1174\u001b[0m                 \u001b[0mc\u001b[0m \u001b[1;33m=\u001b[0m \u001b[0mgetattr\u001b[0m\u001b[1;33m(\u001b[0m\u001b[0mself\u001b[0m\u001b[1;33m,\u001b[0m \u001b[0mc\u001b[0m\u001b[1;33m.\u001b[0m\u001b[0mname\u001b[0m\u001b[1;33m)\u001b[0m\u001b[1;33m\u001b[0m\u001b[1;33m\u001b[0m\u001b[0m\n\u001b[0;32m   1175\u001b[0m \u001b[1;33m\u001b[0m\u001b[0m\n\u001b[1;32m-> 1176\u001b[1;33m             \u001b[0mc\u001b[0m\u001b[1;33m(\u001b[0m\u001b[0mchange\u001b[0m\u001b[1;33m)\u001b[0m\u001b[1;33m\u001b[0m\u001b[1;33m\u001b[0m\u001b[0m\n\u001b[0m\u001b[0;32m   1177\u001b[0m \u001b[1;33m\u001b[0m\u001b[0m\n\u001b[0;32m   1178\u001b[0m     \u001b[1;32mdef\u001b[0m \u001b[0m_add_notifiers\u001b[0m\u001b[1;33m(\u001b[0m\u001b[0mself\u001b[0m\u001b[1;33m,\u001b[0m \u001b[0mhandler\u001b[0m\u001b[1;33m,\u001b[0m \u001b[0mname\u001b[0m\u001b[1;33m,\u001b[0m \u001b[0mtype\u001b[0m\u001b[1;33m)\u001b[0m\u001b[1;33m:\u001b[0m\u001b[1;33m\u001b[0m\u001b[1;33m\u001b[0m\u001b[0m\n",
      "\u001b[1;32m<ipython-input-81-0c2f183d42ed>\u001b[0m in \u001b[0;36mresponse\u001b[1;34m(change)\u001b[0m\n\u001b[0;32m     56\u001b[0m     \u001b[1;32mwith\u001b[0m \u001b[0mf\u001b[0m\u001b[1;33m.\u001b[0m\u001b[0mbatch_update\u001b[0m\u001b[1;33m(\u001b[0m\u001b[1;33m)\u001b[0m\u001b[1;33m:\u001b[0m\u001b[1;33m\u001b[0m\u001b[1;33m\u001b[0m\u001b[0m\n\u001b[0;32m     57\u001b[0m         \u001b[0mf\u001b[0m\u001b[1;33m.\u001b[0m\u001b[0mlayout\u001b[0m\u001b[1;33m.\u001b[0m\u001b[0mtitle\u001b[0m\u001b[1;33m.\u001b[0m\u001b[0mtext\u001b[0m \u001b[1;33m=\u001b[0m\u001b[0mstr\u001b[0m\u001b[1;33m(\u001b[0m\u001b[0mpicker\u001b[0m\u001b[1;33m.\u001b[0m\u001b[0mvalue\u001b[0m\u001b[1;33m)\u001b[0m\u001b[1;33m\u001b[0m\u001b[1;33m\u001b[0m\u001b[0m\n\u001b[1;32m---> 58\u001b[1;33m         \u001b[0mf\u001b[0m\u001b[1;33m.\u001b[0m\u001b[0mdata\u001b[0m\u001b[1;33m=\u001b[0m\u001b[0mtracebar2\u001b[0m\u001b[1;33m\u001b[0m\u001b[1;33m\u001b[0m\u001b[0m\n\u001b[0m\u001b[0;32m     59\u001b[0m \u001b[1;33m\u001b[0m\u001b[0m\n\u001b[0;32m     60\u001b[0m \u001b[1;33m\u001b[0m\u001b[0m\n",
      "\u001b[1;32m~\\Anaconda3\\lib\\site-packages\\plotly\\basedatatypes.py\u001b[0m in \u001b[0;36m__setattr__\u001b[1;34m(self, prop, value)\u001b[0m\n\u001b[0;32m    346\u001b[0m         \u001b[1;32mif\u001b[0m \u001b[0mprop\u001b[0m\u001b[1;33m.\u001b[0m\u001b[0mstartswith\u001b[0m\u001b[1;33m(\u001b[0m\u001b[1;34m\"_\"\u001b[0m\u001b[1;33m)\u001b[0m \u001b[1;32mor\u001b[0m \u001b[0mhasattr\u001b[0m\u001b[1;33m(\u001b[0m\u001b[0mself\u001b[0m\u001b[1;33m,\u001b[0m \u001b[0mprop\u001b[0m\u001b[1;33m)\u001b[0m\u001b[1;33m:\u001b[0m\u001b[1;33m\u001b[0m\u001b[1;33m\u001b[0m\u001b[0m\n\u001b[0;32m    347\u001b[0m             \u001b[1;31m# Let known properties and private properties through\u001b[0m\u001b[1;33m\u001b[0m\u001b[1;33m\u001b[0m\u001b[1;33m\u001b[0m\u001b[0m\n\u001b[1;32m--> 348\u001b[1;33m             \u001b[0msuper\u001b[0m\u001b[1;33m(\u001b[0m\u001b[0mBaseFigure\u001b[0m\u001b[1;33m,\u001b[0m \u001b[0mself\u001b[0m\u001b[1;33m)\u001b[0m\u001b[1;33m.\u001b[0m\u001b[0m__setattr__\u001b[0m\u001b[1;33m(\u001b[0m\u001b[0mprop\u001b[0m\u001b[1;33m,\u001b[0m \u001b[0mvalue\u001b[0m\u001b[1;33m)\u001b[0m\u001b[1;33m\u001b[0m\u001b[1;33m\u001b[0m\u001b[0m\n\u001b[0m\u001b[0;32m    349\u001b[0m         \u001b[1;32melse\u001b[0m\u001b[1;33m:\u001b[0m\u001b[1;33m\u001b[0m\u001b[1;33m\u001b[0m\u001b[0m\n\u001b[0;32m    350\u001b[0m             \u001b[1;31m# Raise error on unknown public properties\u001b[0m\u001b[1;33m\u001b[0m\u001b[1;33m\u001b[0m\u001b[1;33m\u001b[0m\u001b[0m\n",
      "\u001b[1;32m~\\Anaconda3\\lib\\site-packages\\plotly\\basedatatypes.py\u001b[0m in \u001b[0;36mdata\u001b[1;34m(self, new_data)\u001b[0m\n\u001b[0;32m    594\u001b[0m             \u001b[0merr_msg\u001b[0m \u001b[1;33m=\u001b[0m \u001b[0merr_header\u001b[0m\u001b[1;33m\u001b[0m\u001b[1;33m\u001b[0m\u001b[0m\n\u001b[0;32m    595\u001b[0m \u001b[1;33m\u001b[0m\u001b[0m\n\u001b[1;32m--> 596\u001b[1;33m             \u001b[1;32mraise\u001b[0m \u001b[0mValueError\u001b[0m\u001b[1;33m(\u001b[0m\u001b[0merr_msg\u001b[0m\u001b[1;33m)\u001b[0m\u001b[1;33m\u001b[0m\u001b[1;33m\u001b[0m\u001b[0m\n\u001b[0m\u001b[0;32m    597\u001b[0m \u001b[1;33m\u001b[0m\u001b[0m\n\u001b[0;32m    598\u001b[0m         \u001b[1;31m# ### Check for duplicates in assignment ###\u001b[0m\u001b[1;33m\u001b[0m\u001b[1;33m\u001b[0m\u001b[1;33m\u001b[0m\u001b[0m\n",
      "\u001b[1;31mValueError\u001b[0m: The data property of a figure may only be assigned \na list or tuple that contains a permutation of a subset of itself.\n"
     ]
    }
   ],
   "source": [
    "widgets.VBox([container,\n",
    "              f])"
   ]
  },
  {
   "cell_type": "code",
   "execution_count": 56,
   "metadata": {},
   "outputs": [],
   "source": [
    "# IRP2019_P"
   ]
  },
  {
   "cell_type": "code",
   "execution_count": 60,
   "metadata": {},
   "outputs": [
    {
     "name": "stdout",
     "output_type": "stream",
     "text": [
      "COA\n",
      "NUC\n",
      "GAS\n",
      "PEA\n",
      "HYD\n",
      "WIN\n",
      "CSP\n",
      "SPV\n",
      "DPV\n",
      "BIO\n",
      "PST\n"
     ]
    }
   ],
   "source": [
    "tracebar=[]\n",
    "# powerlist=[]\n",
    "for power in powerlist:\n",
    "    print (power)\n",
    "    tracebar.append(go.Bar(x=CSIR_LC_2019_E['Year'],\n",
    "                           y=CSIR_LC_2019_E[power],\n",
    "                           name=power))\n",
    "\n",
    "\n",
    "\n",
    "f = go.FigureWidget(data=tracebar,\n",
    "                    layout=go.Layout(\n",
    "                        title=dict(\n",
    "                            text='NYC FlightDatabase'\n",
    "                        ),\n",
    "                        barmode='stack',\n",
    "                         xaxis={'categoryorder':'category ascending'}\n",
    "                    ))"
   ]
  },
  {
   "cell_type": "code",
   "execution_count": 27,
   "metadata": {},
   "outputs": [
    {
     "data": {
      "text/plain": [
       "0     1251.371406\n",
       "1      876.582388\n",
       "2     4400.596055\n",
       "3     3582.154088\n",
       "4      983.225745\n",
       "5     2810.792097\n",
       "6     4089.025743\n",
       "7     3650.484750\n",
       "8     4477.886595\n",
       "9     5098.977548\n",
       "10    5383.875899\n",
       "11    4915.177973\n",
       "12    3383.359794\n",
       "13    3360.298306\n",
       "14    1987.150636\n",
       "15    4584.852638\n",
       "16    3682.925020\n",
       "17    3699.831681\n",
       "18    4536.639833\n",
       "19    3161.839033\n",
       "20    3947.480764\n",
       "21    5403.749940\n",
       "22    3731.710285\n",
       "23    5338.107804\n",
       "24    5779.830301\n",
       "25    4843.071846\n",
       "26    5187.116290\n",
       "27    6091.218337\n",
       "28    6316.558736\n",
       "29    5833.608422\n",
       "30    4722.676802\n",
       "31    4194.521407\n",
       "32    5488.074204\n",
       "Name: PST, dtype: float64"
      ]
     },
     "execution_count": 27,
     "metadata": {},
     "output_type": "execute_result"
    }
   ],
   "source": [
    "CSIR_LC_2019_E[power]"
   ]
  },
  {
   "cell_type": "code",
   "execution_count": null,
   "metadata": {},
   "outputs": [],
   "source": []
  },
  {
   "cell_type": "code",
   "execution_count": 103,
   "metadata": {},
   "outputs": [
    {
     "name": "stdout",
     "output_type": "stream",
     "text": [
      "COA\n",
      "<class 'int'>\n",
      "NUC\n",
      "<class 'int'>\n",
      "GAS\n",
      "<class 'int'>\n",
      "PEA\n",
      "<class 'int'>\n",
      "HYD\n",
      "<class 'int'>\n",
      "WIN\n",
      "<class 'int'>\n",
      "CSP\n",
      "<class 'int'>\n",
      "SPV\n",
      "<class 'int'>\n",
      "DPV\n",
      "<class 'int'>\n",
      "BIO\n",
      "<class 'int'>\n",
      "PST\n",
      "<class 'int'>\n"
     ]
    }
   ],
   "source": [
    "for k,power in enumerate(powerlist):\n",
    "    print(power)\n",
    "    print(type((k)))"
   ]
  },
  {
   "cell_type": "code",
   "execution_count": null,
   "metadata": {},
   "outputs": [],
   "source": []
  },
  {
   "cell_type": "code",
   "execution_count": 29,
   "metadata": {},
   "outputs": [
    {
     "data": {
      "application/vnd.plotly.v1+json": {
       "config": {
        "plotlyServerURL": "https://plot.ly"
       },
       "data": [
        {
         "legendgroup": "COA",
         "marker": {
          "color": "#8c664a",
          "line": {
           "color": "white",
           "width": 0.05
          }
         },
         "name": "COA",
         "type": "bar",
         "x": [
          2018,
          2019,
          2020,
          2021,
          2022,
          2023,
          2024,
          2025,
          2026,
          2027,
          2028,
          2029,
          2030,
          2031,
          2032,
          2033,
          2034,
          2035,
          2036,
          2037,
          2038,
          2039,
          2040,
          2041,
          2042,
          2043,
          2044,
          2045,
          2046,
          2047,
          2048,
          2049,
          2050
         ],
         "xaxis": "x",
         "y": [
          37625,
          38671,
          37457,
          38038,
          38014,
          38964,
          38758,
          38438,
          37112,
          37326,
          37326,
          35801,
          32941,
          31791,
          30066,
          28916,
          28341,
          28092.112595,
          27565.746995,
          27047.32085,
          26931.013254999998,
          26996.93121,
          26381.93121,
          25605.19881,
          26164.365005,
          26241.759425,
          26430.8497,
          26430.8497,
          27351.500305,
          28150.8733,
          28337.52733,
          27670.52733,
          27003.52733
         ],
         "yaxis": "y"
        },
        {
         "legendgroup": "COA",
         "marker": {
          "color": "#8c664a",
          "line": {
           "color": "white",
           "width": 0.05
          }
         },
         "name": "COA",
         "showlegend": false,
         "type": "bar",
         "x": [
          2018,
          2019,
          2020,
          2021,
          2022,
          2023,
          2024,
          2025,
          2026,
          2027,
          2028,
          2029,
          2030,
          2031,
          2032,
          2033,
          2034,
          2035,
          2036,
          2037,
          2038,
          2039,
          2040,
          2041,
          2042,
          2043,
          2044,
          2045,
          2046,
          2047,
          2048,
          2049,
          2050
         ],
         "xaxis": "x2",
         "y": [
          202872.14333822424,
          208471.81035158387,
          212423.17749785775,
          216953.88926384004,
          216254.76189451705,
          213183.74267469603,
          214179.8057440718,
          210031.78062643437,
          208307.48523199366,
          207627.04890529552,
          203427.430094358,
          200289.96436011195,
          180217.9808601713,
          180071.63314618252,
          176964.06219811935,
          176988.43592360808,
          181545.4858851576,
          180264.34415838207,
          179164.50560427387,
          177964.49334010133,
          175135.59054477865,
          175120.69708474987,
          175418.2106488407,
          173342.35889664938,
          177493.7004436106,
          178271.986921683,
          179061.6653390064,
          184113.43904605572,
          190687.3375553544,
          202008.71233908783,
          202128.47282669478,
          197823.1091295798,
          200449.4258521563
         ],
         "yaxis": "y2"
        },
        {
         "legendgroup": "NUC",
         "marker": {
          "color": "#ff270f",
          "line": {
           "color": "white",
           "width": 0.05
          }
         },
         "name": "NUC",
         "type": "bar",
         "x": [
          2018,
          2019,
          2020,
          2021,
          2022,
          2023,
          2024,
          2025,
          2026,
          2027,
          2028,
          2029,
          2030,
          2031,
          2032,
          2033,
          2034,
          2035,
          2036,
          2037,
          2038,
          2039,
          2040,
          2041,
          2042,
          2043,
          2044,
          2045,
          2046,
          2047,
          2048,
          2049,
          2050
         ],
         "xaxis": "x",
         "y": [
          1860,
          1860,
          1860,
          1860,
          1860,
          1860,
          1860,
          1860,
          1860,
          1860,
          1860,
          1860,
          1860,
          1860,
          1860,
          1860,
          1860,
          1860,
          1860,
          1860,
          1860,
          1860,
          1860,
          1860,
          1860,
          1860,
          1860,
          1860,
          930,
          0,
          0,
          0,
          0
         ],
         "yaxis": "y"
        },
        {
         "legendgroup": "NUC",
         "marker": {
          "color": "#ff270f",
          "line": {
           "color": "white",
           "width": 0.05
          }
         },
         "name": "NUC",
         "showlegend": false,
         "type": "bar",
         "x": [
          2018,
          2019,
          2020,
          2021,
          2022,
          2023,
          2024,
          2025,
          2026,
          2027,
          2028,
          2029,
          2030,
          2031,
          2032,
          2033,
          2034,
          2035,
          2036,
          2037,
          2038,
          2039,
          2040,
          2041,
          2042,
          2043,
          2044,
          2045,
          2046,
          2047,
          2048,
          2049,
          2050
         ],
         "xaxis": "x2",
         "y": [
          13360.7519999999,
          13360.7519999999,
          13397.3567999999,
          13360.7519999999,
          13360.7519999999,
          13360.7519999999,
          13397.3567999999,
          13360.7519999999,
          13360.75200000042,
          13360.7519999999,
          13397.3567999999,
          13360.751999999651,
          13360.7519999999,
          13360.7519999999,
          13397.3567999999,
          13360.7519999999,
          13360.7519999999,
          13360.7519999999,
          13397.3567999999,
          13360.7519999999,
          13360.7519999999,
          13360.7519999999,
          13392.05579999992,
          13360.7519999999,
          13360.7519999999,
          13360.7519999999,
          13396.910399999899,
          12743.27521940351,
          6680.37599999995,
          0,
          0,
          0,
          0
         ],
         "yaxis": "y2"
        },
        {
         "legendgroup": "GAS",
         "marker": {
          "color": "#969696",
          "line": {
           "color": "white",
           "width": 0.05
          }
         },
         "name": "GAS",
         "type": "bar",
         "x": [
          2018,
          2019,
          2020,
          2021,
          2022,
          2023,
          2024,
          2025,
          2026,
          2027,
          2028,
          2029,
          2030,
          2031,
          2032,
          2033,
          2034,
          2035,
          2036,
          2037,
          2038,
          2039,
          2040,
          2041,
          2042,
          2043,
          2044,
          2045,
          2046,
          2047,
          2048,
          2049,
          2050
         ],
         "xaxis": "x",
         "y": [
          424.6,
          424.6,
          424.6,
          424.6,
          424.6,
          424.6,
          424.6,
          424.6,
          424.6,
          424.6,
          424.6,
          424.6,
          424.6,
          424.6,
          424.6,
          424.6,
          424.6,
          745.0625654800001,
          745.0625654800001,
          894.408214,
          1722.1955233600002,
          1722.1955233600002,
          1722.1955233600002,
          2499.60363544,
          2712.008683,
          2712.008683,
          2712.008683,
          2712.008683,
          4328.87116696,
          4328.87116696,
          6319.08749128,
          6319.08749128,
          6319.08749128
         ],
         "yaxis": "y"
        },
        {
         "legendgroup": "GAS",
         "marker": {
          "color": "#969696",
          "line": {
           "color": "white",
           "width": 0.05
          }
         },
         "name": "GAS",
         "showlegend": false,
         "type": "bar",
         "x": [
          2018,
          2019,
          2020,
          2021,
          2022,
          2023,
          2024,
          2025,
          2026,
          2027,
          2028,
          2029,
          2030,
          2031,
          2032,
          2033,
          2034,
          2035,
          2036,
          2037,
          2038,
          2039,
          2040,
          2041,
          2042,
          2043,
          2044,
          2045,
          2046,
          2047,
          2048,
          2049,
          2050
         ],
         "xaxis": "x2",
         "y": [
          2231.697599999993,
          2231.697599999993,
          2237.811839999993,
          2231.697599999993,
          2231.697599999993,
          2231.697599999993,
          2237.811839999993,
          2231.697599999993,
          2231.697599999993,
          2231.697599999993,
          2237.811839999993,
          2231.697599999993,
          2231.697599999993,
          2231.697599999993,
          2237.811839999993,
          2231.697599999993,
          2231.697599999993,
          2794.8505762457044,
          3001.400388783233,
          3125.757193551762,
          4687.679988560993,
          4563.641922244873,
          5089.073690167733,
          6082.339606169124,
          6481.777006819823,
          6506.3595329017635,
          6671.824928688303,
          6890.037969209983,
          9121.142712660072,
          9979.499271964032,
          13510.748728443603,
          13807.234520139693,
          15015.142857116432
         ],
         "yaxis": "y2"
        },
        {
         "legendgroup": "PEA",
         "marker": {
          "color": "#e8d2ca",
          "line": {
           "color": "white",
           "width": 0.05
          }
         },
         "name": "PEA",
         "type": "bar",
         "x": [
          2018,
          2019,
          2020,
          2021,
          2022,
          2023,
          2024,
          2025,
          2026,
          2027,
          2028,
          2029,
          2030,
          2031,
          2032,
          2033,
          2034,
          2035,
          2036,
          2037,
          2038,
          2039,
          2040,
          2041,
          2042,
          2043,
          2044,
          2045,
          2046,
          2047,
          2048,
          2049,
          2050
         ],
         "xaxis": "x",
         "y": [
          3405,
          3405,
          3405,
          3405,
          3405,
          3405,
          4461,
          4461,
          4119,
          6231,
          6231,
          6231,
          6231,
          6660.41738796,
          9275.659071959999,
          9886.95138348,
          9931.14183,
          10237.75619256,
          10237.75619256,
          12027.89292984,
          12469.46019216,
          11146.46019216,
          11146.46019216,
          11146.46019216,
          12756.81007176,
          13621.07110236,
          14012.97534432,
          14012.97534432,
          13292.8629174,
          13292.8629174,
          13294.14140868,
          13294.14140868,
          13294.14140868
         ],
         "yaxis": "y"
        },
        {
         "legendgroup": "PEA",
         "marker": {
          "color": "#e8d2ca",
          "line": {
           "color": "white",
           "width": 0.05
          }
         },
         "name": "PEA",
         "showlegend": false,
         "type": "bar",
         "x": [
          2018,
          2019,
          2020,
          2021,
          2022,
          2023,
          2024,
          2025,
          2026,
          2027,
          2028,
          2029,
          2030,
          2031,
          2032,
          2033,
          2034,
          2035,
          2036,
          2037,
          2038,
          2039,
          2040,
          2041,
          2042,
          2043,
          2044,
          2045,
          2046,
          2047,
          2048,
          2049,
          2050
         ],
         "xaxis": "x2",
         "y": [
          353.44437324994993,
          348.35466975900016,
          800.8390701604202,
          483.15107252623994,
          328.37077573673025,
          250.28827921762013,
          94.1448980634201,
          299.8294404182201,
          842.1848987479902,
          434.2938634027599,
          151.91311077835002,
          197.06751231509008,
          700.8797747817002,
          569.0384934500698,
          1519.19530562717,
          1028.209384153451,
          1234.3141732190602,
          2020.8940887325002,
          1685.79951920277,
          2855.10053488641,
          2342.7090732838396,
          2110.33362068215,
          1957.5087388647898,
          2636.7793501381702,
          2644.3801869618906,
          2944.05188597231,
          3417.51840754361,
          2342.58943654498,
          2710.79327475192,
          2955.12486881876,
          1712.21016407114,
          1953.50942317119,
          1527.0072564439
         ],
         "yaxis": "y2"
        },
        {
         "legendgroup": "HYD",
         "marker": {
          "color": "#2760a6",
          "line": {
           "color": "white",
           "width": 0.05
          }
         },
         "name": "HYD",
         "type": "bar",
         "x": [
          2018,
          2019,
          2020,
          2021,
          2022,
          2023,
          2024,
          2025,
          2026,
          2027,
          2028,
          2029,
          2030,
          2031,
          2032,
          2033,
          2034,
          2035,
          2036,
          2037,
          2038,
          2039,
          2040,
          2041,
          2042,
          2043,
          2044,
          2045,
          2046,
          2047,
          2048,
          2049,
          2050
         ],
         "xaxis": "x",
         "y": [
          2192,
          2192,
          2192,
          2192,
          2192,
          2192,
          2192,
          2192,
          2192,
          2192,
          2192,
          2192,
          4692,
          4692,
          4692,
          4692,
          4692,
          4692,
          4692,
          4692,
          4692,
          4692,
          4692,
          4692,
          4692,
          4692,
          4692,
          4692,
          4692,
          4692,
          4692,
          4692,
          4692
         ],
         "yaxis": "y"
        },
        {
         "legendgroup": "HYD",
         "marker": {
          "color": "#2760a6",
          "line": {
           "color": "white",
           "width": 0.05
          }
         },
         "name": "HYD",
         "showlegend": false,
         "type": "bar",
         "x": [
          2018,
          2019,
          2020,
          2021,
          2022,
          2023,
          2024,
          2025,
          2026,
          2027,
          2028,
          2029,
          2030,
          2031,
          2032,
          2033,
          2034,
          2035,
          2036,
          2037,
          2038,
          2039,
          2040,
          2041,
          2042,
          2043,
          2044,
          2045,
          2046,
          2047,
          2048,
          2049,
          2050
         ],
         "xaxis": "x2",
         "y": [
          13170.843396723352,
          13166.176989901793,
          13203.980348171764,
          13168.060368107394,
          13169.303392606535,
          13175.258399999253,
          13205.34245174543,
          13174.003891398048,
          13160.695641155195,
          13170.903151838791,
          13197.946844210759,
          13167.044079049763,
          28492.03290683737,
          28496.215963909704,
          28566.543799936255,
          28494.638513438134,
          28478.69779802979,
          28497.41838968266,
          28551.634083228415,
          28470.958243495592,
          28418.886748521625,
          28451.464123691723,
          28501.778281873514,
          28448.143471175572,
          28383.618722312807,
          28449.070963656275,
          28453.06746928879,
          28392.535014694207,
          28427.19886639562,
          28323.384936639006,
          28279.97926859354,
          28122.216399892965,
          28497.967477597194
         ],
         "yaxis": "y2"
        },
        {
         "legendgroup": "WIN",
         "marker": {
          "color": "#9db1cf",
          "line": {
           "color": "white",
           "width": 0.05
          }
         },
         "name": "WIN",
         "type": "bar",
         "x": [
          2018,
          2019,
          2020,
          2021,
          2022,
          2023,
          2024,
          2025,
          2026,
          2027,
          2028,
          2029,
          2030,
          2031,
          2032,
          2033,
          2034,
          2035,
          2036,
          2037,
          2038,
          2039,
          2040,
          2041,
          2042,
          2043,
          2044,
          2045,
          2046,
          2047,
          2048,
          2049,
          2050
         ],
         "xaxis": "x",
         "y": [
          2086,
          2086,
          2226,
          2762,
          4362,
          5962,
          7562,
          9162,
          10762,
          12362,
          13962,
          15562,
          17162,
          18762,
          20362,
          21962,
          22526,
          23076,
          24676,
          26276,
          27876,
          29476,
          30940,
          32000,
          32000,
          32000,
          32000,
          32000,
          32000,
          32000,
          32000,
          32000,
          32000
         ],
         "yaxis": "y"
        },
        {
         "legendgroup": "WIN",
         "marker": {
          "color": "#9db1cf",
          "line": {
           "color": "white",
           "width": 0.05
          }
         },
         "name": "WIN",
         "showlegend": false,
         "type": "bar",
         "x": [
          2018,
          2019,
          2020,
          2021,
          2022,
          2023,
          2024,
          2025,
          2026,
          2027,
          2028,
          2029,
          2030,
          2031,
          2032,
          2033,
          2034,
          2035,
          2036,
          2037,
          2038,
          2039,
          2040,
          2041,
          2042,
          2043,
          2044,
          2045,
          2046,
          2047,
          2048,
          2049,
          2050
         ],
         "xaxis": "x2",
         "y": [
          6512.3876875674405,
          6509.177645069831,
          7830.13202628779,
          8612.2687062952,
          13550.679650313969,
          18450.35096354177,
          23477.78291160823,
          28328.71013295814,
          33230.25538330545,
          38143.90437083397,
          43208.78766676685,
          48037.804047138845,
          54703.71991275269,
          57882.18932850955,
          62970.51456159339,
          67714.27849203191,
          67621.75016478343,
          71083.59423034386,
          76210.61915503236,
          80942.77154523974,
          85864.83514483886,
          90787.08726651175,
          94657.7345734297,
          98534.3729270177,
          98534.3729261279,
          98534.3729257185,
          98792.1760162012,
          98534.3729267519,
          98534.3729261246,
          98534.3729270177,
          98792.1760149982,
          98534.3729266398,
          98534.3729260802
         ],
         "yaxis": "y2"
        },
        {
         "legendgroup": "CSP",
         "marker": {
          "color": "#eea632",
          "line": {
           "color": "white",
           "width": 0.05
          }
         },
         "name": "CSP",
         "type": "bar",
         "x": [
          2018,
          2019,
          2020,
          2021,
          2022,
          2023,
          2024,
          2025,
          2026,
          2027,
          2028,
          2029,
          2030,
          2031,
          2032,
          2033,
          2034,
          2035,
          2036,
          2037,
          2038,
          2039,
          2040,
          2041,
          2042,
          2043,
          2044,
          2045,
          2046,
          2047,
          2048,
          2049,
          2050
         ],
         "xaxis": "x",
         "y": [
          400,
          500,
          500,
          600,
          600,
          600,
          600,
          600,
          600,
          600,
          600,
          600,
          600,
          600,
          600,
          600,
          600,
          600,
          600,
          600,
          600,
          600,
          600,
          600,
          600,
          600,
          600,
          500,
          400,
          200,
          591.926781,
          1744.360346,
          2001.098882
         ],
         "yaxis": "y"
        },
        {
         "legendgroup": "CSP",
         "marker": {
          "color": "#eea632",
          "line": {
           "color": "white",
           "width": 0.05
          }
         },
         "name": "CSP",
         "showlegend": false,
         "type": "bar",
         "x": [
          2018,
          2019,
          2020,
          2021,
          2022,
          2023,
          2024,
          2025,
          2026,
          2027,
          2028,
          2029,
          2030,
          2031,
          2032,
          2033,
          2034,
          2035,
          2036,
          2037,
          2038,
          2039,
          2040,
          2041,
          2042,
          2043,
          2044,
          2045,
          2046,
          2047,
          2048,
          2049,
          2050
         ],
         "xaxis": "x2",
         "y": [
          1880.432598643549,
          1891.959248874969,
          1914.7838240716092,
          1916.681461079539,
          1921.715468269299,
          1900.342716249709,
          1891.8381151868389,
          1900.840030394779,
          1927.4135261438892,
          1890.2265281841492,
          1891.553790415649,
          1887.030548715079,
          1898.2283158506189,
          1900.840030394779,
          1912.7388297671291,
          1894.085983533469,
          1889.1836930476989,
          1900.4647547196191,
          1902.5290211135089,
          1893.9935848261389,
          1892.906848593229,
          1885.639554773029,
          1885.584468776819,
          1893.9935848261389,
          1893.9935848261389,
          1892.891089295299,
          1894.214187256649,
          1486.601366357258,
          975.506169864876,
          13.56098618259,
          2406.1079732058797,
          8546.54908493929,
          9812.09540800789
         ],
         "yaxis": "y2"
        },
        {
         "legendgroup": "SPV",
         "marker": {
          "color": "#ffed11",
          "line": {
           "color": "white",
           "width": 0.05
          }
         },
         "name": "SPV",
         "type": "bar",
         "x": [
          2018,
          2019,
          2020,
          2021,
          2022,
          2023,
          2024,
          2025,
          2026,
          2027,
          2028,
          2029,
          2030,
          2031,
          2032,
          2033,
          2034,
          2035,
          2036,
          2037,
          2038,
          2039,
          2040,
          2041,
          2042,
          2043,
          2044,
          2045,
          2046,
          2047,
          2048,
          2049,
          2050
         ],
         "xaxis": "x",
         "y": [
          1479,
          1594,
          1669,
          1894,
          2894,
          3894,
          3894,
          4894,
          4894,
          4894,
          5894,
          6894,
          7894,
          7894,
          7894,
          7894,
          7894,
          7894,
          7894,
          7894,
          7894,
          7894,
          7673.387336,
          7673.387336,
          8238.387336,
          9238.387336,
          10238.387336,
          11238.387336,
          11823.387336,
          11823.387336,
          11823.387336,
          12823.387336,
          12823.387336
         ],
         "yaxis": "y"
        },
        {
         "legendgroup": "SPV",
         "marker": {
          "color": "#ffed11",
          "line": {
           "color": "white",
           "width": 0.05
          }
         },
         "name": "SPV",
         "showlegend": false,
         "type": "bar",
         "x": [
          2018,
          2019,
          2020,
          2021,
          2022,
          2023,
          2024,
          2025,
          2026,
          2027,
          2028,
          2029,
          2030,
          2031,
          2032,
          2033,
          2034,
          2035,
          2036,
          2037,
          2038,
          2039,
          2040,
          2041,
          2042,
          2043,
          2044,
          2045,
          2046,
          2047,
          2048,
          2049,
          2050
         ],
         "xaxis": "x2",
         "y": [
          3292.892247926226,
          3530.6433471105875,
          4072.6589553733847,
          4216.861334335685,
          5999.9494470729005,
          7780.771542332698,
          7806.962688680762,
          9562.892849822823,
          9563.651988778707,
          9564.058545782082,
          11381.304957904726,
          13128.38051823968,
          14910.66857975926,
          14909.413012050683,
          14956.760230056301,
          14909.974943723118,
          14914.399767431612,
          14917.044384650842,
          14957.630229554,
          14919.92688557968,
          14916.538341927278,
          13958.96468663911,
          14095.877688673996,
          14063.7515892796,
          14868.420407951451,
          16649.37308070945,
          18485.741729088004,
          19770.913862175803,
          21077.1459091037,
          21077.3974659914,
          21134.4047962397,
          22856.9234291358,
          22865.0878237694
         ],
         "yaxis": "y2"
        },
        {
         "legendgroup": "DPV",
         "marker": {
          "color": "#d7c700",
          "line": {
           "color": "white",
           "width": 0.05
          }
         },
         "name": "DPV",
         "type": "bar",
         "x": [
          2018,
          2019,
          2020,
          2021,
          2022,
          2023,
          2024,
          2025,
          2026,
          2027,
          2028,
          2029,
          2030,
          2031,
          2032,
          2033,
          2034,
          2035,
          2036,
          2037,
          2038,
          2039,
          2040,
          2041,
          2042,
          2043,
          2044,
          2045,
          2046,
          2047,
          2048,
          2049,
          2050
         ],
         "xaxis": "x",
         "y": [
          584,
          584,
          584,
          584,
          584,
          1084,
          1584,
          2084,
          2584,
          3084,
          3584,
          4084,
          4584,
          4584,
          4584,
          4584,
          4584,
          4584,
          4584,
          4584,
          4584,
          4430,
          4310,
          4200,
          4000,
          4000,
          4000,
          4000,
          4000,
          3500,
          3000,
          2500,
          2000
         ],
         "yaxis": "y"
        },
        {
         "legendgroup": "DPV",
         "marker": {
          "color": "#d7c700",
          "line": {
           "color": "white",
           "width": 0.05
          }
         },
         "name": "DPV",
         "showlegend": false,
         "type": "bar",
         "x": [
          2018,
          2019,
          2020,
          2021,
          2022,
          2023,
          2024,
          2025,
          2026,
          2027,
          2028,
          2029,
          2030,
          2031,
          2032,
          2033,
          2034,
          2035,
          2036,
          2037,
          2038,
          2039,
          2040,
          2041,
          2042,
          2043,
          2044,
          2045,
          2046,
          2047,
          2048,
          2049,
          2050
         ],
         "xaxis": "x2",
         "y": [
          1041.47248619552,
          1041.47248675032,
          1044.58243093992,
          1041.47248680288,
          1041.472486908,
          1933.14413775284,
          2833.25097800449,
          3716.48743722084,
          4608.15923058615,
          5499.83073510286,
          6410.58806700032,
          7283.17403920115,
          8174.84568367029,
          8174.84568724585,
          8199.25675091712,
          8174.84568788761,
          8174.84568953785,
          8174.84568944617,
          8199.25662169414,
          8174.84594156613,
          8174.84568435791,
          7900.21081966452,
          7709.16142692429,
          7490.04185676601,
          7133.37320003999,
          7133.37342195999,
          7154.6741818,
          7133.37320203999,
          7133.37320196001,
          6241.70154730501,
          5366.00563761001,
          4458.3582483,
          3566.68660030001
         ],
         "yaxis": "y2"
        },
        {
         "legendgroup": "BIO",
         "marker": {
          "color": "#007770",
          "line": {
           "color": "white",
           "width": 0.05
          }
         },
         "name": "BIO",
         "type": "bar",
         "x": [
          2018,
          2019,
          2020,
          2021,
          2022,
          2023,
          2024,
          2025,
          2026,
          2027,
          2028,
          2029,
          2030,
          2031,
          2032,
          2033,
          2034,
          2035,
          2036,
          2037,
          2038,
          2039,
          2040,
          2041,
          2042,
          2043,
          2044,
          2045,
          2046,
          2047,
          2048,
          2049,
          2050
         ],
         "xaxis": "x",
         "y": [
          282,
          282,
          307,
          307,
          307,
          307,
          307,
          307,
          307,
          307,
          307,
          307,
          307,
          307,
          556.3150564,
          556.99811135,
          556.99811135,
          556.99811135,
          556.99811135,
          556.99811135,
          556.99811135,
          556.99811135,
          556.99811135,
          556.99811135,
          556.99811135,
          556.99811135,
          556.99811135,
          556.99811135,
          556.99811135,
          538.99811135,
          538.99811135,
          538.99811135,
          513.99811135
         ],
         "yaxis": "y"
        },
        {
         "legendgroup": "BIO",
         "marker": {
          "color": "#007770",
          "line": {
           "color": "white",
           "width": 0.05
          }
         },
         "name": "BIO",
         "showlegend": false,
         "type": "bar",
         "x": [
          2018,
          2019,
          2020,
          2021,
          2022,
          2023,
          2024,
          2025,
          2026,
          2027,
          2028,
          2029,
          2030,
          2031,
          2032,
          2033,
          2034,
          2035,
          2036,
          2037,
          2038,
          2039,
          2040,
          2041,
          2042,
          2043,
          2044,
          2045,
          2046,
          2047,
          2048,
          2049,
          2050
         ],
         "xaxis": "x2",
         "y": [
          1915.230929810528,
          1783.210235064739,
          1944.69615645101,
          1931.5612474976083,
          1930.0059680502022,
          1936.0713407550088,
          1929.493764932431,
          1927.444365814067,
          1920.723837771919,
          1927.012295689627,
          1926.505511428827,
          1929.9036982760063,
          1920.191999999813,
          1920.1920000001182,
          3787.2892912261077,
          3781.6779372481483,
          3805.221457247792,
          3790.5313972036793,
          3804.529988114908,
          3789.2944826034563,
          3784.2171757785923,
          3789.103550050035,
          3803.953939418887,
          3782.452344836468,
          3797.314712855948,
          3784.0135586934084,
          3795.6274719211897,
          3790.059730900519,
          3789.43702996797,
          3659.657699917333,
          3670.242306570971,
          3662.7220479668194,
          3722.503537247154
         ],
         "yaxis": "y2"
        },
        {
         "legendgroup": "PST",
         "marker": {
          "color": "#dfe5ef",
          "line": {
           "color": "white",
           "width": 0.05
          }
         },
         "name": "PST",
         "type": "bar",
         "x": [
          2018,
          2019,
          2020,
          2021,
          2022,
          2023,
          2024,
          2025,
          2026,
          2027,
          2028,
          2029,
          2030,
          2031,
          2032,
          2033,
          2034,
          2035,
          2036,
          2037,
          2038,
          2039,
          2040,
          2041,
          2042,
          2043,
          2044,
          2045,
          2046,
          2047,
          2048,
          2049,
          2050
         ],
         "xaxis": "x",
         "y": [
          2912,
          2912,
          2912,
          2912,
          2912,
          2912,
          2912,
          2912,
          2912,
          2912,
          2912,
          2912,
          2912,
          2912,
          2912,
          2912,
          2912,
          2912,
          2912,
          2912,
          2912,
          2912,
          2912,
          2912,
          2912,
          2912,
          2912,
          2912,
          2912,
          2912,
          2912,
          2912,
          2912
         ],
         "yaxis": "y"
        },
        {
         "legendgroup": "PST",
         "marker": {
          "color": "#dfe5ef",
          "line": {
           "color": "white",
           "width": 0.05
          }
         },
         "name": "PST",
         "showlegend": false,
         "type": "bar",
         "x": [
          2018,
          2019,
          2020,
          2021,
          2022,
          2023,
          2024,
          2025,
          2026,
          2027,
          2028,
          2029,
          2030,
          2031,
          2032,
          2033,
          2034,
          2035,
          2036,
          2037,
          2038,
          2039,
          2040,
          2041,
          2042,
          2043,
          2044,
          2045,
          2046,
          2047,
          2048,
          2049,
          2050
         ],
         "xaxis": "x2",
         "y": [
          1325.056054571328,
          880.79516787456,
          1991.48640596321,
          1189.784038895148,
          1147.3138852932198,
          693.4272755457511,
          504.35771015297,
          633.220718357661,
          1175.7319625298012,
          1083.047410478518,
          777.2673569853108,
          1093.21737919169,
          822.83429003928,
          916.7174778904199,
          2058.5064997729405,
          3370.372131661621,
          4161.308777753321,
          4028.325993397969,
          4701.07046473318,
          5933.427979051911,
          4602.17526384234,
          5319.182152776701,
          6778.617284672833,
          6098.285411703149,
          7089.173928894639,
          6824.726091939271,
          5520.088882665741,
          5929.20989798669,
          5481.65388648662,
          6748.070136395362,
          6588.281953236831,
          4663.741280371471,
          5662.6844817392885
         ],
         "yaxis": "y2"
        }
       ],
       "layout": {
        "annotations": [
         {
          "font": {
           "size": 16
          },
          "showarrow": false,
          "text": "<b>Installed capacity [MW]</b>",
          "x": 0.225,
          "xanchor": "center",
          "xref": "paper",
          "y": 1,
          "yanchor": "bottom",
          "yref": "paper"
         },
         {
          "font": {
           "size": 16
          },
          "showarrow": false,
          "text": "<b>Energy produced [GWh]</b>",
          "x": 0.775,
          "xanchor": "center",
          "xref": "paper",
          "y": 1,
          "yanchor": "bottom",
          "yref": "paper"
         }
        ],
        "barmode": "stack",
        "hovermode": "x",
        "paper_bgcolor": "rgba(0,0,0,0)",
        "plot_bgcolor": "rgba(0,0,0,0)",
        "template": {
         "data": {
          "bar": [
           {
            "error_x": {
             "color": "#2a3f5f"
            },
            "error_y": {
             "color": "#2a3f5f"
            },
            "marker": {
             "line": {
              "color": "#E5ECF6",
              "width": 0.5
             }
            },
            "type": "bar"
           }
          ],
          "barpolar": [
           {
            "marker": {
             "line": {
              "color": "#E5ECF6",
              "width": 0.5
             }
            },
            "type": "barpolar"
           }
          ],
          "carpet": [
           {
            "aaxis": {
             "endlinecolor": "#2a3f5f",
             "gridcolor": "white",
             "linecolor": "white",
             "minorgridcolor": "white",
             "startlinecolor": "#2a3f5f"
            },
            "baxis": {
             "endlinecolor": "#2a3f5f",
             "gridcolor": "white",
             "linecolor": "white",
             "minorgridcolor": "white",
             "startlinecolor": "#2a3f5f"
            },
            "type": "carpet"
           }
          ],
          "choropleth": [
           {
            "colorbar": {
             "outlinewidth": 0,
             "ticks": ""
            },
            "type": "choropleth"
           }
          ],
          "contour": [
           {
            "colorbar": {
             "outlinewidth": 0,
             "ticks": ""
            },
            "colorscale": [
             [
              0,
              "#0d0887"
             ],
             [
              0.1111111111111111,
              "#46039f"
             ],
             [
              0.2222222222222222,
              "#7201a8"
             ],
             [
              0.3333333333333333,
              "#9c179e"
             ],
             [
              0.4444444444444444,
              "#bd3786"
             ],
             [
              0.5555555555555556,
              "#d8576b"
             ],
             [
              0.6666666666666666,
              "#ed7953"
             ],
             [
              0.7777777777777778,
              "#fb9f3a"
             ],
             [
              0.8888888888888888,
              "#fdca26"
             ],
             [
              1,
              "#f0f921"
             ]
            ],
            "type": "contour"
           }
          ],
          "contourcarpet": [
           {
            "colorbar": {
             "outlinewidth": 0,
             "ticks": ""
            },
            "type": "contourcarpet"
           }
          ],
          "heatmap": [
           {
            "colorbar": {
             "outlinewidth": 0,
             "ticks": ""
            },
            "colorscale": [
             [
              0,
              "#0d0887"
             ],
             [
              0.1111111111111111,
              "#46039f"
             ],
             [
              0.2222222222222222,
              "#7201a8"
             ],
             [
              0.3333333333333333,
              "#9c179e"
             ],
             [
              0.4444444444444444,
              "#bd3786"
             ],
             [
              0.5555555555555556,
              "#d8576b"
             ],
             [
              0.6666666666666666,
              "#ed7953"
             ],
             [
              0.7777777777777778,
              "#fb9f3a"
             ],
             [
              0.8888888888888888,
              "#fdca26"
             ],
             [
              1,
              "#f0f921"
             ]
            ],
            "type": "heatmap"
           }
          ],
          "heatmapgl": [
           {
            "colorbar": {
             "outlinewidth": 0,
             "ticks": ""
            },
            "colorscale": [
             [
              0,
              "#0d0887"
             ],
             [
              0.1111111111111111,
              "#46039f"
             ],
             [
              0.2222222222222222,
              "#7201a8"
             ],
             [
              0.3333333333333333,
              "#9c179e"
             ],
             [
              0.4444444444444444,
              "#bd3786"
             ],
             [
              0.5555555555555556,
              "#d8576b"
             ],
             [
              0.6666666666666666,
              "#ed7953"
             ],
             [
              0.7777777777777778,
              "#fb9f3a"
             ],
             [
              0.8888888888888888,
              "#fdca26"
             ],
             [
              1,
              "#f0f921"
             ]
            ],
            "type": "heatmapgl"
           }
          ],
          "histogram": [
           {
            "marker": {
             "colorbar": {
              "outlinewidth": 0,
              "ticks": ""
             }
            },
            "type": "histogram"
           }
          ],
          "histogram2d": [
           {
            "colorbar": {
             "outlinewidth": 0,
             "ticks": ""
            },
            "colorscale": [
             [
              0,
              "#0d0887"
             ],
             [
              0.1111111111111111,
              "#46039f"
             ],
             [
              0.2222222222222222,
              "#7201a8"
             ],
             [
              0.3333333333333333,
              "#9c179e"
             ],
             [
              0.4444444444444444,
              "#bd3786"
             ],
             [
              0.5555555555555556,
              "#d8576b"
             ],
             [
              0.6666666666666666,
              "#ed7953"
             ],
             [
              0.7777777777777778,
              "#fb9f3a"
             ],
             [
              0.8888888888888888,
              "#fdca26"
             ],
             [
              1,
              "#f0f921"
             ]
            ],
            "type": "histogram2d"
           }
          ],
          "histogram2dcontour": [
           {
            "colorbar": {
             "outlinewidth": 0,
             "ticks": ""
            },
            "colorscale": [
             [
              0,
              "#0d0887"
             ],
             [
              0.1111111111111111,
              "#46039f"
             ],
             [
              0.2222222222222222,
              "#7201a8"
             ],
             [
              0.3333333333333333,
              "#9c179e"
             ],
             [
              0.4444444444444444,
              "#bd3786"
             ],
             [
              0.5555555555555556,
              "#d8576b"
             ],
             [
              0.6666666666666666,
              "#ed7953"
             ],
             [
              0.7777777777777778,
              "#fb9f3a"
             ],
             [
              0.8888888888888888,
              "#fdca26"
             ],
             [
              1,
              "#f0f921"
             ]
            ],
            "type": "histogram2dcontour"
           }
          ],
          "mesh3d": [
           {
            "colorbar": {
             "outlinewidth": 0,
             "ticks": ""
            },
            "type": "mesh3d"
           }
          ],
          "parcoords": [
           {
            "line": {
             "colorbar": {
              "outlinewidth": 0,
              "ticks": ""
             }
            },
            "type": "parcoords"
           }
          ],
          "scatter": [
           {
            "marker": {
             "colorbar": {
              "outlinewidth": 0,
              "ticks": ""
             }
            },
            "type": "scatter"
           }
          ],
          "scatter3d": [
           {
            "line": {
             "colorbar": {
              "outlinewidth": 0,
              "ticks": ""
             }
            },
            "marker": {
             "colorbar": {
              "outlinewidth": 0,
              "ticks": ""
             }
            },
            "type": "scatter3d"
           }
          ],
          "scattercarpet": [
           {
            "marker": {
             "colorbar": {
              "outlinewidth": 0,
              "ticks": ""
             }
            },
            "type": "scattercarpet"
           }
          ],
          "scattergeo": [
           {
            "marker": {
             "colorbar": {
              "outlinewidth": 0,
              "ticks": ""
             }
            },
            "type": "scattergeo"
           }
          ],
          "scattergl": [
           {
            "marker": {
             "colorbar": {
              "outlinewidth": 0,
              "ticks": ""
             }
            },
            "type": "scattergl"
           }
          ],
          "scattermapbox": [
           {
            "marker": {
             "colorbar": {
              "outlinewidth": 0,
              "ticks": ""
             }
            },
            "type": "scattermapbox"
           }
          ],
          "scatterpolar": [
           {
            "marker": {
             "colorbar": {
              "outlinewidth": 0,
              "ticks": ""
             }
            },
            "type": "scatterpolar"
           }
          ],
          "scatterpolargl": [
           {
            "marker": {
             "colorbar": {
              "outlinewidth": 0,
              "ticks": ""
             }
            },
            "type": "scatterpolargl"
           }
          ],
          "scatterternary": [
           {
            "marker": {
             "colorbar": {
              "outlinewidth": 0,
              "ticks": ""
             }
            },
            "type": "scatterternary"
           }
          ],
          "surface": [
           {
            "colorbar": {
             "outlinewidth": 0,
             "ticks": ""
            },
            "colorscale": [
             [
              0,
              "#0d0887"
             ],
             [
              0.1111111111111111,
              "#46039f"
             ],
             [
              0.2222222222222222,
              "#7201a8"
             ],
             [
              0.3333333333333333,
              "#9c179e"
             ],
             [
              0.4444444444444444,
              "#bd3786"
             ],
             [
              0.5555555555555556,
              "#d8576b"
             ],
             [
              0.6666666666666666,
              "#ed7953"
             ],
             [
              0.7777777777777778,
              "#fb9f3a"
             ],
             [
              0.8888888888888888,
              "#fdca26"
             ],
             [
              1,
              "#f0f921"
             ]
            ],
            "type": "surface"
           }
          ],
          "table": [
           {
            "cells": {
             "fill": {
              "color": "#EBF0F8"
             },
             "line": {
              "color": "white"
             }
            },
            "header": {
             "fill": {
              "color": "#C8D4E3"
             },
             "line": {
              "color": "white"
             }
            },
            "type": "table"
           }
          ]
         },
         "layout": {
          "annotationdefaults": {
           "arrowcolor": "#2a3f5f",
           "arrowhead": 0,
           "arrowwidth": 1
          },
          "colorscale": {
           "diverging": [
            [
             0,
             "#8e0152"
            ],
            [
             0.1,
             "#c51b7d"
            ],
            [
             0.2,
             "#de77ae"
            ],
            [
             0.3,
             "#f1b6da"
            ],
            [
             0.4,
             "#fde0ef"
            ],
            [
             0.5,
             "#f7f7f7"
            ],
            [
             0.6,
             "#e6f5d0"
            ],
            [
             0.7,
             "#b8e186"
            ],
            [
             0.8,
             "#7fbc41"
            ],
            [
             0.9,
             "#4d9221"
            ],
            [
             1,
             "#276419"
            ]
           ],
           "sequential": [
            [
             0,
             "#0d0887"
            ],
            [
             0.1111111111111111,
             "#46039f"
            ],
            [
             0.2222222222222222,
             "#7201a8"
            ],
            [
             0.3333333333333333,
             "#9c179e"
            ],
            [
             0.4444444444444444,
             "#bd3786"
            ],
            [
             0.5555555555555556,
             "#d8576b"
            ],
            [
             0.6666666666666666,
             "#ed7953"
            ],
            [
             0.7777777777777778,
             "#fb9f3a"
            ],
            [
             0.8888888888888888,
             "#fdca26"
            ],
            [
             1,
             "#f0f921"
            ]
           ],
           "sequentialminus": [
            [
             0,
             "#0d0887"
            ],
            [
             0.1111111111111111,
             "#46039f"
            ],
            [
             0.2222222222222222,
             "#7201a8"
            ],
            [
             0.3333333333333333,
             "#9c179e"
            ],
            [
             0.4444444444444444,
             "#bd3786"
            ],
            [
             0.5555555555555556,
             "#d8576b"
            ],
            [
             0.6666666666666666,
             "#ed7953"
            ],
            [
             0.7777777777777778,
             "#fb9f3a"
            ],
            [
             0.8888888888888888,
             "#fdca26"
            ],
            [
             1,
             "#f0f921"
            ]
           ]
          },
          "colorway": [
           "#636efa",
           "#EF553B",
           "#00cc96",
           "#ab63fa",
           "#FFA15A",
           "#19d3f3",
           "#FF6692",
           "#B6E880",
           "#FF97FF",
           "#FECB52"
          ],
          "font": {
           "color": "#2a3f5f"
          },
          "geo": {
           "bgcolor": "white",
           "lakecolor": "white",
           "landcolor": "#E5ECF6",
           "showlakes": true,
           "showland": true,
           "subunitcolor": "white"
          },
          "hoverlabel": {
           "align": "left"
          },
          "hovermode": "closest",
          "mapbox": {
           "style": "light"
          },
          "paper_bgcolor": "white",
          "plot_bgcolor": "#E5ECF6",
          "polar": {
           "angularaxis": {
            "gridcolor": "white",
            "linecolor": "white",
            "ticks": ""
           },
           "bgcolor": "#E5ECF6",
           "radialaxis": {
            "gridcolor": "white",
            "linecolor": "white",
            "ticks": ""
           }
          },
          "scene": {
           "xaxis": {
            "backgroundcolor": "#E5ECF6",
            "gridcolor": "white",
            "gridwidth": 2,
            "linecolor": "white",
            "showbackground": true,
            "ticks": "",
            "zerolinecolor": "white"
           },
           "yaxis": {
            "backgroundcolor": "#E5ECF6",
            "gridcolor": "white",
            "gridwidth": 2,
            "linecolor": "white",
            "showbackground": true,
            "ticks": "",
            "zerolinecolor": "white"
           },
           "zaxis": {
            "backgroundcolor": "#E5ECF6",
            "gridcolor": "white",
            "gridwidth": 2,
            "linecolor": "white",
            "showbackground": true,
            "ticks": "",
            "zerolinecolor": "white"
           }
          },
          "shapedefaults": {
           "line": {
            "color": "#2a3f5f"
           }
          },
          "ternary": {
           "aaxis": {
            "gridcolor": "white",
            "linecolor": "white",
            "ticks": ""
           },
           "baxis": {
            "gridcolor": "white",
            "linecolor": "white",
            "ticks": ""
           },
           "bgcolor": "#E5ECF6",
           "caxis": {
            "gridcolor": "white",
            "linecolor": "white",
            "ticks": ""
           }
          },
          "title": {
           "x": 0.05
          },
          "xaxis": {
           "automargin": true,
           "gridcolor": "white",
           "linecolor": "white",
           "ticks": "",
           "zerolinecolor": "white",
           "zerolinewidth": 2
          },
          "yaxis": {
           "automargin": true,
           "gridcolor": "white",
           "linecolor": "white",
           "ticks": "",
           "zerolinecolor": "white",
           "zerolinewidth": 2
          }
         }
        },
        "title": {
         "font": {
          "size": 30
         },
         "text": "IRP 2019"
        },
        "xaxis": {
         "anchor": "y",
         "categoryorder": "category ascending",
         "domain": [
          0,
          0.45
         ]
        },
        "xaxis2": {
         "anchor": "y2",
         "domain": [
          0.55,
          1
         ]
        },
        "yaxis": {
         "anchor": "x",
         "domain": [
          0,
          1
         ],
         "gridcolor": "lightgray",
         "gridwidth": 0.25,
         "showgrid": true
        },
        "yaxis2": {
         "anchor": "x2",
         "domain": [
          0,
          1
         ],
         "gridcolor": "lightgray",
         "gridwidth": 0.25,
         "showgrid": true
        }
       }
      },
      "text/html": [
       "<div>\n",
       "        \n",
       "        \n",
       "            <div id=\"1a76c79e-ad0a-4384-9aa4-8236604ac861\" class=\"plotly-graph-div\" style=\"height:525px; width:100%;\"></div>\n",
       "            <script type=\"text/javascript\">\n",
       "                require([\"plotly\"], function(Plotly) {\n",
       "                    window.PLOTLYENV=window.PLOTLYENV || {};\n",
       "                    \n",
       "                if (document.getElementById(\"1a76c79e-ad0a-4384-9aa4-8236604ac861\")) {\n",
       "                    Plotly.newPlot(\n",
       "                        '1a76c79e-ad0a-4384-9aa4-8236604ac861',\n",
       "                        [{\"legendgroup\": \"COA\", \"marker\": {\"color\": \"#8c664a\", \"line\": {\"color\": \"white\", \"width\": 0.05}}, \"name\": \"COA\", \"type\": \"bar\", \"x\": [2018, 2019, 2020, 2021, 2022, 2023, 2024, 2025, 2026, 2027, 2028, 2029, 2030, 2031, 2032, 2033, 2034, 2035, 2036, 2037, 2038, 2039, 2040, 2041, 2042, 2043, 2044, 2045, 2046, 2047, 2048, 2049, 2050], \"xaxis\": \"x\", \"y\": [37625.0, 38671.0, 37457.0, 38038.0, 38014.0, 38964.0, 38758.0, 38438.0, 37112.0, 37326.0, 37326.0, 35801.0, 32941.0, 31791.0, 30066.0, 28916.0, 28341.0, 28092.112595, 27565.746995, 27047.32085, 26931.013254999998, 26996.93121, 26381.93121, 25605.19881, 26164.365005, 26241.759425, 26430.8497, 26430.8497, 27351.500305, 28150.8733, 28337.52733, 27670.52733, 27003.52733], \"yaxis\": \"y\"}, {\"legendgroup\": \"COA\", \"marker\": {\"color\": \"#8c664a\", \"line\": {\"color\": \"white\", \"width\": 0.05}}, \"name\": \"COA\", \"showlegend\": false, \"type\": \"bar\", \"x\": [2018, 2019, 2020, 2021, 2022, 2023, 2024, 2025, 2026, 2027, 2028, 2029, 2030, 2031, 2032, 2033, 2034, 2035, 2036, 2037, 2038, 2039, 2040, 2041, 2042, 2043, 2044, 2045, 2046, 2047, 2048, 2049, 2050], \"xaxis\": \"x2\", \"y\": [202872.14333822424, 208471.81035158387, 212423.17749785775, 216953.88926384004, 216254.76189451705, 213183.74267469603, 214179.8057440718, 210031.78062643437, 208307.48523199366, 207627.04890529552, 203427.430094358, 200289.96436011195, 180217.9808601713, 180071.63314618252, 176964.06219811935, 176988.43592360808, 181545.4858851576, 180264.34415838207, 179164.50560427387, 177964.49334010133, 175135.59054477865, 175120.69708474987, 175418.2106488407, 173342.35889664938, 177493.7004436106, 178271.986921683, 179061.6653390064, 184113.43904605572, 190687.3375553544, 202008.71233908783, 202128.47282669478, 197823.1091295798, 200449.4258521563], \"yaxis\": \"y2\"}, {\"legendgroup\": \"NUC\", \"marker\": {\"color\": \"#ff270f\", \"line\": {\"color\": \"white\", \"width\": 0.05}}, \"name\": \"NUC\", \"type\": \"bar\", \"x\": [2018, 2019, 2020, 2021, 2022, 2023, 2024, 2025, 2026, 2027, 2028, 2029, 2030, 2031, 2032, 2033, 2034, 2035, 2036, 2037, 2038, 2039, 2040, 2041, 2042, 2043, 2044, 2045, 2046, 2047, 2048, 2049, 2050], \"xaxis\": \"x\", \"y\": [1860, 1860, 1860, 1860, 1860, 1860, 1860, 1860, 1860, 1860, 1860, 1860, 1860, 1860, 1860, 1860, 1860, 1860, 1860, 1860, 1860, 1860, 1860, 1860, 1860, 1860, 1860, 1860, 930, 0, 0, 0, 0], \"yaxis\": \"y\"}, {\"legendgroup\": \"NUC\", \"marker\": {\"color\": \"#ff270f\", \"line\": {\"color\": \"white\", \"width\": 0.05}}, \"name\": \"NUC\", \"showlegend\": false, \"type\": \"bar\", \"x\": [2018, 2019, 2020, 2021, 2022, 2023, 2024, 2025, 2026, 2027, 2028, 2029, 2030, 2031, 2032, 2033, 2034, 2035, 2036, 2037, 2038, 2039, 2040, 2041, 2042, 2043, 2044, 2045, 2046, 2047, 2048, 2049, 2050], \"xaxis\": \"x2\", \"y\": [13360.7519999999, 13360.7519999999, 13397.3567999999, 13360.7519999999, 13360.7519999999, 13360.7519999999, 13397.3567999999, 13360.7519999999, 13360.75200000042, 13360.7519999999, 13397.3567999999, 13360.751999999651, 13360.7519999999, 13360.7519999999, 13397.3567999999, 13360.7519999999, 13360.7519999999, 13360.7519999999, 13397.3567999999, 13360.7519999999, 13360.7519999999, 13360.7519999999, 13392.05579999992, 13360.7519999999, 13360.7519999999, 13360.7519999999, 13396.910399999899, 12743.27521940351, 6680.37599999995, 0.0, 0.0, 0.0, 0.0], \"yaxis\": \"y2\"}, {\"legendgroup\": \"GAS\", \"marker\": {\"color\": \"#969696\", \"line\": {\"color\": \"white\", \"width\": 0.05}}, \"name\": \"GAS\", \"type\": \"bar\", \"x\": [2018, 2019, 2020, 2021, 2022, 2023, 2024, 2025, 2026, 2027, 2028, 2029, 2030, 2031, 2032, 2033, 2034, 2035, 2036, 2037, 2038, 2039, 2040, 2041, 2042, 2043, 2044, 2045, 2046, 2047, 2048, 2049, 2050], \"xaxis\": \"x\", \"y\": [424.6, 424.6, 424.6, 424.6, 424.6, 424.6, 424.6, 424.6, 424.6, 424.6, 424.6, 424.6, 424.6, 424.6, 424.6, 424.6, 424.6, 745.0625654800001, 745.0625654800001, 894.408214, 1722.1955233600002, 1722.1955233600002, 1722.1955233600002, 2499.60363544, 2712.008683, 2712.008683, 2712.008683, 2712.008683, 4328.87116696, 4328.87116696, 6319.08749128, 6319.08749128, 6319.08749128], \"yaxis\": \"y\"}, {\"legendgroup\": \"GAS\", \"marker\": {\"color\": \"#969696\", \"line\": {\"color\": \"white\", \"width\": 0.05}}, \"name\": \"GAS\", \"showlegend\": false, \"type\": \"bar\", \"x\": [2018, 2019, 2020, 2021, 2022, 2023, 2024, 2025, 2026, 2027, 2028, 2029, 2030, 2031, 2032, 2033, 2034, 2035, 2036, 2037, 2038, 2039, 2040, 2041, 2042, 2043, 2044, 2045, 2046, 2047, 2048, 2049, 2050], \"xaxis\": \"x2\", \"y\": [2231.697599999993, 2231.697599999993, 2237.811839999993, 2231.697599999993, 2231.697599999993, 2231.697599999993, 2237.811839999993, 2231.697599999993, 2231.697599999993, 2231.697599999993, 2237.811839999993, 2231.697599999993, 2231.697599999993, 2231.697599999993, 2237.811839999993, 2231.697599999993, 2231.697599999993, 2794.8505762457044, 3001.400388783233, 3125.757193551762, 4687.679988560993, 4563.641922244873, 5089.073690167733, 6082.339606169124, 6481.777006819823, 6506.3595329017635, 6671.824928688303, 6890.037969209983, 9121.142712660072, 9979.499271964032, 13510.748728443603, 13807.234520139693, 15015.142857116432], \"yaxis\": \"y2\"}, {\"legendgroup\": \"PEA\", \"marker\": {\"color\": \"#e8d2ca\", \"line\": {\"color\": \"white\", \"width\": 0.05}}, \"name\": \"PEA\", \"type\": \"bar\", \"x\": [2018, 2019, 2020, 2021, 2022, 2023, 2024, 2025, 2026, 2027, 2028, 2029, 2030, 2031, 2032, 2033, 2034, 2035, 2036, 2037, 2038, 2039, 2040, 2041, 2042, 2043, 2044, 2045, 2046, 2047, 2048, 2049, 2050], \"xaxis\": \"x\", \"y\": [3405.0, 3405.0, 3405.0, 3405.0, 3405.0, 3405.0, 4461.0, 4461.0, 4119.0, 6231.0, 6231.0, 6231.0, 6231.0, 6660.41738796, 9275.659071959999, 9886.95138348, 9931.14183, 10237.75619256, 10237.75619256, 12027.89292984, 12469.46019216, 11146.46019216, 11146.46019216, 11146.46019216, 12756.81007176, 13621.07110236, 14012.97534432, 14012.97534432, 13292.8629174, 13292.8629174, 13294.14140868, 13294.14140868, 13294.14140868], \"yaxis\": \"y\"}, {\"legendgroup\": \"PEA\", \"marker\": {\"color\": \"#e8d2ca\", \"line\": {\"color\": \"white\", \"width\": 0.05}}, \"name\": \"PEA\", \"showlegend\": false, \"type\": \"bar\", \"x\": [2018, 2019, 2020, 2021, 2022, 2023, 2024, 2025, 2026, 2027, 2028, 2029, 2030, 2031, 2032, 2033, 2034, 2035, 2036, 2037, 2038, 2039, 2040, 2041, 2042, 2043, 2044, 2045, 2046, 2047, 2048, 2049, 2050], \"xaxis\": \"x2\", \"y\": [353.44437324994993, 348.35466975900016, 800.8390701604202, 483.15107252623994, 328.37077573673025, 250.28827921762013, 94.1448980634201, 299.8294404182201, 842.1848987479902, 434.2938634027599, 151.91311077835002, 197.06751231509008, 700.8797747817002, 569.0384934500698, 1519.19530562717, 1028.209384153451, 1234.3141732190602, 2020.8940887325002, 1685.79951920277, 2855.10053488641, 2342.7090732838396, 2110.33362068215, 1957.5087388647898, 2636.7793501381702, 2644.3801869618906, 2944.05188597231, 3417.51840754361, 2342.58943654498, 2710.79327475192, 2955.12486881876, 1712.21016407114, 1953.50942317119, 1527.0072564439], \"yaxis\": \"y2\"}, {\"legendgroup\": \"HYD\", \"marker\": {\"color\": \"#2760a6\", \"line\": {\"color\": \"white\", \"width\": 0.05}}, \"name\": \"HYD\", \"type\": \"bar\", \"x\": [2018, 2019, 2020, 2021, 2022, 2023, 2024, 2025, 2026, 2027, 2028, 2029, 2030, 2031, 2032, 2033, 2034, 2035, 2036, 2037, 2038, 2039, 2040, 2041, 2042, 2043, 2044, 2045, 2046, 2047, 2048, 2049, 2050], \"xaxis\": \"x\", \"y\": [2192, 2192, 2192, 2192, 2192, 2192, 2192, 2192, 2192, 2192, 2192, 2192, 4692, 4692, 4692, 4692, 4692, 4692, 4692, 4692, 4692, 4692, 4692, 4692, 4692, 4692, 4692, 4692, 4692, 4692, 4692, 4692, 4692], \"yaxis\": \"y\"}, {\"legendgroup\": \"HYD\", \"marker\": {\"color\": \"#2760a6\", \"line\": {\"color\": \"white\", \"width\": 0.05}}, \"name\": \"HYD\", \"showlegend\": false, \"type\": \"bar\", \"x\": [2018, 2019, 2020, 2021, 2022, 2023, 2024, 2025, 2026, 2027, 2028, 2029, 2030, 2031, 2032, 2033, 2034, 2035, 2036, 2037, 2038, 2039, 2040, 2041, 2042, 2043, 2044, 2045, 2046, 2047, 2048, 2049, 2050], \"xaxis\": \"x2\", \"y\": [13170.843396723352, 13166.176989901793, 13203.980348171764, 13168.060368107394, 13169.303392606535, 13175.258399999253, 13205.34245174543, 13174.003891398048, 13160.695641155195, 13170.903151838791, 13197.946844210759, 13167.044079049763, 28492.03290683737, 28496.215963909704, 28566.543799936255, 28494.638513438134, 28478.69779802979, 28497.41838968266, 28551.634083228415, 28470.958243495592, 28418.886748521625, 28451.464123691723, 28501.778281873514, 28448.143471175572, 28383.618722312807, 28449.070963656275, 28453.06746928879, 28392.535014694207, 28427.19886639562, 28323.384936639006, 28279.97926859354, 28122.216399892965, 28497.967477597194], \"yaxis\": \"y2\"}, {\"legendgroup\": \"WIN\", \"marker\": {\"color\": \"#9db1cf\", \"line\": {\"color\": \"white\", \"width\": 0.05}}, \"name\": \"WIN\", \"type\": \"bar\", \"x\": [2018, 2019, 2020, 2021, 2022, 2023, 2024, 2025, 2026, 2027, 2028, 2029, 2030, 2031, 2032, 2033, 2034, 2035, 2036, 2037, 2038, 2039, 2040, 2041, 2042, 2043, 2044, 2045, 2046, 2047, 2048, 2049, 2050], \"xaxis\": \"x\", \"y\": [2086, 2086, 2226, 2762, 4362, 5962, 7562, 9162, 10762, 12362, 13962, 15562, 17162, 18762, 20362, 21962, 22526, 23076, 24676, 26276, 27876, 29476, 30940, 32000, 32000, 32000, 32000, 32000, 32000, 32000, 32000, 32000, 32000], \"yaxis\": \"y\"}, {\"legendgroup\": \"WIN\", \"marker\": {\"color\": \"#9db1cf\", \"line\": {\"color\": \"white\", \"width\": 0.05}}, \"name\": \"WIN\", \"showlegend\": false, \"type\": \"bar\", \"x\": [2018, 2019, 2020, 2021, 2022, 2023, 2024, 2025, 2026, 2027, 2028, 2029, 2030, 2031, 2032, 2033, 2034, 2035, 2036, 2037, 2038, 2039, 2040, 2041, 2042, 2043, 2044, 2045, 2046, 2047, 2048, 2049, 2050], \"xaxis\": \"x2\", \"y\": [6512.3876875674405, 6509.177645069831, 7830.13202628779, 8612.2687062952, 13550.679650313969, 18450.35096354177, 23477.78291160823, 28328.71013295814, 33230.25538330545, 38143.90437083397, 43208.78766676685, 48037.804047138845, 54703.71991275269, 57882.18932850955, 62970.51456159339, 67714.27849203191, 67621.75016478343, 71083.59423034386, 76210.61915503236, 80942.77154523974, 85864.83514483886, 90787.08726651175, 94657.7345734297, 98534.3729270177, 98534.3729261279, 98534.3729257185, 98792.1760162012, 98534.3729267519, 98534.3729261246, 98534.3729270177, 98792.1760149982, 98534.3729266398, 98534.3729260802], \"yaxis\": \"y2\"}, {\"legendgroup\": \"CSP\", \"marker\": {\"color\": \"#eea632\", \"line\": {\"color\": \"white\", \"width\": 0.05}}, \"name\": \"CSP\", \"type\": \"bar\", \"x\": [2018, 2019, 2020, 2021, 2022, 2023, 2024, 2025, 2026, 2027, 2028, 2029, 2030, 2031, 2032, 2033, 2034, 2035, 2036, 2037, 2038, 2039, 2040, 2041, 2042, 2043, 2044, 2045, 2046, 2047, 2048, 2049, 2050], \"xaxis\": \"x\", \"y\": [400.0, 500.0, 500.0, 600.0, 600.0, 600.0, 600.0, 600.0, 600.0, 600.0, 600.0, 600.0, 600.0, 600.0, 600.0, 600.0, 600.0, 600.0, 600.0, 600.0, 600.0, 600.0, 600.0, 600.0, 600.0, 600.0, 600.0, 500.0, 400.0, 200.0, 591.926781, 1744.360346, 2001.098882], \"yaxis\": \"y\"}, {\"legendgroup\": \"CSP\", \"marker\": {\"color\": \"#eea632\", \"line\": {\"color\": \"white\", \"width\": 0.05}}, \"name\": \"CSP\", \"showlegend\": false, \"type\": \"bar\", \"x\": [2018, 2019, 2020, 2021, 2022, 2023, 2024, 2025, 2026, 2027, 2028, 2029, 2030, 2031, 2032, 2033, 2034, 2035, 2036, 2037, 2038, 2039, 2040, 2041, 2042, 2043, 2044, 2045, 2046, 2047, 2048, 2049, 2050], \"xaxis\": \"x2\", \"y\": [1880.432598643549, 1891.959248874969, 1914.7838240716092, 1916.681461079539, 1921.715468269299, 1900.342716249709, 1891.8381151868389, 1900.840030394779, 1927.4135261438892, 1890.2265281841492, 1891.553790415649, 1887.030548715079, 1898.2283158506189, 1900.840030394779, 1912.7388297671291, 1894.085983533469, 1889.1836930476989, 1900.4647547196191, 1902.5290211135089, 1893.9935848261389, 1892.906848593229, 1885.639554773029, 1885.584468776819, 1893.9935848261389, 1893.9935848261389, 1892.891089295299, 1894.214187256649, 1486.601366357258, 975.506169864876, 13.56098618259, 2406.1079732058797, 8546.54908493929, 9812.09540800789], \"yaxis\": \"y2\"}, {\"legendgroup\": \"SPV\", \"marker\": {\"color\": \"#ffed11\", \"line\": {\"color\": \"white\", \"width\": 0.05}}, \"name\": \"SPV\", \"type\": \"bar\", \"x\": [2018, 2019, 2020, 2021, 2022, 2023, 2024, 2025, 2026, 2027, 2028, 2029, 2030, 2031, 2032, 2033, 2034, 2035, 2036, 2037, 2038, 2039, 2040, 2041, 2042, 2043, 2044, 2045, 2046, 2047, 2048, 2049, 2050], \"xaxis\": \"x\", \"y\": [1479.0, 1594.0, 1669.0, 1894.0, 2894.0, 3894.0, 3894.0, 4894.0, 4894.0, 4894.0, 5894.0, 6894.0, 7894.0, 7894.0, 7894.0, 7894.0, 7894.0, 7894.0, 7894.0, 7894.0, 7894.0, 7894.0, 7673.387336, 7673.387336, 8238.387336, 9238.387336, 10238.387336, 11238.387336, 11823.387336, 11823.387336, 11823.387336, 12823.387336, 12823.387336], \"yaxis\": \"y\"}, {\"legendgroup\": \"SPV\", \"marker\": {\"color\": \"#ffed11\", \"line\": {\"color\": \"white\", \"width\": 0.05}}, \"name\": \"SPV\", \"showlegend\": false, \"type\": \"bar\", \"x\": [2018, 2019, 2020, 2021, 2022, 2023, 2024, 2025, 2026, 2027, 2028, 2029, 2030, 2031, 2032, 2033, 2034, 2035, 2036, 2037, 2038, 2039, 2040, 2041, 2042, 2043, 2044, 2045, 2046, 2047, 2048, 2049, 2050], \"xaxis\": \"x2\", \"y\": [3292.892247926226, 3530.6433471105875, 4072.6589553733847, 4216.861334335685, 5999.9494470729005, 7780.771542332698, 7806.962688680762, 9562.892849822823, 9563.651988778707, 9564.058545782082, 11381.304957904726, 13128.38051823968, 14910.66857975926, 14909.413012050683, 14956.760230056301, 14909.974943723118, 14914.399767431612, 14917.044384650842, 14957.630229554, 14919.92688557968, 14916.538341927278, 13958.96468663911, 14095.877688673996, 14063.7515892796, 14868.420407951451, 16649.37308070945, 18485.741729088004, 19770.913862175803, 21077.1459091037, 21077.3974659914, 21134.4047962397, 22856.9234291358, 22865.0878237694], \"yaxis\": \"y2\"}, {\"legendgroup\": \"DPV\", \"marker\": {\"color\": \"#d7c700\", \"line\": {\"color\": \"white\", \"width\": 0.05}}, \"name\": \"DPV\", \"type\": \"bar\", \"x\": [2018, 2019, 2020, 2021, 2022, 2023, 2024, 2025, 2026, 2027, 2028, 2029, 2030, 2031, 2032, 2033, 2034, 2035, 2036, 2037, 2038, 2039, 2040, 2041, 2042, 2043, 2044, 2045, 2046, 2047, 2048, 2049, 2050], \"xaxis\": \"x\", \"y\": [584, 584, 584, 584, 584, 1084, 1584, 2084, 2584, 3084, 3584, 4084, 4584, 4584, 4584, 4584, 4584, 4584, 4584, 4584, 4584, 4430, 4310, 4200, 4000, 4000, 4000, 4000, 4000, 3500, 3000, 2500, 2000], \"yaxis\": \"y\"}, {\"legendgroup\": \"DPV\", \"marker\": {\"color\": \"#d7c700\", \"line\": {\"color\": \"white\", \"width\": 0.05}}, \"name\": \"DPV\", \"showlegend\": false, \"type\": \"bar\", \"x\": [2018, 2019, 2020, 2021, 2022, 2023, 2024, 2025, 2026, 2027, 2028, 2029, 2030, 2031, 2032, 2033, 2034, 2035, 2036, 2037, 2038, 2039, 2040, 2041, 2042, 2043, 2044, 2045, 2046, 2047, 2048, 2049, 2050], \"xaxis\": \"x2\", \"y\": [1041.47248619552, 1041.47248675032, 1044.58243093992, 1041.47248680288, 1041.472486908, 1933.14413775284, 2833.25097800449, 3716.48743722084, 4608.15923058615, 5499.83073510286, 6410.58806700032, 7283.17403920115, 8174.84568367029, 8174.84568724585, 8199.25675091712, 8174.84568788761, 8174.84568953785, 8174.84568944617, 8199.25662169414, 8174.84594156613, 8174.84568435791, 7900.21081966452, 7709.16142692429, 7490.04185676601, 7133.37320003999, 7133.37342195999, 7154.6741818, 7133.37320203999, 7133.37320196001, 6241.70154730501, 5366.00563761001, 4458.3582483, 3566.68660030001], \"yaxis\": \"y2\"}, {\"legendgroup\": \"BIO\", \"marker\": {\"color\": \"#007770\", \"line\": {\"color\": \"white\", \"width\": 0.05}}, \"name\": \"BIO\", \"type\": \"bar\", \"x\": [2018, 2019, 2020, 2021, 2022, 2023, 2024, 2025, 2026, 2027, 2028, 2029, 2030, 2031, 2032, 2033, 2034, 2035, 2036, 2037, 2038, 2039, 2040, 2041, 2042, 2043, 2044, 2045, 2046, 2047, 2048, 2049, 2050], \"xaxis\": \"x\", \"y\": [282.0, 282.0, 307.0, 307.0, 307.0, 307.0, 307.0, 307.0, 307.0, 307.0, 307.0, 307.0, 307.0, 307.0, 556.3150564, 556.99811135, 556.99811135, 556.99811135, 556.99811135, 556.99811135, 556.99811135, 556.99811135, 556.99811135, 556.99811135, 556.99811135, 556.99811135, 556.99811135, 556.99811135, 556.99811135, 538.99811135, 538.99811135, 538.99811135, 513.99811135], \"yaxis\": \"y\"}, {\"legendgroup\": \"BIO\", \"marker\": {\"color\": \"#007770\", \"line\": {\"color\": \"white\", \"width\": 0.05}}, \"name\": \"BIO\", \"showlegend\": false, \"type\": \"bar\", \"x\": [2018, 2019, 2020, 2021, 2022, 2023, 2024, 2025, 2026, 2027, 2028, 2029, 2030, 2031, 2032, 2033, 2034, 2035, 2036, 2037, 2038, 2039, 2040, 2041, 2042, 2043, 2044, 2045, 2046, 2047, 2048, 2049, 2050], \"xaxis\": \"x2\", \"y\": [1915.230929810528, 1783.210235064739, 1944.69615645101, 1931.5612474976083, 1930.0059680502022, 1936.0713407550088, 1929.493764932431, 1927.444365814067, 1920.723837771919, 1927.012295689627, 1926.505511428827, 1929.9036982760063, 1920.191999999813, 1920.1920000001182, 3787.2892912261077, 3781.6779372481483, 3805.221457247792, 3790.5313972036793, 3804.529988114908, 3789.2944826034563, 3784.2171757785923, 3789.103550050035, 3803.953939418887, 3782.452344836468, 3797.314712855948, 3784.0135586934084, 3795.6274719211897, 3790.059730900519, 3789.43702996797, 3659.657699917333, 3670.242306570971, 3662.7220479668194, 3722.503537247154], \"yaxis\": \"y2\"}, {\"legendgroup\": \"PST\", \"marker\": {\"color\": \"#dfe5ef\", \"line\": {\"color\": \"white\", \"width\": 0.05}}, \"name\": \"PST\", \"type\": \"bar\", \"x\": [2018, 2019, 2020, 2021, 2022, 2023, 2024, 2025, 2026, 2027, 2028, 2029, 2030, 2031, 2032, 2033, 2034, 2035, 2036, 2037, 2038, 2039, 2040, 2041, 2042, 2043, 2044, 2045, 2046, 2047, 2048, 2049, 2050], \"xaxis\": \"x\", \"y\": [2912, 2912, 2912, 2912, 2912, 2912, 2912, 2912, 2912, 2912, 2912, 2912, 2912, 2912, 2912, 2912, 2912, 2912, 2912, 2912, 2912, 2912, 2912, 2912, 2912, 2912, 2912, 2912, 2912, 2912, 2912, 2912, 2912], \"yaxis\": \"y\"}, {\"legendgroup\": \"PST\", \"marker\": {\"color\": \"#dfe5ef\", \"line\": {\"color\": \"white\", \"width\": 0.05}}, \"name\": \"PST\", \"showlegend\": false, \"type\": \"bar\", \"x\": [2018, 2019, 2020, 2021, 2022, 2023, 2024, 2025, 2026, 2027, 2028, 2029, 2030, 2031, 2032, 2033, 2034, 2035, 2036, 2037, 2038, 2039, 2040, 2041, 2042, 2043, 2044, 2045, 2046, 2047, 2048, 2049, 2050], \"xaxis\": \"x2\", \"y\": [1325.056054571328, 880.79516787456, 1991.48640596321, 1189.784038895148, 1147.3138852932198, 693.4272755457511, 504.35771015297, 633.220718357661, 1175.7319625298012, 1083.047410478518, 777.2673569853108, 1093.21737919169, 822.83429003928, 916.7174778904199, 2058.5064997729405, 3370.372131661621, 4161.308777753321, 4028.325993397969, 4701.07046473318, 5933.427979051911, 4602.17526384234, 5319.182152776701, 6778.617284672833, 6098.285411703149, 7089.173928894639, 6824.726091939271, 5520.088882665741, 5929.20989798669, 5481.65388648662, 6748.070136395362, 6588.281953236831, 4663.741280371471, 5662.6844817392885], \"yaxis\": \"y2\"}],\n",
       "                        {\"annotations\": [{\"font\": {\"size\": 16}, \"showarrow\": false, \"text\": \"<b>Installed capacity [MW]</b>\", \"x\": 0.225, \"xanchor\": \"center\", \"xref\": \"paper\", \"y\": 1.0, \"yanchor\": \"bottom\", \"yref\": \"paper\"}, {\"font\": {\"size\": 16}, \"showarrow\": false, \"text\": \"<b>Energy produced [GWh]</b>\", \"x\": 0.775, \"xanchor\": \"center\", \"xref\": \"paper\", \"y\": 1.0, \"yanchor\": \"bottom\", \"yref\": \"paper\"}], \"barmode\": \"stack\", \"hovermode\": \"x\", \"paper_bgcolor\": \"rgba(0,0,0,0)\", \"plot_bgcolor\": \"rgba(0,0,0,0)\", \"template\": {\"data\": {\"bar\": [{\"error_x\": {\"color\": \"#2a3f5f\"}, \"error_y\": {\"color\": \"#2a3f5f\"}, \"marker\": {\"line\": {\"color\": \"#E5ECF6\", \"width\": 0.5}}, \"type\": \"bar\"}], \"barpolar\": [{\"marker\": {\"line\": {\"color\": \"#E5ECF6\", \"width\": 0.5}}, \"type\": \"barpolar\"}], \"carpet\": [{\"aaxis\": {\"endlinecolor\": \"#2a3f5f\", \"gridcolor\": \"white\", \"linecolor\": \"white\", \"minorgridcolor\": \"white\", \"startlinecolor\": \"#2a3f5f\"}, \"baxis\": {\"endlinecolor\": \"#2a3f5f\", \"gridcolor\": \"white\", \"linecolor\": \"white\", \"minorgridcolor\": \"white\", \"startlinecolor\": \"#2a3f5f\"}, \"type\": \"carpet\"}], \"choropleth\": [{\"colorbar\": {\"outlinewidth\": 0, \"ticks\": \"\"}, \"type\": \"choropleth\"}], \"contour\": [{\"colorbar\": {\"outlinewidth\": 0, \"ticks\": \"\"}, \"colorscale\": [[0.0, \"#0d0887\"], [0.1111111111111111, \"#46039f\"], [0.2222222222222222, \"#7201a8\"], [0.3333333333333333, \"#9c179e\"], [0.4444444444444444, \"#bd3786\"], [0.5555555555555556, \"#d8576b\"], [0.6666666666666666, \"#ed7953\"], [0.7777777777777778, \"#fb9f3a\"], [0.8888888888888888, \"#fdca26\"], [1.0, \"#f0f921\"]], \"type\": \"contour\"}], \"contourcarpet\": [{\"colorbar\": {\"outlinewidth\": 0, \"ticks\": \"\"}, \"type\": \"contourcarpet\"}], \"heatmap\": [{\"colorbar\": {\"outlinewidth\": 0, \"ticks\": \"\"}, \"colorscale\": [[0.0, \"#0d0887\"], [0.1111111111111111, \"#46039f\"], [0.2222222222222222, \"#7201a8\"], [0.3333333333333333, \"#9c179e\"], [0.4444444444444444, \"#bd3786\"], [0.5555555555555556, \"#d8576b\"], [0.6666666666666666, \"#ed7953\"], [0.7777777777777778, \"#fb9f3a\"], [0.8888888888888888, \"#fdca26\"], [1.0, \"#f0f921\"]], \"type\": \"heatmap\"}], \"heatmapgl\": [{\"colorbar\": {\"outlinewidth\": 0, \"ticks\": \"\"}, \"colorscale\": [[0.0, \"#0d0887\"], [0.1111111111111111, \"#46039f\"], [0.2222222222222222, \"#7201a8\"], [0.3333333333333333, \"#9c179e\"], [0.4444444444444444, \"#bd3786\"], [0.5555555555555556, \"#d8576b\"], [0.6666666666666666, \"#ed7953\"], [0.7777777777777778, \"#fb9f3a\"], [0.8888888888888888, \"#fdca26\"], [1.0, \"#f0f921\"]], \"type\": \"heatmapgl\"}], \"histogram\": [{\"marker\": {\"colorbar\": {\"outlinewidth\": 0, \"ticks\": \"\"}}, \"type\": \"histogram\"}], \"histogram2d\": [{\"colorbar\": {\"outlinewidth\": 0, \"ticks\": \"\"}, \"colorscale\": [[0.0, \"#0d0887\"], [0.1111111111111111, \"#46039f\"], [0.2222222222222222, \"#7201a8\"], [0.3333333333333333, \"#9c179e\"], [0.4444444444444444, \"#bd3786\"], [0.5555555555555556, \"#d8576b\"], [0.6666666666666666, \"#ed7953\"], [0.7777777777777778, \"#fb9f3a\"], [0.8888888888888888, \"#fdca26\"], [1.0, \"#f0f921\"]], \"type\": \"histogram2d\"}], \"histogram2dcontour\": [{\"colorbar\": {\"outlinewidth\": 0, \"ticks\": \"\"}, \"colorscale\": [[0.0, \"#0d0887\"], [0.1111111111111111, \"#46039f\"], [0.2222222222222222, \"#7201a8\"], [0.3333333333333333, \"#9c179e\"], [0.4444444444444444, \"#bd3786\"], [0.5555555555555556, \"#d8576b\"], [0.6666666666666666, \"#ed7953\"], [0.7777777777777778, \"#fb9f3a\"], [0.8888888888888888, \"#fdca26\"], [1.0, \"#f0f921\"]], \"type\": \"histogram2dcontour\"}], \"mesh3d\": [{\"colorbar\": {\"outlinewidth\": 0, \"ticks\": \"\"}, \"type\": \"mesh3d\"}], \"parcoords\": [{\"line\": {\"colorbar\": {\"outlinewidth\": 0, \"ticks\": \"\"}}, \"type\": \"parcoords\"}], \"scatter\": [{\"marker\": {\"colorbar\": {\"outlinewidth\": 0, \"ticks\": \"\"}}, \"type\": \"scatter\"}], \"scatter3d\": [{\"line\": {\"colorbar\": {\"outlinewidth\": 0, \"ticks\": \"\"}}, \"marker\": {\"colorbar\": {\"outlinewidth\": 0, \"ticks\": \"\"}}, \"type\": \"scatter3d\"}], \"scattercarpet\": [{\"marker\": {\"colorbar\": {\"outlinewidth\": 0, \"ticks\": \"\"}}, \"type\": \"scattercarpet\"}], \"scattergeo\": [{\"marker\": {\"colorbar\": {\"outlinewidth\": 0, \"ticks\": \"\"}}, \"type\": \"scattergeo\"}], \"scattergl\": [{\"marker\": {\"colorbar\": {\"outlinewidth\": 0, \"ticks\": \"\"}}, \"type\": \"scattergl\"}], \"scattermapbox\": [{\"marker\": {\"colorbar\": {\"outlinewidth\": 0, \"ticks\": \"\"}}, \"type\": \"scattermapbox\"}], \"scatterpolar\": [{\"marker\": {\"colorbar\": {\"outlinewidth\": 0, \"ticks\": \"\"}}, \"type\": \"scatterpolar\"}], \"scatterpolargl\": [{\"marker\": {\"colorbar\": {\"outlinewidth\": 0, \"ticks\": \"\"}}, \"type\": \"scatterpolargl\"}], \"scatterternary\": [{\"marker\": {\"colorbar\": {\"outlinewidth\": 0, \"ticks\": \"\"}}, \"type\": \"scatterternary\"}], \"surface\": [{\"colorbar\": {\"outlinewidth\": 0, \"ticks\": \"\"}, \"colorscale\": [[0.0, \"#0d0887\"], [0.1111111111111111, \"#46039f\"], [0.2222222222222222, \"#7201a8\"], [0.3333333333333333, \"#9c179e\"], [0.4444444444444444, \"#bd3786\"], [0.5555555555555556, \"#d8576b\"], [0.6666666666666666, \"#ed7953\"], [0.7777777777777778, \"#fb9f3a\"], [0.8888888888888888, \"#fdca26\"], [1.0, \"#f0f921\"]], \"type\": \"surface\"}], \"table\": [{\"cells\": {\"fill\": {\"color\": \"#EBF0F8\"}, \"line\": {\"color\": \"white\"}}, \"header\": {\"fill\": {\"color\": \"#C8D4E3\"}, \"line\": {\"color\": \"white\"}}, \"type\": \"table\"}]}, \"layout\": {\"annotationdefaults\": {\"arrowcolor\": \"#2a3f5f\", \"arrowhead\": 0, \"arrowwidth\": 1}, \"colorscale\": {\"diverging\": [[0, \"#8e0152\"], [0.1, \"#c51b7d\"], [0.2, \"#de77ae\"], [0.3, \"#f1b6da\"], [0.4, \"#fde0ef\"], [0.5, \"#f7f7f7\"], [0.6, \"#e6f5d0\"], [0.7, \"#b8e186\"], [0.8, \"#7fbc41\"], [0.9, \"#4d9221\"], [1, \"#276419\"]], \"sequential\": [[0.0, \"#0d0887\"], [0.1111111111111111, \"#46039f\"], [0.2222222222222222, \"#7201a8\"], [0.3333333333333333, \"#9c179e\"], [0.4444444444444444, \"#bd3786\"], [0.5555555555555556, \"#d8576b\"], [0.6666666666666666, \"#ed7953\"], [0.7777777777777778, \"#fb9f3a\"], [0.8888888888888888, \"#fdca26\"], [1.0, \"#f0f921\"]], \"sequentialminus\": [[0.0, \"#0d0887\"], [0.1111111111111111, \"#46039f\"], [0.2222222222222222, \"#7201a8\"], [0.3333333333333333, \"#9c179e\"], [0.4444444444444444, \"#bd3786\"], [0.5555555555555556, \"#d8576b\"], [0.6666666666666666, \"#ed7953\"], [0.7777777777777778, \"#fb9f3a\"], [0.8888888888888888, \"#fdca26\"], [1.0, \"#f0f921\"]]}, \"colorway\": [\"#636efa\", \"#EF553B\", \"#00cc96\", \"#ab63fa\", \"#FFA15A\", \"#19d3f3\", \"#FF6692\", \"#B6E880\", \"#FF97FF\", \"#FECB52\"], \"font\": {\"color\": \"#2a3f5f\"}, \"geo\": {\"bgcolor\": \"white\", \"lakecolor\": \"white\", \"landcolor\": \"#E5ECF6\", \"showlakes\": true, \"showland\": true, \"subunitcolor\": \"white\"}, \"hoverlabel\": {\"align\": \"left\"}, \"hovermode\": \"closest\", \"mapbox\": {\"style\": \"light\"}, \"paper_bgcolor\": \"white\", \"plot_bgcolor\": \"#E5ECF6\", \"polar\": {\"angularaxis\": {\"gridcolor\": \"white\", \"linecolor\": \"white\", \"ticks\": \"\"}, \"bgcolor\": \"#E5ECF6\", \"radialaxis\": {\"gridcolor\": \"white\", \"linecolor\": \"white\", \"ticks\": \"\"}}, \"scene\": {\"xaxis\": {\"backgroundcolor\": \"#E5ECF6\", \"gridcolor\": \"white\", \"gridwidth\": 2, \"linecolor\": \"white\", \"showbackground\": true, \"ticks\": \"\", \"zerolinecolor\": \"white\"}, \"yaxis\": {\"backgroundcolor\": \"#E5ECF6\", \"gridcolor\": \"white\", \"gridwidth\": 2, \"linecolor\": \"white\", \"showbackground\": true, \"ticks\": \"\", \"zerolinecolor\": \"white\"}, \"zaxis\": {\"backgroundcolor\": \"#E5ECF6\", \"gridcolor\": \"white\", \"gridwidth\": 2, \"linecolor\": \"white\", \"showbackground\": true, \"ticks\": \"\", \"zerolinecolor\": \"white\"}}, \"shapedefaults\": {\"line\": {\"color\": \"#2a3f5f\"}}, \"ternary\": {\"aaxis\": {\"gridcolor\": \"white\", \"linecolor\": \"white\", \"ticks\": \"\"}, \"baxis\": {\"gridcolor\": \"white\", \"linecolor\": \"white\", \"ticks\": \"\"}, \"bgcolor\": \"#E5ECF6\", \"caxis\": {\"gridcolor\": \"white\", \"linecolor\": \"white\", \"ticks\": \"\"}}, \"title\": {\"x\": 0.05}, \"xaxis\": {\"automargin\": true, \"gridcolor\": \"white\", \"linecolor\": \"white\", \"ticks\": \"\", \"zerolinecolor\": \"white\", \"zerolinewidth\": 2}, \"yaxis\": {\"automargin\": true, \"gridcolor\": \"white\", \"linecolor\": \"white\", \"ticks\": \"\", \"zerolinecolor\": \"white\", \"zerolinewidth\": 2}}}, \"title\": {\"font\": {\"size\": 30}, \"text\": \"IRP 2019\"}, \"xaxis\": {\"anchor\": \"y\", \"categoryorder\": \"category ascending\", \"domain\": [0.0, 0.45]}, \"xaxis2\": {\"anchor\": \"y2\", \"domain\": [0.55, 1.0]}, \"yaxis\": {\"anchor\": \"x\", \"domain\": [0.0, 1.0], \"gridcolor\": \"lightgray\", \"gridwidth\": 0.25, \"showgrid\": true}, \"yaxis2\": {\"anchor\": \"x2\", \"domain\": [0.0, 1.0], \"gridcolor\": \"lightgray\", \"gridwidth\": 0.25, \"showgrid\": true}},\n",
       "                        {\"responsive\": true}\n",
       "                    ).then(function(){\n",
       "                            \n",
       "var gd = document.getElementById('1a76c79e-ad0a-4384-9aa4-8236604ac861');\n",
       "var x = new MutationObserver(function (mutations, observer) {{\n",
       "        var display = window.getComputedStyle(gd).display;\n",
       "        if (!display || display === 'none') {{\n",
       "            console.log([gd, 'removed!']);\n",
       "            Plotly.purge(gd);\n",
       "            observer.disconnect();\n",
       "        }}\n",
       "}});\n",
       "\n",
       "// Listen for the removal of the full notebook cells\n",
       "var notebookContainer = gd.closest('#notebook-container');\n",
       "if (notebookContainer) {{\n",
       "    x.observe(notebookContainer, {childList: true});\n",
       "}}\n",
       "\n",
       "// Listen for the clearing of the current output cell\n",
       "var outputEl = gd.closest('.output');\n",
       "if (outputEl) {{\n",
       "    x.observe(outputEl, {childList: true});\n",
       "}}\n",
       "\n",
       "                        })\n",
       "                };\n",
       "                });\n",
       "            </script>\n",
       "        </div>"
      ]
     },
     "metadata": {},
     "output_type": "display_data"
    },
    {
     "data": {
      "application/vnd.plotly.v1+json": {
       "config": {
        "plotlyServerURL": "https://plot.ly"
       },
       "data": [
        {
         "legendgroup": "COA",
         "marker": {
          "color": "#8c664a",
          "line": {
           "color": "white",
           "width": 0.05
          }
         },
         "name": "COA",
         "type": "bar",
         "x": [
          2018,
          2019,
          2020,
          2021,
          2022,
          2023,
          2024,
          2025,
          2026,
          2027,
          2028,
          2029,
          2030,
          2031,
          2032,
          2033,
          2034,
          2035,
          2036,
          2037,
          2038,
          2039,
          2040,
          2041,
          2042,
          2043,
          2044,
          2045,
          2046,
          2047,
          2048,
          2049,
          2050
         ],
         "xaxis": "x",
         "y": [
          37625,
          38671,
          37457,
          38038,
          38014,
          38214,
          38008,
          37688,
          36362,
          35826,
          35826,
          34301,
          31441,
          30291,
          28566,
          27416,
          26841,
          25663,
          24485,
          21484,
          19644,
          17851,
          17236,
          14138,
          12883,
          12883,
          12243,
          12243,
          11629,
          11015,
          10401,
          9734,
          9067
         ],
         "yaxis": "y"
        },
        {
         "legendgroup": "COA",
         "marker": {
          "color": "#8c664a",
          "line": {
           "color": "white",
           "width": 0.05
          }
         },
         "name": "COA",
         "showlegend": false,
         "type": "bar",
         "x": [
          2018,
          2019,
          2020,
          2021,
          2022,
          2023,
          2024,
          2025,
          2026,
          2027,
          2028,
          2029,
          2030,
          2031,
          2032,
          2033,
          2034,
          2035,
          2036,
          2037,
          2038,
          2039,
          2040,
          2041,
          2042,
          2043,
          2044,
          2045,
          2046,
          2047,
          2048,
          2049,
          2050
         ],
         "xaxis": "x2",
         "y": [
          202281.47420086898,
          202469.50209797727,
          197784.6437393029,
          197256.04933011747,
          191840.44790644673,
          184041.73052895168,
          187392.71798953135,
          182955.9370231856,
          177998.62230622076,
          169108.62143876273,
          168764.73641313182,
          165914.10271145724,
          120533.12418737702,
          121102.55331667975,
          109807.37798208042,
          111453.42819888744,
          115961.5602355053,
          105887.51705810832,
          96767.393345745,
          84917.30209719652,
          85191.07301035017,
          66008.54509513287,
          60429.94867501772,
          49941.24791863104,
          42590.08516935663,
          44417.44011194473,
          41424.17275926812,
          48821.74731917763,
          36726.76813908308,
          37061.599634041704,
          43179.29826810293,
          35452.15246162472,
          32929.453305351555
         ],
         "yaxis": "y2"
        },
        {
         "legendgroup": "NUC",
         "marker": {
          "color": "#ff270f",
          "line": {
           "color": "white",
           "width": 0.05
          }
         },
         "name": "NUC",
         "type": "bar",
         "x": [
          2018,
          2019,
          2020,
          2021,
          2022,
          2023,
          2024,
          2025,
          2026,
          2027,
          2028,
          2029,
          2030,
          2031,
          2032,
          2033,
          2034,
          2035,
          2036,
          2037,
          2038,
          2039,
          2040,
          2041,
          2042,
          2043,
          2044,
          2045,
          2046,
          2047,
          2048,
          2049,
          2050
         ],
         "xaxis": "x",
         "y": [
          1860,
          1860,
          1860,
          1860,
          1860,
          1860,
          1860,
          1860,
          1860,
          1860,
          1860,
          1860,
          1860,
          1860,
          1860,
          1860,
          1860,
          1860,
          1860,
          1860,
          1860,
          1860,
          1860,
          1860,
          1860,
          1860,
          1860,
          1860,
          930,
          0,
          0,
          0,
          0
         ],
         "yaxis": "y"
        },
        {
         "legendgroup": "NUC",
         "marker": {
          "color": "#ff270f",
          "line": {
           "color": "white",
           "width": 0.05
          }
         },
         "name": "NUC",
         "showlegend": false,
         "type": "bar",
         "x": [
          2018,
          2019,
          2020,
          2021,
          2022,
          2023,
          2024,
          2025,
          2026,
          2027,
          2028,
          2029,
          2030,
          2031,
          2032,
          2033,
          2034,
          2035,
          2036,
          2037,
          2038,
          2039,
          2040,
          2041,
          2042,
          2043,
          2044,
          2045,
          2046,
          2047,
          2048,
          2049,
          2050
         ],
         "xaxis": "x2",
         "y": [
          13360.7519999999,
          13360.7519999999,
          13397.3567999999,
          13360.7519999999,
          13360.7519999999,
          13360.7519999999,
          13397.3567999999,
          12855.65040000004,
          12937.11839999988,
          12513.4848000001,
          13397.3567999999,
          13360.7519999999,
          13360.7519999999,
          13360.75199999972,
          12890.87136000004,
          12937.11839999988,
          12513.4848000001,
          13360.75199999963,
          13397.3567999997,
          13360.7519999999,
          13360.7519999999,
          12601.15216434002,
          12972.56255999988,
          12076.092626788279,
          12977.18965879288,
          13083.48791498301,
          12439.641374000032,
          11735.23511709297,
          5809.43402305645,
          0,
          0,
          0,
          0
         ],
         "yaxis": "y2"
        },
        {
         "legendgroup": "GAS",
         "marker": {
          "color": "#969696",
          "line": {
           "color": "white",
           "width": 0.05
          }
         },
         "name": "GAS",
         "type": "bar",
         "x": [
          2018,
          2019,
          2020,
          2021,
          2022,
          2023,
          2024,
          2025,
          2026,
          2027,
          2028,
          2029,
          2030,
          2031,
          2032,
          2033,
          2034,
          2035,
          2036,
          2037,
          2038,
          2039,
          2040,
          2041,
          2042,
          2043,
          2044,
          2045,
          2046,
          2047,
          2048,
          2049,
          2050
         ],
         "xaxis": "x",
         "y": [
          424.6,
          424.6,
          424.6,
          424.6,
          424.6,
          424.6,
          424.6,
          424.6,
          424.6,
          424.6,
          424.6,
          424.6,
          424.6,
          424.6,
          424.6,
          424.6,
          424.6,
          424.6,
          424.6,
          424.6,
          424.6,
          424.6,
          424.6,
          424.6,
          424.6,
          424.6,
          424.6,
          424.6,
          424.6,
          424.6,
          424.6,
          424.6,
          424.6
         ],
         "yaxis": "y"
        },
        {
         "legendgroup": "GAS",
         "marker": {
          "color": "#969696",
          "line": {
           "color": "white",
           "width": 0.05
          }
         },
         "name": "GAS",
         "showlegend": false,
         "type": "bar",
         "x": [
          2018,
          2019,
          2020,
          2021,
          2022,
          2023,
          2024,
          2025,
          2026,
          2027,
          2028,
          2029,
          2030,
          2031,
          2032,
          2033,
          2034,
          2035,
          2036,
          2037,
          2038,
          2039,
          2040,
          2041,
          2042,
          2043,
          2044,
          2045,
          2046,
          2047,
          2048,
          2049,
          2050
         ],
         "xaxis": "x2",
         "y": [
          2231.697599999993,
          2231.697599999993,
          2610.7804799998803,
          2603.64719999964,
          2603.6471999999703,
          2242.119911999993,
          2237.811839999993,
          2231.697599999993,
          2231.697599999993,
          2231.697599999993,
          2237.811839999993,
          2231.697599999993,
          2231.697599999993,
          2231.697599999993,
          2237.811839999993,
          2231.697599999993,
          2231.697599999993,
          2231.697599999993,
          2237.811839999993,
          2231.697599999993,
          2231.697599999993,
          2231.697599999993,
          2237.811839999993,
          2231.697599999993,
          2231.697599999993,
          2256.7111487999928,
          2237.811839999993,
          2231.697599999993,
          2231.697599999993,
          2231.697599999993,
          2237.811839999993,
          2231.820640514863,
          2254.926141573123
         ],
         "yaxis": "y2"
        },
        {
         "legendgroup": "PEA",
         "marker": {
          "color": "#e8d2ca",
          "line": {
           "color": "white",
           "width": 0.05
          }
         },
         "name": "PEA",
         "type": "bar",
         "x": [
          2018,
          2019,
          2020,
          2021,
          2022,
          2023,
          2024,
          2025,
          2026,
          2027,
          2028,
          2029,
          2030,
          2031,
          2032,
          2033,
          2034,
          2035,
          2036,
          2037,
          2038,
          2039,
          2040,
          2041,
          2042,
          2043,
          2044,
          2045,
          2046,
          2047,
          2048,
          2049,
          2050
         ],
         "xaxis": "x",
         "y": [
          3405,
          3405,
          3405,
          3405,
          3405,
          4979.345652,
          4979.345652,
          6668.7351582,
          7286.02376232,
          7286.02376232,
          7286.02376232,
          7712.70730752,
          7712.70730752,
          7712.70730752,
          7712.70730752,
          7712.70730752,
          7712.70730752,
          7712.70730752,
          7712.70730752,
          8590.437344760001,
          8325.15831132,
          7002.15831132,
          7002.15831132,
          7002.15831132,
          7002.15831132,
          7002.15831132,
          7002.15831132,
          7002.15831132,
          5997.15831132,
          5997.15831132,
          5997.15831132,
          5997.15831132,
          5997.15831132
         ],
         "yaxis": "y"
        },
        {
         "legendgroup": "PEA",
         "marker": {
          "color": "#e8d2ca",
          "line": {
           "color": "white",
           "width": 0.05
          }
         },
         "name": "PEA",
         "showlegend": false,
         "type": "bar",
         "x": [
          2018,
          2019,
          2020,
          2021,
          2022,
          2023,
          2024,
          2025,
          2026,
          2027,
          2028,
          2029,
          2030,
          2031,
          2032,
          2033,
          2034,
          2035,
          2036,
          2037,
          2038,
          2039,
          2040,
          2041,
          2042,
          2043,
          2044,
          2045,
          2046,
          2047,
          2048,
          2049,
          2050
         ],
         "xaxis": "x2",
         "y": [
          362.0791344541001,
          352.03632981201,
          3646.775922131731,
          4589.090906416749,
          5965.5599999999195,
          557.70263397439,
          799.554532970609,
          1438.8820014819103,
          1845.71271315433,
          1978.7891451367302,
          2218.6389508602306,
          2414.92266858326,
          1085.4114446176802,
          925.3435973949502,
          1689.52859750281,
          1353.1748732362103,
          1438.9887922815099,
          2494.8996542048803,
          2162.42377915905,
          3175.60657212537,
          2094.51689793804,
          2463.97079512996,
          1164.1136122777102,
          3107.44205118399,
          1795.5589255659,
          3648.91135870566,
          2191.54569211553,
          2278.5283426891397,
          3003.16015108385,
          3688.07783334272,
          1385.13486065526,
          1436.194538934,
          1098.24938165104
         ],
         "yaxis": "y2"
        },
        {
         "legendgroup": "HYD",
         "marker": {
          "color": "#2760a6",
          "line": {
           "color": "white",
           "width": 0.05
          }
         },
         "name": "HYD",
         "type": "bar",
         "x": [
          2018,
          2019,
          2020,
          2021,
          2022,
          2023,
          2024,
          2025,
          2026,
          2027,
          2028,
          2029,
          2030,
          2031,
          2032,
          2033,
          2034,
          2035,
          2036,
          2037,
          2038,
          2039,
          2040,
          2041,
          2042,
          2043,
          2044,
          2045,
          2046,
          2047,
          2048,
          2049,
          2050
         ],
         "xaxis": "x",
         "y": [
          2192,
          2192,
          2192,
          2192,
          2192,
          2192,
          2192,
          2192,
          2192,
          2192,
          2192,
          2192,
          2192,
          2192,
          2192,
          2192,
          2192,
          2192,
          2192,
          2192,
          2192,
          2192,
          2192,
          2192,
          2192,
          2192,
          2192,
          2192,
          2192,
          2192,
          2192,
          2192,
          2192
         ],
         "yaxis": "y"
        },
        {
         "legendgroup": "HYD",
         "marker": {
          "color": "#2760a6",
          "line": {
           "color": "white",
           "width": 0.05
          }
         },
         "name": "HYD",
         "showlegend": false,
         "type": "bar",
         "x": [
          2018,
          2019,
          2020,
          2021,
          2022,
          2023,
          2024,
          2025,
          2026,
          2027,
          2028,
          2029,
          2030,
          2031,
          2032,
          2033,
          2034,
          2035,
          2036,
          2037,
          2038,
          2039,
          2040,
          2041,
          2042,
          2043,
          2044,
          2045,
          2046,
          2047,
          2048,
          2049,
          2050
         ],
         "xaxis": "x2",
         "y": [
          13163.450971716773,
          13171.096407251158,
          13195.64301458445,
          13031.48636223612,
          13198.90073110389,
          13118.64633887006,
          13196.121691878066,
          13154.6031795276,
          13165.976227784204,
          13150.736766150474,
          13164.26351198073,
          13159.867428915311,
          12694.634694302184,
          13074.069716830962,
          13203.3262651447,
          12988.60807515381,
          13111.572594925221,
          13118.708019018442,
          12954.252729339312,
          12960.183920602292,
          13008.579937153121,
          11649.32636697559,
          12383.806683505532,
          11215.546108336628,
          10153.894409447441,
          11644.914957861074,
          10110.088902431487,
          12000.653999951299,
          8853.882318058691,
          9942.764364734623,
          12750.843370372657,
          9715.45709950998,
          8407.194580901329
         ],
         "yaxis": "y2"
        },
        {
         "legendgroup": "WIN",
         "marker": {
          "color": "#9db1cf",
          "line": {
           "color": "white",
           "width": 0.05
          }
         },
         "name": "WIN",
         "type": "bar",
         "x": [
          2018,
          2019,
          2020,
          2021,
          2022,
          2023,
          2024,
          2025,
          2026,
          2027,
          2028,
          2029,
          2030,
          2031,
          2032,
          2033,
          2034,
          2035,
          2036,
          2037,
          2038,
          2039,
          2040,
          2041,
          2042,
          2043,
          2044,
          2045,
          2046,
          2047,
          2048,
          2049,
          2050
         ],
         "xaxis": "x",
         "y": [
          2086,
          2086,
          2226,
          2762,
          2762,
          10496.231316000001,
          10496.231316000001,
          11942.811547,
          15362.723479,
          19932.934666,
          21337.814122,
          22757.35543,
          38047.26652,
          38047.26652,
          38047.26652,
          38047.26652,
          37011.26652,
          37634.787307,
          41720.97592,
          41720.97592,
          42659.715724,
          51331.458261,
          51195.458261,
          56168.087657,
          61673.596211,
          53939.366211,
          57469.188958,
          56577.795124,
          64447.891822,
          67990.792894,
          66585.912894,
          68715.84389,
          74552.987584
         ],
         "yaxis": "y"
        },
        {
         "legendgroup": "WIN",
         "marker": {
          "color": "#9db1cf",
          "line": {
           "color": "white",
           "width": 0.05
          }
         },
         "name": "WIN",
         "showlegend": false,
         "type": "bar",
         "x": [
          2018,
          2019,
          2020,
          2021,
          2022,
          2023,
          2024,
          2025,
          2026,
          2027,
          2028,
          2029,
          2030,
          2031,
          2032,
          2033,
          2034,
          2035,
          2036,
          2037,
          2038,
          2039,
          2040,
          2041,
          2042,
          2043,
          2044,
          2045,
          2046,
          2047,
          2048,
          2049,
          2050
         ],
         "xaxis": "x2",
         "y": [
          6516.850174540441,
          6509.177647155822,
          7832.434323158209,
          8614.952579769379,
          8621.66152287283,
          32411.068317142068,
          32555.473563680367,
          36894.13899994957,
          47395.31715883509,
          61439.54673448421,
          65988.45957092576,
          70192.50459868294,
          121572.2497009829,
          117252.2332817339,
          117585.69355705162,
          117246.93722156117,
          112229.71219975085,
          115909.7648284215,
          128831.46781336097,
          128500.19895577032,
          131385.7841443178,
          157987.72687334017,
          157200.899010328,
          172416.05549205,
          187800.052226683,
          166090.046754706,
          176366.508417954,
          172855.366149805,
          198386.67767361,
          207568.018159616,
          205215.113148731,
          210840.568792902,
          226247.090860143
         ],
         "yaxis": "y2"
        },
        {
         "legendgroup": "CSP",
         "marker": {
          "color": "#eea632",
          "line": {
           "color": "white",
           "width": 0.05
          }
         },
         "name": "CSP",
         "type": "bar",
         "x": [
          2018,
          2019,
          2020,
          2021,
          2022,
          2023,
          2024,
          2025,
          2026,
          2027,
          2028,
          2029,
          2030,
          2031,
          2032,
          2033,
          2034,
          2035,
          2036,
          2037,
          2038,
          2039,
          2040,
          2041,
          2042,
          2043,
          2044,
          2045,
          2046,
          2047,
          2048,
          2049,
          2050
         ],
         "xaxis": "x",
         "y": [
          400,
          500,
          500,
          500,
          500,
          500,
          500,
          500,
          500,
          500,
          500,
          500,
          500,
          500,
          500,
          500,
          500,
          500,
          500,
          500,
          500,
          500,
          500,
          500,
          500,
          500,
          500,
          400,
          300,
          100,
          100,
          0,
          0
         ],
         "yaxis": "y"
        },
        {
         "legendgroup": "CSP",
         "marker": {
          "color": "#eea632",
          "line": {
           "color": "white",
           "width": 0.05
          }
         },
         "name": "CSP",
         "showlegend": false,
         "type": "bar",
         "x": [
          2018,
          2019,
          2020,
          2021,
          2022,
          2023,
          2024,
          2025,
          2026,
          2027,
          2028,
          2029,
          2030,
          2031,
          2032,
          2033,
          2034,
          2035,
          2036,
          2037,
          2038,
          2039,
          2040,
          2041,
          2042,
          2043,
          2044,
          2045,
          2046,
          2047,
          2048,
          2049,
          2050
         ],
         "xaxis": "x2",
         "y": [
          1880.432598643549,
          1892.145162588379,
          2121.362452339109,
          2147.22111385989,
          2361.74593195985,
          1900.624047026299,
          1904.395830683059,
          1898.422544200509,
          1895.4306541135588,
          1892.816686984259,
          1904.1809197272191,
          1898.204120985439,
          1890.087920677159,
          1886.7353783045291,
          1897.062354755059,
          1884.431267364469,
          1891.168861612309,
          1902.325716259749,
          1900.579476480269,
          1895.775051647889,
          1894.440130230259,
          1884.431267364469,
          1889.916359891149,
          1891.428937626079,
          1898.972157964909,
          1891.428937626079,
          1902.196451949699,
          1481.670098654498,
          983.3635628880261,
          10.99633898253,
          12.169728813,
          0,
          0
         ],
         "yaxis": "y2"
        },
        {
         "legendgroup": "SPV",
         "marker": {
          "color": "#ffed11",
          "line": {
           "color": "white",
           "width": 0.05
          }
         },
         "name": "SPV",
         "type": "bar",
         "x": [
          2018,
          2019,
          2020,
          2021,
          2022,
          2023,
          2024,
          2025,
          2026,
          2027,
          2028,
          2029,
          2030,
          2031,
          2032,
          2033,
          2034,
          2035,
          2036,
          2037,
          2038,
          2039,
          2040,
          2041,
          2042,
          2043,
          2044,
          2045,
          2046,
          2047,
          2048,
          2049,
          2050
         ],
         "xaxis": "x",
         "y": [
          1479,
          1594,
          1669,
          1894,
          1894,
          1894,
          1894,
          4780.713797,
          4780.713797,
          4780.713797,
          4780.713797,
          6128.557283,
          7378.1937,
          11342.074288,
          19782.953042,
          22744.594911,
          24958.584925,
          29980.432829,
          31285.565911,
          39577.625492,
          41405.656214,
          41405.656214,
          47200.387475,
          47200.387475,
          46765.387475,
          58435.420981,
          58435.420981,
          58435.420981,
          58020.420981,
          58020.420981,
          59160.14091,
          64290.128479,
          61403.418479
         ],
         "yaxis": "y"
        },
        {
         "legendgroup": "SPV",
         "marker": {
          "color": "#ffed11",
          "line": {
           "color": "white",
           "width": 0.05
          }
         },
         "name": "SPV",
         "showlegend": false,
         "type": "bar",
         "x": [
          2018,
          2019,
          2020,
          2021,
          2022,
          2023,
          2024,
          2025,
          2026,
          2027,
          2028,
          2029,
          2030,
          2031,
          2032,
          2033,
          2034,
          2035,
          2036,
          2037,
          2038,
          2039,
          2040,
          2041,
          2042,
          2043,
          2044,
          2045,
          2046,
          2047,
          2048,
          2049,
          2050
         ],
         "xaxis": "x2",
         "y": [
          3292.892343824583,
          3534.4251521460574,
          4070.537934049289,
          4216.861334695538,
          4216.86133992298,
          4216.861340661637,
          4231.9466908395225,
          9361.015562510333,
          9361.746117568378,
          9362.137325913569,
          9391.297013837495,
          11764.129027718216,
          13991.34638602052,
          21054.1982840732,
          36208.35835775687,
          41376.491353526355,
          45339.2419302709,
          54305.19007824582,
          56770.240351739645,
          71438.58029688198,
          74677.18796124398,
          73788.74018357114,
          84750.7048348403,
          84570.42979642759,
          83539.1706621662,
          104330.35095173829,
          104638.32273041015,
          103862.03720505704,
          103431.008723601,
          103432.243179191,
          105749.251905159,
          114593.32119977,
          109487.020281784
         ],
         "yaxis": "y2"
        },
        {
         "legendgroup": "DPV",
         "marker": {
          "color": "#d7c700",
          "line": {
           "color": "white",
           "width": 0.05
          }
         },
         "name": "DPV",
         "type": "bar",
         "x": [
          2018,
          2019,
          2020,
          2021,
          2022,
          2023,
          2024,
          2025,
          2026,
          2027,
          2028,
          2029,
          2030,
          2031,
          2032,
          2033,
          2034,
          2035,
          2036,
          2037,
          2038,
          2039,
          2040,
          2041,
          2042,
          2043,
          2044,
          2045,
          2046,
          2047,
          2048,
          2049,
          2050
         ],
         "xaxis": "x",
         "y": [
          584,
          584,
          584,
          584,
          584,
          1084,
          1584,
          2084,
          2584,
          3084,
          3584,
          4084,
          4584,
          4584,
          4584,
          4584,
          4584,
          4584,
          4584,
          4584,
          4584,
          4430,
          4310,
          4200,
          4000,
          4000,
          4000,
          4000,
          4000,
          3500,
          3000,
          2500,
          2000
         ],
         "yaxis": "y"
        },
        {
         "legendgroup": "DPV",
         "marker": {
          "color": "#d7c700",
          "line": {
           "color": "white",
           "width": 0.05
          }
         },
         "name": "DPV",
         "showlegend": false,
         "type": "bar",
         "x": [
          2018,
          2019,
          2020,
          2021,
          2022,
          2023,
          2024,
          2025,
          2026,
          2027,
          2028,
          2029,
          2030,
          2031,
          2032,
          2033,
          2034,
          2035,
          2036,
          2037,
          2038,
          2039,
          2040,
          2041,
          2042,
          2043,
          2044,
          2045,
          2046,
          2047,
          2048,
          2049,
          2050
         ],
         "xaxis": "x2",
         "y": [
          1041.47248703648,
          1041.47248727008,
          1044.58243108592,
          1041.4724868788,
          1041.47248610792,
          1933.14413585584,
          2833.2509771808,
          3716.48743505347,
          4608.15916402232,
          5499.83073550378,
          6410.58807334399,
          7283.17403842519,
          8174.84568962951,
          8174.84568266185,
          8199.25661050919,
          8174.84567821537,
          8174.84568444962,
          8174.84568701664,
          8199.25662623231,
          8174.84582031936,
          8174.84568114911,
          7900.21081031721,
          7709.16143067401,
          7490.04186222601,
          7133.37319604,
          7133.37331616,
          7154.67418367999,
          7133.37319760001,
          7133.37319984,
          6241.70155185502,
          5366.00563914,
          4458.35824670001,
          3566.68659608001
         ],
         "yaxis": "y2"
        },
        {
         "legendgroup": "BIO",
         "marker": {
          "color": "#007770",
          "line": {
           "color": "white",
           "width": 0.05
          }
         },
         "name": "BIO",
         "type": "bar",
         "x": [
          2018,
          2019,
          2020,
          2021,
          2022,
          2023,
          2024,
          2025,
          2026,
          2027,
          2028,
          2029,
          2030,
          2031,
          2032,
          2033,
          2034,
          2035,
          2036,
          2037,
          2038,
          2039,
          2040,
          2041,
          2042,
          2043,
          2044,
          2045,
          2046,
          2047,
          2048,
          2049,
          2050
         ],
         "xaxis": "x",
         "y": [
          282,
          282,
          307,
          307,
          307,
          556.3150564,
          556.3150564,
          556.99811135,
          556.99811135,
          556.99811135,
          556.99811135,
          556.99811135,
          556.99811135,
          556.99811135,
          556.99811135,
          556.99811135,
          556.99811135,
          556.99811135,
          556.99811135,
          556.99811135,
          556.99811135,
          556.99811135,
          556.99811135,
          556.99811135,
          556.99811135,
          556.99811135,
          556.99811135,
          556.99811135,
          556.99811135,
          538.99811135,
          538.99811135,
          538.99811135,
          513.99811135
         ],
         "yaxis": "y"
        },
        {
         "legendgroup": "BIO",
         "marker": {
          "color": "#007770",
          "line": {
           "color": "white",
           "width": 0.05
          }
         },
         "name": "BIO",
         "showlegend": false,
         "type": "bar",
         "x": [
          2018,
          2019,
          2020,
          2021,
          2022,
          2023,
          2024,
          2025,
          2026,
          2027,
          2028,
          2029,
          2030,
          2031,
          2032,
          2033,
          2034,
          2035,
          2036,
          2037,
          2038,
          2039,
          2040,
          2041,
          2042,
          2043,
          2044,
          2045,
          2046,
          2047,
          2048,
          2049,
          2050
         ],
         "xaxis": "x2",
         "y": [
          1907.4525950667692,
          1769.2470934409582,
          2170.452685714375,
          2180.174057142925,
          2189.1239999999952,
          3802.90512541731,
          3832.5911069205977,
          3804.844550814778,
          3807.4307701627404,
          3800.373637327119,
          3840.144720647826,
          3794.66274968071,
          3784.324170580509,
          3782.618316043949,
          3787.62456878274,
          3787.700992178421,
          3792.80580467643,
          3787.71283567918,
          3789.508415369651,
          3782.8034997659024,
          3799.458264923249,
          3767.318036707779,
          3787.943757598908,
          3741.634175935329,
          3749.157105810958,
          3794.60961547868,
          3750.396382937782,
          3736.668941895551,
          3770.455361199727,
          3556.504611843826,
          3630.016504338102,
          3628.11283383874,
          3286.954023881421
         ],
         "yaxis": "y2"
        },
        {
         "legendgroup": "PST",
         "marker": {
          "color": "#dfe5ef",
          "line": {
           "color": "white",
           "width": 0.05
          }
         },
         "name": "PST",
         "type": "bar",
         "x": [
          2018,
          2019,
          2020,
          2021,
          2022,
          2023,
          2024,
          2025,
          2026,
          2027,
          2028,
          2029,
          2030,
          2031,
          2032,
          2033,
          2034,
          2035,
          2036,
          2037,
          2038,
          2039,
          2040,
          2041,
          2042,
          2043,
          2044,
          2045,
          2046,
          2047,
          2048,
          2049,
          2050
         ],
         "xaxis": "x",
         "y": [
          2912,
          2912,
          2912,
          2912,
          2912,
          2912,
          2912,
          2912,
          2912,
          2912,
          2912,
          2912,
          2912,
          2912,
          2912,
          2912,
          2912,
          2912,
          2912,
          2912,
          2912,
          2912,
          2912,
          2912,
          2912,
          2912,
          2912,
          2912,
          2912,
          2912,
          2912,
          2912,
          2912
         ],
         "yaxis": "y"
        },
        {
         "legendgroup": "PST",
         "marker": {
          "color": "#dfe5ef",
          "line": {
           "color": "white",
           "width": 0.05
          }
         },
         "name": "PST",
         "showlegend": false,
         "type": "bar",
         "x": [
          2018,
          2019,
          2020,
          2021,
          2022,
          2023,
          2024,
          2025,
          2026,
          2027,
          2028,
          2029,
          2030,
          2031,
          2032,
          2033,
          2034,
          2035,
          2036,
          2037,
          2038,
          2039,
          2040,
          2041,
          2042,
          2043,
          2044,
          2045,
          2046,
          2047,
          2048,
          2049,
          2050
         ],
         "xaxis": "x2",
         "y": [
          1251.3714062082531,
          876.5823879083689,
          4400.59605473648,
          3582.154087623819,
          983.225745074079,
          2810.7920968375206,
          4089.02574264729,
          3650.484750412336,
          4477.88659508344,
          5098.97754760192,
          5383.875899353249,
          4915.177972530117,
          3383.359793720321,
          3360.298306331182,
          1987.150635657881,
          4584.852637683779,
          3682.925020310932,
          3699.8316807191914,
          4536.63983273619,
          3161.839032615641,
          3947.4807637775475,
          5403.749940472459,
          3731.7102848858,
          5338.107804098598,
          5779.830300828616,
          4843.071846069261,
          5187.11628971457,
          6091.218337448071,
          6316.558735898046,
          5833.608422028678,
          4722.676801794707,
          4194.52140734362,
          5488.074203656999
         ],
         "yaxis": "y2"
        }
       ],
       "layout": {
        "annotations": [
         {
          "font": {
           "size": 16
          },
          "showarrow": false,
          "text": "<b>Installed capacity [MW]</b>",
          "x": 0.225,
          "xanchor": "center",
          "xref": "paper",
          "y": 1,
          "yanchor": "bottom",
          "yref": "paper"
         },
         {
          "font": {
           "size": 16
          },
          "showarrow": false,
          "text": "<b>Energy produced [GWh]</b>",
          "x": 0.775,
          "xanchor": "center",
          "xref": "paper",
          "y": 1,
          "yanchor": "bottom",
          "yref": "paper"
         }
        ],
        "barmode": "stack",
        "hovermode": "x",
        "paper_bgcolor": "rgba(0,0,0,0)",
        "plot_bgcolor": "rgba(0,0,0,0)",
        "template": {
         "data": {
          "bar": [
           {
            "error_x": {
             "color": "#2a3f5f"
            },
            "error_y": {
             "color": "#2a3f5f"
            },
            "marker": {
             "line": {
              "color": "#E5ECF6",
              "width": 0.5
             }
            },
            "type": "bar"
           }
          ],
          "barpolar": [
           {
            "marker": {
             "line": {
              "color": "#E5ECF6",
              "width": 0.5
             }
            },
            "type": "barpolar"
           }
          ],
          "carpet": [
           {
            "aaxis": {
             "endlinecolor": "#2a3f5f",
             "gridcolor": "white",
             "linecolor": "white",
             "minorgridcolor": "white",
             "startlinecolor": "#2a3f5f"
            },
            "baxis": {
             "endlinecolor": "#2a3f5f",
             "gridcolor": "white",
             "linecolor": "white",
             "minorgridcolor": "white",
             "startlinecolor": "#2a3f5f"
            },
            "type": "carpet"
           }
          ],
          "choropleth": [
           {
            "colorbar": {
             "outlinewidth": 0,
             "ticks": ""
            },
            "type": "choropleth"
           }
          ],
          "contour": [
           {
            "colorbar": {
             "outlinewidth": 0,
             "ticks": ""
            },
            "colorscale": [
             [
              0,
              "#0d0887"
             ],
             [
              0.1111111111111111,
              "#46039f"
             ],
             [
              0.2222222222222222,
              "#7201a8"
             ],
             [
              0.3333333333333333,
              "#9c179e"
             ],
             [
              0.4444444444444444,
              "#bd3786"
             ],
             [
              0.5555555555555556,
              "#d8576b"
             ],
             [
              0.6666666666666666,
              "#ed7953"
             ],
             [
              0.7777777777777778,
              "#fb9f3a"
             ],
             [
              0.8888888888888888,
              "#fdca26"
             ],
             [
              1,
              "#f0f921"
             ]
            ],
            "type": "contour"
           }
          ],
          "contourcarpet": [
           {
            "colorbar": {
             "outlinewidth": 0,
             "ticks": ""
            },
            "type": "contourcarpet"
           }
          ],
          "heatmap": [
           {
            "colorbar": {
             "outlinewidth": 0,
             "ticks": ""
            },
            "colorscale": [
             [
              0,
              "#0d0887"
             ],
             [
              0.1111111111111111,
              "#46039f"
             ],
             [
              0.2222222222222222,
              "#7201a8"
             ],
             [
              0.3333333333333333,
              "#9c179e"
             ],
             [
              0.4444444444444444,
              "#bd3786"
             ],
             [
              0.5555555555555556,
              "#d8576b"
             ],
             [
              0.6666666666666666,
              "#ed7953"
             ],
             [
              0.7777777777777778,
              "#fb9f3a"
             ],
             [
              0.8888888888888888,
              "#fdca26"
             ],
             [
              1,
              "#f0f921"
             ]
            ],
            "type": "heatmap"
           }
          ],
          "heatmapgl": [
           {
            "colorbar": {
             "outlinewidth": 0,
             "ticks": ""
            },
            "colorscale": [
             [
              0,
              "#0d0887"
             ],
             [
              0.1111111111111111,
              "#46039f"
             ],
             [
              0.2222222222222222,
              "#7201a8"
             ],
             [
              0.3333333333333333,
              "#9c179e"
             ],
             [
              0.4444444444444444,
              "#bd3786"
             ],
             [
              0.5555555555555556,
              "#d8576b"
             ],
             [
              0.6666666666666666,
              "#ed7953"
             ],
             [
              0.7777777777777778,
              "#fb9f3a"
             ],
             [
              0.8888888888888888,
              "#fdca26"
             ],
             [
              1,
              "#f0f921"
             ]
            ],
            "type": "heatmapgl"
           }
          ],
          "histogram": [
           {
            "marker": {
             "colorbar": {
              "outlinewidth": 0,
              "ticks": ""
             }
            },
            "type": "histogram"
           }
          ],
          "histogram2d": [
           {
            "colorbar": {
             "outlinewidth": 0,
             "ticks": ""
            },
            "colorscale": [
             [
              0,
              "#0d0887"
             ],
             [
              0.1111111111111111,
              "#46039f"
             ],
             [
              0.2222222222222222,
              "#7201a8"
             ],
             [
              0.3333333333333333,
              "#9c179e"
             ],
             [
              0.4444444444444444,
              "#bd3786"
             ],
             [
              0.5555555555555556,
              "#d8576b"
             ],
             [
              0.6666666666666666,
              "#ed7953"
             ],
             [
              0.7777777777777778,
              "#fb9f3a"
             ],
             [
              0.8888888888888888,
              "#fdca26"
             ],
             [
              1,
              "#f0f921"
             ]
            ],
            "type": "histogram2d"
           }
          ],
          "histogram2dcontour": [
           {
            "colorbar": {
             "outlinewidth": 0,
             "ticks": ""
            },
            "colorscale": [
             [
              0,
              "#0d0887"
             ],
             [
              0.1111111111111111,
              "#46039f"
             ],
             [
              0.2222222222222222,
              "#7201a8"
             ],
             [
              0.3333333333333333,
              "#9c179e"
             ],
             [
              0.4444444444444444,
              "#bd3786"
             ],
             [
              0.5555555555555556,
              "#d8576b"
             ],
             [
              0.6666666666666666,
              "#ed7953"
             ],
             [
              0.7777777777777778,
              "#fb9f3a"
             ],
             [
              0.8888888888888888,
              "#fdca26"
             ],
             [
              1,
              "#f0f921"
             ]
            ],
            "type": "histogram2dcontour"
           }
          ],
          "mesh3d": [
           {
            "colorbar": {
             "outlinewidth": 0,
             "ticks": ""
            },
            "type": "mesh3d"
           }
          ],
          "parcoords": [
           {
            "line": {
             "colorbar": {
              "outlinewidth": 0,
              "ticks": ""
             }
            },
            "type": "parcoords"
           }
          ],
          "scatter": [
           {
            "marker": {
             "colorbar": {
              "outlinewidth": 0,
              "ticks": ""
             }
            },
            "type": "scatter"
           }
          ],
          "scatter3d": [
           {
            "line": {
             "colorbar": {
              "outlinewidth": 0,
              "ticks": ""
             }
            },
            "marker": {
             "colorbar": {
              "outlinewidth": 0,
              "ticks": ""
             }
            },
            "type": "scatter3d"
           }
          ],
          "scattercarpet": [
           {
            "marker": {
             "colorbar": {
              "outlinewidth": 0,
              "ticks": ""
             }
            },
            "type": "scattercarpet"
           }
          ],
          "scattergeo": [
           {
            "marker": {
             "colorbar": {
              "outlinewidth": 0,
              "ticks": ""
             }
            },
            "type": "scattergeo"
           }
          ],
          "scattergl": [
           {
            "marker": {
             "colorbar": {
              "outlinewidth": 0,
              "ticks": ""
             }
            },
            "type": "scattergl"
           }
          ],
          "scattermapbox": [
           {
            "marker": {
             "colorbar": {
              "outlinewidth": 0,
              "ticks": ""
             }
            },
            "type": "scattermapbox"
           }
          ],
          "scatterpolar": [
           {
            "marker": {
             "colorbar": {
              "outlinewidth": 0,
              "ticks": ""
             }
            },
            "type": "scatterpolar"
           }
          ],
          "scatterpolargl": [
           {
            "marker": {
             "colorbar": {
              "outlinewidth": 0,
              "ticks": ""
             }
            },
            "type": "scatterpolargl"
           }
          ],
          "scatterternary": [
           {
            "marker": {
             "colorbar": {
              "outlinewidth": 0,
              "ticks": ""
             }
            },
            "type": "scatterternary"
           }
          ],
          "surface": [
           {
            "colorbar": {
             "outlinewidth": 0,
             "ticks": ""
            },
            "colorscale": [
             [
              0,
              "#0d0887"
             ],
             [
              0.1111111111111111,
              "#46039f"
             ],
             [
              0.2222222222222222,
              "#7201a8"
             ],
             [
              0.3333333333333333,
              "#9c179e"
             ],
             [
              0.4444444444444444,
              "#bd3786"
             ],
             [
              0.5555555555555556,
              "#d8576b"
             ],
             [
              0.6666666666666666,
              "#ed7953"
             ],
             [
              0.7777777777777778,
              "#fb9f3a"
             ],
             [
              0.8888888888888888,
              "#fdca26"
             ],
             [
              1,
              "#f0f921"
             ]
            ],
            "type": "surface"
           }
          ],
          "table": [
           {
            "cells": {
             "fill": {
              "color": "#EBF0F8"
             },
             "line": {
              "color": "white"
             }
            },
            "header": {
             "fill": {
              "color": "#C8D4E3"
             },
             "line": {
              "color": "white"
             }
            },
            "type": "table"
           }
          ]
         },
         "layout": {
          "annotationdefaults": {
           "arrowcolor": "#2a3f5f",
           "arrowhead": 0,
           "arrowwidth": 1
          },
          "colorscale": {
           "diverging": [
            [
             0,
             "#8e0152"
            ],
            [
             0.1,
             "#c51b7d"
            ],
            [
             0.2,
             "#de77ae"
            ],
            [
             0.3,
             "#f1b6da"
            ],
            [
             0.4,
             "#fde0ef"
            ],
            [
             0.5,
             "#f7f7f7"
            ],
            [
             0.6,
             "#e6f5d0"
            ],
            [
             0.7,
             "#b8e186"
            ],
            [
             0.8,
             "#7fbc41"
            ],
            [
             0.9,
             "#4d9221"
            ],
            [
             1,
             "#276419"
            ]
           ],
           "sequential": [
            [
             0,
             "#0d0887"
            ],
            [
             0.1111111111111111,
             "#46039f"
            ],
            [
             0.2222222222222222,
             "#7201a8"
            ],
            [
             0.3333333333333333,
             "#9c179e"
            ],
            [
             0.4444444444444444,
             "#bd3786"
            ],
            [
             0.5555555555555556,
             "#d8576b"
            ],
            [
             0.6666666666666666,
             "#ed7953"
            ],
            [
             0.7777777777777778,
             "#fb9f3a"
            ],
            [
             0.8888888888888888,
             "#fdca26"
            ],
            [
             1,
             "#f0f921"
            ]
           ],
           "sequentialminus": [
            [
             0,
             "#0d0887"
            ],
            [
             0.1111111111111111,
             "#46039f"
            ],
            [
             0.2222222222222222,
             "#7201a8"
            ],
            [
             0.3333333333333333,
             "#9c179e"
            ],
            [
             0.4444444444444444,
             "#bd3786"
            ],
            [
             0.5555555555555556,
             "#d8576b"
            ],
            [
             0.6666666666666666,
             "#ed7953"
            ],
            [
             0.7777777777777778,
             "#fb9f3a"
            ],
            [
             0.8888888888888888,
             "#fdca26"
            ],
            [
             1,
             "#f0f921"
            ]
           ]
          },
          "colorway": [
           "#636efa",
           "#EF553B",
           "#00cc96",
           "#ab63fa",
           "#FFA15A",
           "#19d3f3",
           "#FF6692",
           "#B6E880",
           "#FF97FF",
           "#FECB52"
          ],
          "font": {
           "color": "#2a3f5f"
          },
          "geo": {
           "bgcolor": "white",
           "lakecolor": "white",
           "landcolor": "#E5ECF6",
           "showlakes": true,
           "showland": true,
           "subunitcolor": "white"
          },
          "hoverlabel": {
           "align": "left"
          },
          "hovermode": "closest",
          "mapbox": {
           "style": "light"
          },
          "paper_bgcolor": "white",
          "plot_bgcolor": "#E5ECF6",
          "polar": {
           "angularaxis": {
            "gridcolor": "white",
            "linecolor": "white",
            "ticks": ""
           },
           "bgcolor": "#E5ECF6",
           "radialaxis": {
            "gridcolor": "white",
            "linecolor": "white",
            "ticks": ""
           }
          },
          "scene": {
           "xaxis": {
            "backgroundcolor": "#E5ECF6",
            "gridcolor": "white",
            "gridwidth": 2,
            "linecolor": "white",
            "showbackground": true,
            "ticks": "",
            "zerolinecolor": "white"
           },
           "yaxis": {
            "backgroundcolor": "#E5ECF6",
            "gridcolor": "white",
            "gridwidth": 2,
            "linecolor": "white",
            "showbackground": true,
            "ticks": "",
            "zerolinecolor": "white"
           },
           "zaxis": {
            "backgroundcolor": "#E5ECF6",
            "gridcolor": "white",
            "gridwidth": 2,
            "linecolor": "white",
            "showbackground": true,
            "ticks": "",
            "zerolinecolor": "white"
           }
          },
          "shapedefaults": {
           "line": {
            "color": "#2a3f5f"
           }
          },
          "ternary": {
           "aaxis": {
            "gridcolor": "white",
            "linecolor": "white",
            "ticks": ""
           },
           "baxis": {
            "gridcolor": "white",
            "linecolor": "white",
            "ticks": ""
           },
           "bgcolor": "#E5ECF6",
           "caxis": {
            "gridcolor": "white",
            "linecolor": "white",
            "ticks": ""
           }
          },
          "title": {
           "x": 0.05
          },
          "xaxis": {
           "automargin": true,
           "gridcolor": "white",
           "linecolor": "white",
           "ticks": "",
           "zerolinecolor": "white",
           "zerolinewidth": 2
          },
          "yaxis": {
           "automargin": true,
           "gridcolor": "white",
           "linecolor": "white",
           "ticks": "",
           "zerolinecolor": "white",
           "zerolinewidth": 2
          }
         }
        },
        "title": {
         "font": {
          "size": 30
         },
         "text": "CSIR LC (2019)"
        },
        "xaxis": {
         "anchor": "y",
         "categoryorder": "category ascending",
         "domain": [
          0,
          0.45
         ]
        },
        "xaxis2": {
         "anchor": "y2",
         "domain": [
          0.55,
          1
         ]
        },
        "yaxis": {
         "anchor": "x",
         "domain": [
          0,
          1
         ],
         "gridcolor": "lightgray",
         "gridwidth": 0.25,
         "showgrid": true
        },
        "yaxis2": {
         "anchor": "x2",
         "domain": [
          0,
          1
         ],
         "gridcolor": "lightgray",
         "gridwidth": 0.25,
         "showgrid": true
        }
       }
      },
      "text/html": [
       "<div>\n",
       "        \n",
       "        \n",
       "            <div id=\"43a769a8-24f4-4d6e-82e8-e2e7a5530404\" class=\"plotly-graph-div\" style=\"height:525px; width:100%;\"></div>\n",
       "            <script type=\"text/javascript\">\n",
       "                require([\"plotly\"], function(Plotly) {\n",
       "                    window.PLOTLYENV=window.PLOTLYENV || {};\n",
       "                    \n",
       "                if (document.getElementById(\"43a769a8-24f4-4d6e-82e8-e2e7a5530404\")) {\n",
       "                    Plotly.newPlot(\n",
       "                        '43a769a8-24f4-4d6e-82e8-e2e7a5530404',\n",
       "                        [{\"legendgroup\": \"COA\", \"marker\": {\"color\": \"#8c664a\", \"line\": {\"color\": \"white\", \"width\": 0.05}}, \"name\": \"COA\", \"type\": \"bar\", \"x\": [2018, 2019, 2020, 2021, 2022, 2023, 2024, 2025, 2026, 2027, 2028, 2029, 2030, 2031, 2032, 2033, 2034, 2035, 2036, 2037, 2038, 2039, 2040, 2041, 2042, 2043, 2044, 2045, 2046, 2047, 2048, 2049, 2050], \"xaxis\": \"x\", \"y\": [37625, 38671, 37457, 38038, 38014, 38214, 38008, 37688, 36362, 35826, 35826, 34301, 31441, 30291, 28566, 27416, 26841, 25663, 24485, 21484, 19644, 17851, 17236, 14138, 12883, 12883, 12243, 12243, 11629, 11015, 10401, 9734, 9067], \"yaxis\": \"y\"}, {\"legendgroup\": \"COA\", \"marker\": {\"color\": \"#8c664a\", \"line\": {\"color\": \"white\", \"width\": 0.05}}, \"name\": \"COA\", \"showlegend\": false, \"type\": \"bar\", \"x\": [2018, 2019, 2020, 2021, 2022, 2023, 2024, 2025, 2026, 2027, 2028, 2029, 2030, 2031, 2032, 2033, 2034, 2035, 2036, 2037, 2038, 2039, 2040, 2041, 2042, 2043, 2044, 2045, 2046, 2047, 2048, 2049, 2050], \"xaxis\": \"x2\", \"y\": [202281.47420086898, 202469.50209797727, 197784.6437393029, 197256.04933011747, 191840.44790644673, 184041.73052895168, 187392.71798953135, 182955.9370231856, 177998.62230622076, 169108.62143876273, 168764.73641313182, 165914.10271145724, 120533.12418737702, 121102.55331667975, 109807.37798208042, 111453.42819888744, 115961.5602355053, 105887.51705810832, 96767.393345745, 84917.30209719652, 85191.07301035017, 66008.54509513287, 60429.94867501772, 49941.24791863104, 42590.08516935663, 44417.44011194473, 41424.17275926812, 48821.74731917763, 36726.76813908308, 37061.599634041704, 43179.29826810293, 35452.15246162472, 32929.453305351555], \"yaxis\": \"y2\"}, {\"legendgroup\": \"NUC\", \"marker\": {\"color\": \"#ff270f\", \"line\": {\"color\": \"white\", \"width\": 0.05}}, \"name\": \"NUC\", \"type\": \"bar\", \"x\": [2018, 2019, 2020, 2021, 2022, 2023, 2024, 2025, 2026, 2027, 2028, 2029, 2030, 2031, 2032, 2033, 2034, 2035, 2036, 2037, 2038, 2039, 2040, 2041, 2042, 2043, 2044, 2045, 2046, 2047, 2048, 2049, 2050], \"xaxis\": \"x\", \"y\": [1860, 1860, 1860, 1860, 1860, 1860, 1860, 1860, 1860, 1860, 1860, 1860, 1860, 1860, 1860, 1860, 1860, 1860, 1860, 1860, 1860, 1860, 1860, 1860, 1860, 1860, 1860, 1860, 930, 0, 0, 0, 0], \"yaxis\": \"y\"}, {\"legendgroup\": \"NUC\", \"marker\": {\"color\": \"#ff270f\", \"line\": {\"color\": \"white\", \"width\": 0.05}}, \"name\": \"NUC\", \"showlegend\": false, \"type\": \"bar\", \"x\": [2018, 2019, 2020, 2021, 2022, 2023, 2024, 2025, 2026, 2027, 2028, 2029, 2030, 2031, 2032, 2033, 2034, 2035, 2036, 2037, 2038, 2039, 2040, 2041, 2042, 2043, 2044, 2045, 2046, 2047, 2048, 2049, 2050], \"xaxis\": \"x2\", \"y\": [13360.7519999999, 13360.7519999999, 13397.3567999999, 13360.7519999999, 13360.7519999999, 13360.7519999999, 13397.3567999999, 12855.65040000004, 12937.11839999988, 12513.4848000001, 13397.3567999999, 13360.7519999999, 13360.7519999999, 13360.75199999972, 12890.87136000004, 12937.11839999988, 12513.4848000001, 13360.75199999963, 13397.3567999997, 13360.7519999999, 13360.7519999999, 12601.15216434002, 12972.56255999988, 12076.092626788279, 12977.18965879288, 13083.48791498301, 12439.641374000032, 11735.23511709297, 5809.43402305645, 0.0, 0.0, 0.0, 0.0], \"yaxis\": \"y2\"}, {\"legendgroup\": \"GAS\", \"marker\": {\"color\": \"#969696\", \"line\": {\"color\": \"white\", \"width\": 0.05}}, \"name\": \"GAS\", \"type\": \"bar\", \"x\": [2018, 2019, 2020, 2021, 2022, 2023, 2024, 2025, 2026, 2027, 2028, 2029, 2030, 2031, 2032, 2033, 2034, 2035, 2036, 2037, 2038, 2039, 2040, 2041, 2042, 2043, 2044, 2045, 2046, 2047, 2048, 2049, 2050], \"xaxis\": \"x\", \"y\": [424.6, 424.6, 424.6, 424.6, 424.6, 424.6, 424.6, 424.6, 424.6, 424.6, 424.6, 424.6, 424.6, 424.6, 424.6, 424.6, 424.6, 424.6, 424.6, 424.6, 424.6, 424.6, 424.6, 424.6, 424.6, 424.6, 424.6, 424.6, 424.6, 424.6, 424.6, 424.6, 424.6], \"yaxis\": \"y\"}, {\"legendgroup\": \"GAS\", \"marker\": {\"color\": \"#969696\", \"line\": {\"color\": \"white\", \"width\": 0.05}}, \"name\": \"GAS\", \"showlegend\": false, \"type\": \"bar\", \"x\": [2018, 2019, 2020, 2021, 2022, 2023, 2024, 2025, 2026, 2027, 2028, 2029, 2030, 2031, 2032, 2033, 2034, 2035, 2036, 2037, 2038, 2039, 2040, 2041, 2042, 2043, 2044, 2045, 2046, 2047, 2048, 2049, 2050], \"xaxis\": \"x2\", \"y\": [2231.697599999993, 2231.697599999993, 2610.7804799998803, 2603.64719999964, 2603.6471999999703, 2242.119911999993, 2237.811839999993, 2231.697599999993, 2231.697599999993, 2231.697599999993, 2237.811839999993, 2231.697599999993, 2231.697599999993, 2231.697599999993, 2237.811839999993, 2231.697599999993, 2231.697599999993, 2231.697599999993, 2237.811839999993, 2231.697599999993, 2231.697599999993, 2231.697599999993, 2237.811839999993, 2231.697599999993, 2231.697599999993, 2256.7111487999928, 2237.811839999993, 2231.697599999993, 2231.697599999993, 2231.697599999993, 2237.811839999993, 2231.820640514863, 2254.926141573123], \"yaxis\": \"y2\"}, {\"legendgroup\": \"PEA\", \"marker\": {\"color\": \"#e8d2ca\", \"line\": {\"color\": \"white\", \"width\": 0.05}}, \"name\": \"PEA\", \"type\": \"bar\", \"x\": [2018, 2019, 2020, 2021, 2022, 2023, 2024, 2025, 2026, 2027, 2028, 2029, 2030, 2031, 2032, 2033, 2034, 2035, 2036, 2037, 2038, 2039, 2040, 2041, 2042, 2043, 2044, 2045, 2046, 2047, 2048, 2049, 2050], \"xaxis\": \"x\", \"y\": [3405.0, 3405.0, 3405.0, 3405.0, 3405.0, 4979.345652, 4979.345652, 6668.7351582, 7286.02376232, 7286.02376232, 7286.02376232, 7712.70730752, 7712.70730752, 7712.70730752, 7712.70730752, 7712.70730752, 7712.70730752, 7712.70730752, 7712.70730752, 8590.437344760001, 8325.15831132, 7002.15831132, 7002.15831132, 7002.15831132, 7002.15831132, 7002.15831132, 7002.15831132, 7002.15831132, 5997.15831132, 5997.15831132, 5997.15831132, 5997.15831132, 5997.15831132], \"yaxis\": \"y\"}, {\"legendgroup\": \"PEA\", \"marker\": {\"color\": \"#e8d2ca\", \"line\": {\"color\": \"white\", \"width\": 0.05}}, \"name\": \"PEA\", \"showlegend\": false, \"type\": \"bar\", \"x\": [2018, 2019, 2020, 2021, 2022, 2023, 2024, 2025, 2026, 2027, 2028, 2029, 2030, 2031, 2032, 2033, 2034, 2035, 2036, 2037, 2038, 2039, 2040, 2041, 2042, 2043, 2044, 2045, 2046, 2047, 2048, 2049, 2050], \"xaxis\": \"x2\", \"y\": [362.0791344541001, 352.03632981201, 3646.775922131731, 4589.090906416749, 5965.5599999999195, 557.70263397439, 799.554532970609, 1438.8820014819103, 1845.71271315433, 1978.7891451367302, 2218.6389508602306, 2414.92266858326, 1085.4114446176802, 925.3435973949502, 1689.52859750281, 1353.1748732362103, 1438.9887922815099, 2494.8996542048803, 2162.42377915905, 3175.60657212537, 2094.51689793804, 2463.97079512996, 1164.1136122777102, 3107.44205118399, 1795.5589255659, 3648.91135870566, 2191.54569211553, 2278.5283426891397, 3003.16015108385, 3688.07783334272, 1385.13486065526, 1436.194538934, 1098.24938165104], \"yaxis\": \"y2\"}, {\"legendgroup\": \"HYD\", \"marker\": {\"color\": \"#2760a6\", \"line\": {\"color\": \"white\", \"width\": 0.05}}, \"name\": \"HYD\", \"type\": \"bar\", \"x\": [2018, 2019, 2020, 2021, 2022, 2023, 2024, 2025, 2026, 2027, 2028, 2029, 2030, 2031, 2032, 2033, 2034, 2035, 2036, 2037, 2038, 2039, 2040, 2041, 2042, 2043, 2044, 2045, 2046, 2047, 2048, 2049, 2050], \"xaxis\": \"x\", \"y\": [2192, 2192, 2192, 2192, 2192, 2192, 2192, 2192, 2192, 2192, 2192, 2192, 2192, 2192, 2192, 2192, 2192, 2192, 2192, 2192, 2192, 2192, 2192, 2192, 2192, 2192, 2192, 2192, 2192, 2192, 2192, 2192, 2192], \"yaxis\": \"y\"}, {\"legendgroup\": \"HYD\", \"marker\": {\"color\": \"#2760a6\", \"line\": {\"color\": \"white\", \"width\": 0.05}}, \"name\": \"HYD\", \"showlegend\": false, \"type\": \"bar\", \"x\": [2018, 2019, 2020, 2021, 2022, 2023, 2024, 2025, 2026, 2027, 2028, 2029, 2030, 2031, 2032, 2033, 2034, 2035, 2036, 2037, 2038, 2039, 2040, 2041, 2042, 2043, 2044, 2045, 2046, 2047, 2048, 2049, 2050], \"xaxis\": \"x2\", \"y\": [13163.450971716773, 13171.096407251158, 13195.64301458445, 13031.48636223612, 13198.90073110389, 13118.64633887006, 13196.121691878066, 13154.6031795276, 13165.976227784204, 13150.736766150474, 13164.26351198073, 13159.867428915311, 12694.634694302184, 13074.069716830962, 13203.3262651447, 12988.60807515381, 13111.572594925221, 13118.708019018442, 12954.252729339312, 12960.183920602292, 13008.579937153121, 11649.32636697559, 12383.806683505532, 11215.546108336628, 10153.894409447441, 11644.914957861074, 10110.088902431487, 12000.653999951299, 8853.882318058691, 9942.764364734623, 12750.843370372657, 9715.45709950998, 8407.194580901329], \"yaxis\": \"y2\"}, {\"legendgroup\": \"WIN\", \"marker\": {\"color\": \"#9db1cf\", \"line\": {\"color\": \"white\", \"width\": 0.05}}, \"name\": \"WIN\", \"type\": \"bar\", \"x\": [2018, 2019, 2020, 2021, 2022, 2023, 2024, 2025, 2026, 2027, 2028, 2029, 2030, 2031, 2032, 2033, 2034, 2035, 2036, 2037, 2038, 2039, 2040, 2041, 2042, 2043, 2044, 2045, 2046, 2047, 2048, 2049, 2050], \"xaxis\": \"x\", \"y\": [2086.0, 2086.0, 2226.0, 2762.0, 2762.0, 10496.231316000001, 10496.231316000001, 11942.811547, 15362.723479, 19932.934666, 21337.814122, 22757.35543, 38047.26652, 38047.26652, 38047.26652, 38047.26652, 37011.26652, 37634.787307, 41720.97592, 41720.97592, 42659.715724, 51331.458261, 51195.458261, 56168.087657, 61673.596211, 53939.366211, 57469.188958, 56577.795124, 64447.891822, 67990.792894, 66585.912894, 68715.84389, 74552.987584], \"yaxis\": \"y\"}, {\"legendgroup\": \"WIN\", \"marker\": {\"color\": \"#9db1cf\", \"line\": {\"color\": \"white\", \"width\": 0.05}}, \"name\": \"WIN\", \"showlegend\": false, \"type\": \"bar\", \"x\": [2018, 2019, 2020, 2021, 2022, 2023, 2024, 2025, 2026, 2027, 2028, 2029, 2030, 2031, 2032, 2033, 2034, 2035, 2036, 2037, 2038, 2039, 2040, 2041, 2042, 2043, 2044, 2045, 2046, 2047, 2048, 2049, 2050], \"xaxis\": \"x2\", \"y\": [6516.850174540441, 6509.177647155822, 7832.434323158209, 8614.952579769379, 8621.66152287283, 32411.068317142068, 32555.473563680367, 36894.13899994957, 47395.31715883509, 61439.54673448421, 65988.45957092576, 70192.50459868294, 121572.2497009829, 117252.2332817339, 117585.69355705162, 117246.93722156117, 112229.71219975085, 115909.7648284215, 128831.46781336097, 128500.19895577032, 131385.7841443178, 157987.72687334017, 157200.899010328, 172416.05549205, 187800.052226683, 166090.046754706, 176366.508417954, 172855.366149805, 198386.67767361, 207568.018159616, 205215.113148731, 210840.568792902, 226247.090860143], \"yaxis\": \"y2\"}, {\"legendgroup\": \"CSP\", \"marker\": {\"color\": \"#eea632\", \"line\": {\"color\": \"white\", \"width\": 0.05}}, \"name\": \"CSP\", \"type\": \"bar\", \"x\": [2018, 2019, 2020, 2021, 2022, 2023, 2024, 2025, 2026, 2027, 2028, 2029, 2030, 2031, 2032, 2033, 2034, 2035, 2036, 2037, 2038, 2039, 2040, 2041, 2042, 2043, 2044, 2045, 2046, 2047, 2048, 2049, 2050], \"xaxis\": \"x\", \"y\": [400, 500, 500, 500, 500, 500, 500, 500, 500, 500, 500, 500, 500, 500, 500, 500, 500, 500, 500, 500, 500, 500, 500, 500, 500, 500, 500, 400, 300, 100, 100, 0, 0], \"yaxis\": \"y\"}, {\"legendgroup\": \"CSP\", \"marker\": {\"color\": \"#eea632\", \"line\": {\"color\": \"white\", \"width\": 0.05}}, \"name\": \"CSP\", \"showlegend\": false, \"type\": \"bar\", \"x\": [2018, 2019, 2020, 2021, 2022, 2023, 2024, 2025, 2026, 2027, 2028, 2029, 2030, 2031, 2032, 2033, 2034, 2035, 2036, 2037, 2038, 2039, 2040, 2041, 2042, 2043, 2044, 2045, 2046, 2047, 2048, 2049, 2050], \"xaxis\": \"x2\", \"y\": [1880.432598643549, 1892.145162588379, 2121.362452339109, 2147.22111385989, 2361.74593195985, 1900.624047026299, 1904.395830683059, 1898.422544200509, 1895.4306541135588, 1892.816686984259, 1904.1809197272191, 1898.204120985439, 1890.087920677159, 1886.7353783045291, 1897.062354755059, 1884.431267364469, 1891.168861612309, 1902.325716259749, 1900.579476480269, 1895.775051647889, 1894.440130230259, 1884.431267364469, 1889.916359891149, 1891.428937626079, 1898.972157964909, 1891.428937626079, 1902.196451949699, 1481.670098654498, 983.3635628880261, 10.99633898253, 12.169728813, 0.0, 0.0], \"yaxis\": \"y2\"}, {\"legendgroup\": \"SPV\", \"marker\": {\"color\": \"#ffed11\", \"line\": {\"color\": \"white\", \"width\": 0.05}}, \"name\": \"SPV\", \"type\": \"bar\", \"x\": [2018, 2019, 2020, 2021, 2022, 2023, 2024, 2025, 2026, 2027, 2028, 2029, 2030, 2031, 2032, 2033, 2034, 2035, 2036, 2037, 2038, 2039, 2040, 2041, 2042, 2043, 2044, 2045, 2046, 2047, 2048, 2049, 2050], \"xaxis\": \"x\", \"y\": [1479.0, 1594.0, 1669.0, 1894.0, 1894.0, 1894.0, 1894.0, 4780.713797, 4780.713797, 4780.713797, 4780.713797, 6128.557283, 7378.1937, 11342.074288, 19782.953042, 22744.594911, 24958.584925, 29980.432829, 31285.565911, 39577.625492, 41405.656214, 41405.656214, 47200.387475, 47200.387475, 46765.387475, 58435.420981, 58435.420981, 58435.420981, 58020.420981, 58020.420981, 59160.14091, 64290.128479, 61403.418479], \"yaxis\": \"y\"}, {\"legendgroup\": \"SPV\", \"marker\": {\"color\": \"#ffed11\", \"line\": {\"color\": \"white\", \"width\": 0.05}}, \"name\": \"SPV\", \"showlegend\": false, \"type\": \"bar\", \"x\": [2018, 2019, 2020, 2021, 2022, 2023, 2024, 2025, 2026, 2027, 2028, 2029, 2030, 2031, 2032, 2033, 2034, 2035, 2036, 2037, 2038, 2039, 2040, 2041, 2042, 2043, 2044, 2045, 2046, 2047, 2048, 2049, 2050], \"xaxis\": \"x2\", \"y\": [3292.892343824583, 3534.4251521460574, 4070.537934049289, 4216.861334695538, 4216.86133992298, 4216.861340661637, 4231.9466908395225, 9361.015562510333, 9361.746117568378, 9362.137325913569, 9391.297013837495, 11764.129027718216, 13991.34638602052, 21054.1982840732, 36208.35835775687, 41376.491353526355, 45339.2419302709, 54305.19007824582, 56770.240351739645, 71438.58029688198, 74677.18796124398, 73788.74018357114, 84750.7048348403, 84570.42979642759, 83539.1706621662, 104330.35095173829, 104638.32273041015, 103862.03720505704, 103431.008723601, 103432.243179191, 105749.251905159, 114593.32119977, 109487.020281784], \"yaxis\": \"y2\"}, {\"legendgroup\": \"DPV\", \"marker\": {\"color\": \"#d7c700\", \"line\": {\"color\": \"white\", \"width\": 0.05}}, \"name\": \"DPV\", \"type\": \"bar\", \"x\": [2018, 2019, 2020, 2021, 2022, 2023, 2024, 2025, 2026, 2027, 2028, 2029, 2030, 2031, 2032, 2033, 2034, 2035, 2036, 2037, 2038, 2039, 2040, 2041, 2042, 2043, 2044, 2045, 2046, 2047, 2048, 2049, 2050], \"xaxis\": \"x\", \"y\": [584, 584, 584, 584, 584, 1084, 1584, 2084, 2584, 3084, 3584, 4084, 4584, 4584, 4584, 4584, 4584, 4584, 4584, 4584, 4584, 4430, 4310, 4200, 4000, 4000, 4000, 4000, 4000, 3500, 3000, 2500, 2000], \"yaxis\": \"y\"}, {\"legendgroup\": \"DPV\", \"marker\": {\"color\": \"#d7c700\", \"line\": {\"color\": \"white\", \"width\": 0.05}}, \"name\": \"DPV\", \"showlegend\": false, \"type\": \"bar\", \"x\": [2018, 2019, 2020, 2021, 2022, 2023, 2024, 2025, 2026, 2027, 2028, 2029, 2030, 2031, 2032, 2033, 2034, 2035, 2036, 2037, 2038, 2039, 2040, 2041, 2042, 2043, 2044, 2045, 2046, 2047, 2048, 2049, 2050], \"xaxis\": \"x2\", \"y\": [1041.47248703648, 1041.47248727008, 1044.58243108592, 1041.4724868788, 1041.47248610792, 1933.14413585584, 2833.2509771808, 3716.48743505347, 4608.15916402232, 5499.83073550378, 6410.58807334399, 7283.17403842519, 8174.84568962951, 8174.84568266185, 8199.25661050919, 8174.84567821537, 8174.84568444962, 8174.84568701664, 8199.25662623231, 8174.84582031936, 8174.84568114911, 7900.21081031721, 7709.16143067401, 7490.04186222601, 7133.37319604, 7133.37331616, 7154.67418367999, 7133.37319760001, 7133.37319984, 6241.70155185502, 5366.00563914, 4458.35824670001, 3566.68659608001], \"yaxis\": \"y2\"}, {\"legendgroup\": \"BIO\", \"marker\": {\"color\": \"#007770\", \"line\": {\"color\": \"white\", \"width\": 0.05}}, \"name\": \"BIO\", \"type\": \"bar\", \"x\": [2018, 2019, 2020, 2021, 2022, 2023, 2024, 2025, 2026, 2027, 2028, 2029, 2030, 2031, 2032, 2033, 2034, 2035, 2036, 2037, 2038, 2039, 2040, 2041, 2042, 2043, 2044, 2045, 2046, 2047, 2048, 2049, 2050], \"xaxis\": \"x\", \"y\": [282.0, 282.0, 307.0, 307.0, 307.0, 556.3150564, 556.3150564, 556.99811135, 556.99811135, 556.99811135, 556.99811135, 556.99811135, 556.99811135, 556.99811135, 556.99811135, 556.99811135, 556.99811135, 556.99811135, 556.99811135, 556.99811135, 556.99811135, 556.99811135, 556.99811135, 556.99811135, 556.99811135, 556.99811135, 556.99811135, 556.99811135, 556.99811135, 538.99811135, 538.99811135, 538.99811135, 513.99811135], \"yaxis\": \"y\"}, {\"legendgroup\": \"BIO\", \"marker\": {\"color\": \"#007770\", \"line\": {\"color\": \"white\", \"width\": 0.05}}, \"name\": \"BIO\", \"showlegend\": false, \"type\": \"bar\", \"x\": [2018, 2019, 2020, 2021, 2022, 2023, 2024, 2025, 2026, 2027, 2028, 2029, 2030, 2031, 2032, 2033, 2034, 2035, 2036, 2037, 2038, 2039, 2040, 2041, 2042, 2043, 2044, 2045, 2046, 2047, 2048, 2049, 2050], \"xaxis\": \"x2\", \"y\": [1907.4525950667692, 1769.2470934409582, 2170.452685714375, 2180.174057142925, 2189.1239999999952, 3802.90512541731, 3832.5911069205977, 3804.844550814778, 3807.4307701627404, 3800.373637327119, 3840.144720647826, 3794.66274968071, 3784.324170580509, 3782.618316043949, 3787.62456878274, 3787.700992178421, 3792.80580467643, 3787.71283567918, 3789.508415369651, 3782.8034997659024, 3799.458264923249, 3767.318036707779, 3787.943757598908, 3741.634175935329, 3749.157105810958, 3794.60961547868, 3750.396382937782, 3736.668941895551, 3770.455361199727, 3556.504611843826, 3630.016504338102, 3628.11283383874, 3286.954023881421], \"yaxis\": \"y2\"}, {\"legendgroup\": \"PST\", \"marker\": {\"color\": \"#dfe5ef\", \"line\": {\"color\": \"white\", \"width\": 0.05}}, \"name\": \"PST\", \"type\": \"bar\", \"x\": [2018, 2019, 2020, 2021, 2022, 2023, 2024, 2025, 2026, 2027, 2028, 2029, 2030, 2031, 2032, 2033, 2034, 2035, 2036, 2037, 2038, 2039, 2040, 2041, 2042, 2043, 2044, 2045, 2046, 2047, 2048, 2049, 2050], \"xaxis\": \"x\", \"y\": [2912, 2912, 2912, 2912, 2912, 2912, 2912, 2912, 2912, 2912, 2912, 2912, 2912, 2912, 2912, 2912, 2912, 2912, 2912, 2912, 2912, 2912, 2912, 2912, 2912, 2912, 2912, 2912, 2912, 2912, 2912, 2912, 2912], \"yaxis\": \"y\"}, {\"legendgroup\": \"PST\", \"marker\": {\"color\": \"#dfe5ef\", \"line\": {\"color\": \"white\", \"width\": 0.05}}, \"name\": \"PST\", \"showlegend\": false, \"type\": \"bar\", \"x\": [2018, 2019, 2020, 2021, 2022, 2023, 2024, 2025, 2026, 2027, 2028, 2029, 2030, 2031, 2032, 2033, 2034, 2035, 2036, 2037, 2038, 2039, 2040, 2041, 2042, 2043, 2044, 2045, 2046, 2047, 2048, 2049, 2050], \"xaxis\": \"x2\", \"y\": [1251.3714062082531, 876.5823879083689, 4400.59605473648, 3582.154087623819, 983.225745074079, 2810.7920968375206, 4089.02574264729, 3650.484750412336, 4477.88659508344, 5098.97754760192, 5383.875899353249, 4915.177972530117, 3383.359793720321, 3360.298306331182, 1987.150635657881, 4584.852637683779, 3682.925020310932, 3699.8316807191914, 4536.63983273619, 3161.839032615641, 3947.4807637775475, 5403.749940472459, 3731.7102848858, 5338.107804098598, 5779.830300828616, 4843.071846069261, 5187.11628971457, 6091.218337448071, 6316.558735898046, 5833.608422028678, 4722.676801794707, 4194.52140734362, 5488.074203656999], \"yaxis\": \"y2\"}],\n",
       "                        {\"annotations\": [{\"font\": {\"size\": 16}, \"showarrow\": false, \"text\": \"<b>Installed capacity [MW]</b>\", \"x\": 0.225, \"xanchor\": \"center\", \"xref\": \"paper\", \"y\": 1.0, \"yanchor\": \"bottom\", \"yref\": \"paper\"}, {\"font\": {\"size\": 16}, \"showarrow\": false, \"text\": \"<b>Energy produced [GWh]</b>\", \"x\": 0.775, \"xanchor\": \"center\", \"xref\": \"paper\", \"y\": 1.0, \"yanchor\": \"bottom\", \"yref\": \"paper\"}], \"barmode\": \"stack\", \"hovermode\": \"x\", \"paper_bgcolor\": \"rgba(0,0,0,0)\", \"plot_bgcolor\": \"rgba(0,0,0,0)\", \"template\": {\"data\": {\"bar\": [{\"error_x\": {\"color\": \"#2a3f5f\"}, \"error_y\": {\"color\": \"#2a3f5f\"}, \"marker\": {\"line\": {\"color\": \"#E5ECF6\", \"width\": 0.5}}, \"type\": \"bar\"}], \"barpolar\": [{\"marker\": {\"line\": {\"color\": \"#E5ECF6\", \"width\": 0.5}}, \"type\": \"barpolar\"}], \"carpet\": [{\"aaxis\": {\"endlinecolor\": \"#2a3f5f\", \"gridcolor\": \"white\", \"linecolor\": \"white\", \"minorgridcolor\": \"white\", \"startlinecolor\": \"#2a3f5f\"}, \"baxis\": {\"endlinecolor\": \"#2a3f5f\", \"gridcolor\": \"white\", \"linecolor\": \"white\", \"minorgridcolor\": \"white\", \"startlinecolor\": \"#2a3f5f\"}, \"type\": \"carpet\"}], \"choropleth\": [{\"colorbar\": {\"outlinewidth\": 0, \"ticks\": \"\"}, \"type\": \"choropleth\"}], \"contour\": [{\"colorbar\": {\"outlinewidth\": 0, \"ticks\": \"\"}, \"colorscale\": [[0.0, \"#0d0887\"], [0.1111111111111111, \"#46039f\"], [0.2222222222222222, \"#7201a8\"], [0.3333333333333333, \"#9c179e\"], [0.4444444444444444, \"#bd3786\"], [0.5555555555555556, \"#d8576b\"], [0.6666666666666666, \"#ed7953\"], [0.7777777777777778, \"#fb9f3a\"], [0.8888888888888888, \"#fdca26\"], [1.0, \"#f0f921\"]], \"type\": \"contour\"}], \"contourcarpet\": [{\"colorbar\": {\"outlinewidth\": 0, \"ticks\": \"\"}, \"type\": \"contourcarpet\"}], \"heatmap\": [{\"colorbar\": {\"outlinewidth\": 0, \"ticks\": \"\"}, \"colorscale\": [[0.0, \"#0d0887\"], [0.1111111111111111, \"#46039f\"], [0.2222222222222222, \"#7201a8\"], [0.3333333333333333, \"#9c179e\"], [0.4444444444444444, \"#bd3786\"], [0.5555555555555556, \"#d8576b\"], [0.6666666666666666, \"#ed7953\"], [0.7777777777777778, \"#fb9f3a\"], [0.8888888888888888, \"#fdca26\"], [1.0, \"#f0f921\"]], \"type\": \"heatmap\"}], \"heatmapgl\": [{\"colorbar\": {\"outlinewidth\": 0, \"ticks\": \"\"}, \"colorscale\": [[0.0, \"#0d0887\"], [0.1111111111111111, \"#46039f\"], [0.2222222222222222, \"#7201a8\"], [0.3333333333333333, \"#9c179e\"], [0.4444444444444444, \"#bd3786\"], [0.5555555555555556, \"#d8576b\"], [0.6666666666666666, \"#ed7953\"], [0.7777777777777778, \"#fb9f3a\"], [0.8888888888888888, \"#fdca26\"], [1.0, \"#f0f921\"]], \"type\": \"heatmapgl\"}], \"histogram\": [{\"marker\": {\"colorbar\": {\"outlinewidth\": 0, \"ticks\": \"\"}}, \"type\": \"histogram\"}], \"histogram2d\": [{\"colorbar\": {\"outlinewidth\": 0, \"ticks\": \"\"}, \"colorscale\": [[0.0, \"#0d0887\"], [0.1111111111111111, \"#46039f\"], [0.2222222222222222, \"#7201a8\"], [0.3333333333333333, \"#9c179e\"], [0.4444444444444444, \"#bd3786\"], [0.5555555555555556, \"#d8576b\"], [0.6666666666666666, \"#ed7953\"], [0.7777777777777778, \"#fb9f3a\"], [0.8888888888888888, \"#fdca26\"], [1.0, \"#f0f921\"]], \"type\": \"histogram2d\"}], \"histogram2dcontour\": [{\"colorbar\": {\"outlinewidth\": 0, \"ticks\": \"\"}, \"colorscale\": [[0.0, \"#0d0887\"], [0.1111111111111111, \"#46039f\"], [0.2222222222222222, \"#7201a8\"], [0.3333333333333333, \"#9c179e\"], [0.4444444444444444, \"#bd3786\"], [0.5555555555555556, \"#d8576b\"], [0.6666666666666666, \"#ed7953\"], [0.7777777777777778, \"#fb9f3a\"], [0.8888888888888888, \"#fdca26\"], [1.0, \"#f0f921\"]], \"type\": \"histogram2dcontour\"}], \"mesh3d\": [{\"colorbar\": {\"outlinewidth\": 0, \"ticks\": \"\"}, \"type\": \"mesh3d\"}], \"parcoords\": [{\"line\": {\"colorbar\": {\"outlinewidth\": 0, \"ticks\": \"\"}}, \"type\": \"parcoords\"}], \"scatter\": [{\"marker\": {\"colorbar\": {\"outlinewidth\": 0, \"ticks\": \"\"}}, \"type\": \"scatter\"}], \"scatter3d\": [{\"line\": {\"colorbar\": {\"outlinewidth\": 0, \"ticks\": \"\"}}, \"marker\": {\"colorbar\": {\"outlinewidth\": 0, \"ticks\": \"\"}}, \"type\": \"scatter3d\"}], \"scattercarpet\": [{\"marker\": {\"colorbar\": {\"outlinewidth\": 0, \"ticks\": \"\"}}, \"type\": \"scattercarpet\"}], \"scattergeo\": [{\"marker\": {\"colorbar\": {\"outlinewidth\": 0, \"ticks\": \"\"}}, \"type\": \"scattergeo\"}], \"scattergl\": [{\"marker\": {\"colorbar\": {\"outlinewidth\": 0, \"ticks\": \"\"}}, \"type\": \"scattergl\"}], \"scattermapbox\": [{\"marker\": {\"colorbar\": {\"outlinewidth\": 0, \"ticks\": \"\"}}, \"type\": \"scattermapbox\"}], \"scatterpolar\": [{\"marker\": {\"colorbar\": {\"outlinewidth\": 0, \"ticks\": \"\"}}, \"type\": \"scatterpolar\"}], \"scatterpolargl\": [{\"marker\": {\"colorbar\": {\"outlinewidth\": 0, \"ticks\": \"\"}}, \"type\": \"scatterpolargl\"}], \"scatterternary\": [{\"marker\": {\"colorbar\": {\"outlinewidth\": 0, \"ticks\": \"\"}}, \"type\": \"scatterternary\"}], \"surface\": [{\"colorbar\": {\"outlinewidth\": 0, \"ticks\": \"\"}, \"colorscale\": [[0.0, \"#0d0887\"], [0.1111111111111111, \"#46039f\"], [0.2222222222222222, \"#7201a8\"], [0.3333333333333333, \"#9c179e\"], [0.4444444444444444, \"#bd3786\"], [0.5555555555555556, \"#d8576b\"], [0.6666666666666666, \"#ed7953\"], [0.7777777777777778, \"#fb9f3a\"], [0.8888888888888888, \"#fdca26\"], [1.0, \"#f0f921\"]], \"type\": \"surface\"}], \"table\": [{\"cells\": {\"fill\": {\"color\": \"#EBF0F8\"}, \"line\": {\"color\": \"white\"}}, \"header\": {\"fill\": {\"color\": \"#C8D4E3\"}, \"line\": {\"color\": \"white\"}}, \"type\": \"table\"}]}, \"layout\": {\"annotationdefaults\": {\"arrowcolor\": \"#2a3f5f\", \"arrowhead\": 0, \"arrowwidth\": 1}, \"colorscale\": {\"diverging\": [[0, \"#8e0152\"], [0.1, \"#c51b7d\"], [0.2, \"#de77ae\"], [0.3, \"#f1b6da\"], [0.4, \"#fde0ef\"], [0.5, \"#f7f7f7\"], [0.6, \"#e6f5d0\"], [0.7, \"#b8e186\"], [0.8, \"#7fbc41\"], [0.9, \"#4d9221\"], [1, \"#276419\"]], \"sequential\": [[0.0, \"#0d0887\"], [0.1111111111111111, \"#46039f\"], [0.2222222222222222, \"#7201a8\"], [0.3333333333333333, \"#9c179e\"], [0.4444444444444444, \"#bd3786\"], [0.5555555555555556, \"#d8576b\"], [0.6666666666666666, \"#ed7953\"], [0.7777777777777778, \"#fb9f3a\"], [0.8888888888888888, \"#fdca26\"], [1.0, \"#f0f921\"]], \"sequentialminus\": [[0.0, \"#0d0887\"], [0.1111111111111111, \"#46039f\"], [0.2222222222222222, \"#7201a8\"], [0.3333333333333333, \"#9c179e\"], [0.4444444444444444, \"#bd3786\"], [0.5555555555555556, \"#d8576b\"], [0.6666666666666666, \"#ed7953\"], [0.7777777777777778, \"#fb9f3a\"], [0.8888888888888888, \"#fdca26\"], [1.0, \"#f0f921\"]]}, \"colorway\": [\"#636efa\", \"#EF553B\", \"#00cc96\", \"#ab63fa\", \"#FFA15A\", \"#19d3f3\", \"#FF6692\", \"#B6E880\", \"#FF97FF\", \"#FECB52\"], \"font\": {\"color\": \"#2a3f5f\"}, \"geo\": {\"bgcolor\": \"white\", \"lakecolor\": \"white\", \"landcolor\": \"#E5ECF6\", \"showlakes\": true, \"showland\": true, \"subunitcolor\": \"white\"}, \"hoverlabel\": {\"align\": \"left\"}, \"hovermode\": \"closest\", \"mapbox\": {\"style\": \"light\"}, \"paper_bgcolor\": \"white\", \"plot_bgcolor\": \"#E5ECF6\", \"polar\": {\"angularaxis\": {\"gridcolor\": \"white\", \"linecolor\": \"white\", \"ticks\": \"\"}, \"bgcolor\": \"#E5ECF6\", \"radialaxis\": {\"gridcolor\": \"white\", \"linecolor\": \"white\", \"ticks\": \"\"}}, \"scene\": {\"xaxis\": {\"backgroundcolor\": \"#E5ECF6\", \"gridcolor\": \"white\", \"gridwidth\": 2, \"linecolor\": \"white\", \"showbackground\": true, \"ticks\": \"\", \"zerolinecolor\": \"white\"}, \"yaxis\": {\"backgroundcolor\": \"#E5ECF6\", \"gridcolor\": \"white\", \"gridwidth\": 2, \"linecolor\": \"white\", \"showbackground\": true, \"ticks\": \"\", \"zerolinecolor\": \"white\"}, \"zaxis\": {\"backgroundcolor\": \"#E5ECF6\", \"gridcolor\": \"white\", \"gridwidth\": 2, \"linecolor\": \"white\", \"showbackground\": true, \"ticks\": \"\", \"zerolinecolor\": \"white\"}}, \"shapedefaults\": {\"line\": {\"color\": \"#2a3f5f\"}}, \"ternary\": {\"aaxis\": {\"gridcolor\": \"white\", \"linecolor\": \"white\", \"ticks\": \"\"}, \"baxis\": {\"gridcolor\": \"white\", \"linecolor\": \"white\", \"ticks\": \"\"}, \"bgcolor\": \"#E5ECF6\", \"caxis\": {\"gridcolor\": \"white\", \"linecolor\": \"white\", \"ticks\": \"\"}}, \"title\": {\"x\": 0.05}, \"xaxis\": {\"automargin\": true, \"gridcolor\": \"white\", \"linecolor\": \"white\", \"ticks\": \"\", \"zerolinecolor\": \"white\", \"zerolinewidth\": 2}, \"yaxis\": {\"automargin\": true, \"gridcolor\": \"white\", \"linecolor\": \"white\", \"ticks\": \"\", \"zerolinecolor\": \"white\", \"zerolinewidth\": 2}}}, \"title\": {\"font\": {\"size\": 30}, \"text\": \"CSIR LC (2019)\"}, \"xaxis\": {\"anchor\": \"y\", \"categoryorder\": \"category ascending\", \"domain\": [0.0, 0.45]}, \"xaxis2\": {\"anchor\": \"y2\", \"domain\": [0.55, 1.0]}, \"yaxis\": {\"anchor\": \"x\", \"domain\": [0.0, 1.0], \"gridcolor\": \"lightgray\", \"gridwidth\": 0.25, \"showgrid\": true}, \"yaxis2\": {\"anchor\": \"x2\", \"domain\": [0.0, 1.0], \"gridcolor\": \"lightgray\", \"gridwidth\": 0.25, \"showgrid\": true}},\n",
       "                        {\"responsive\": true}\n",
       "                    ).then(function(){\n",
       "                            \n",
       "var gd = document.getElementById('43a769a8-24f4-4d6e-82e8-e2e7a5530404');\n",
       "var x = new MutationObserver(function (mutations, observer) {{\n",
       "        var display = window.getComputedStyle(gd).display;\n",
       "        if (!display || display === 'none') {{\n",
       "            console.log([gd, 'removed!']);\n",
       "            Plotly.purge(gd);\n",
       "            observer.disconnect();\n",
       "        }}\n",
       "}});\n",
       "\n",
       "// Listen for the removal of the full notebook cells\n",
       "var notebookContainer = gd.closest('#notebook-container');\n",
       "if (notebookContainer) {{\n",
       "    x.observe(notebookContainer, {childList: true});\n",
       "}}\n",
       "\n",
       "// Listen for the clearing of the current output cell\n",
       "var outputEl = gd.closest('.output');\n",
       "if (outputEl) {{\n",
       "    x.observe(outputEl, {childList: true});\n",
       "}}\n",
       "\n",
       "                        })\n",
       "                };\n",
       "                });\n",
       "            </script>\n",
       "        </div>"
      ]
     },
     "metadata": {},
     "output_type": "display_data"
    }
   ],
   "source": [
    "from plotly.subplots import make_subplots\n",
    "# trace=[]\n",
    "\n",
    "fig = make_subplots(rows=1, cols=2, subplot_titles=(\"<b>Installed capacity [MW]</b>\", \"<b>Energy produced [GWh]</b>\"))\n",
    "fig2 = make_subplots(rows=1, cols=2, subplot_titles=(\"<b>Installed capacity [MW]</b>\", \"<b>Energy produced [GWh]</b>\"))\n",
    "\n",
    "#fig = go.Figure()\n",
    "\n",
    "#colors\n",
    "colors = ['#8c664a', '#ff270f', '#969696', '#e8d2ca', '#2760a6', '#9db1cf', '#eea632', '#ffed11', '#d7c700', '#007770', '#dfe5ef', '#0a346f', '#4f4f4f']\n",
    "i = 0\n",
    "\n",
    "for power in powerlist:\n",
    "    #print (power)\n",
    "    fig.add_trace(go.Bar(x=IRP2019_P['Year'], y=IRP2019_P[power], name=power, legendgroup=power,\n",
    "                         marker=dict(color=colors[i], line=dict(color='white', width=0.05)\n",
    "                                    )\n",
    "                        ), row=1, col=1,\n",
    "                 )\n",
    "\n",
    "    fig.add_trace(go.Bar(x=IRP2019_E['Year'], y=IRP2019_E[power], name=power, legendgroup=power, showlegend=False,\n",
    "                         marker=dict(color=colors[i], line=dict(color='white', width=0.05)\n",
    "                                    )\n",
    "                        ), row=1, col=2, \n",
    "                 )\n",
    "\n",
    "\n",
    "    \n",
    "    fig2.add_trace(go.Bar(x=CSIR_LC_2019_P['Year'], y=CSIR_LC_2019_P[power], name=power, legendgroup=power,\n",
    "                         marker=dict(color=colors[i], line=dict(color='white', width=0.05)\n",
    "                                    )\n",
    "                        ), row=1, col=1,\n",
    "                 )\n",
    "\n",
    "    fig2.add_trace(go.Bar(x=CSIR_LC_2019_E['Year'], y=CSIR_LC_2019_E[power], name=power, legendgroup=power, showlegend=False,\n",
    "                         marker=dict(color=colors[i], line=dict(color='white', width=0.05)\n",
    "                                    )\n",
    "                        ), row=1, col=2, \n",
    "                 )\n",
    "    \n",
    "    i = i+1\n",
    "    \n",
    "fig.update_layout(barmode='stack', xaxis={'categoryorder':'category ascending'},hovermode=\"x\",\n",
    "                  title_text='IRP 2019', title_font_size=30,\n",
    "                  paper_bgcolor='rgba(0,0,0,0)', plot_bgcolor='rgba(0,0,0,0)')\n",
    "\n",
    "fig2.update_layout(barmode='stack', xaxis={'categoryorder':'category ascending'},hovermode=\"x\",\n",
    "                  title_text='CSIR LC (2019)', title_font_size=30,\n",
    "                  paper_bgcolor='rgba(0,0,0,0)', plot_bgcolor='rgba(0,0,0,0)')\n",
    "\n",
    "fig.update_yaxes(showgrid=True, gridwidth=0.25, gridcolor='lightgray')\n",
    "fig2.update_yaxes(showgrid=True, gridwidth=0.25, gridcolor='lightgray')\n",
    "\n",
    "fig.show()\n",
    "fig2.show()"
   ]
  },
  {
   "cell_type": "code",
   "execution_count": null,
   "metadata": {},
   "outputs": [],
   "source": []
  }
 ],
 "metadata": {
  "kernelspec": {
   "display_name": "Python 3",
   "language": "python",
   "name": "python3"
  },
  "language_info": {
   "codemirror_mode": {
    "name": "ipython",
    "version": 3
   },
   "file_extension": ".py",
   "mimetype": "text/x-python",
   "name": "python",
   "nbconvert_exporter": "python",
   "pygments_lexer": "ipython3",
   "version": "3.7.4"
  }
 },
 "nbformat": 4,
 "nbformat_minor": 2
}
