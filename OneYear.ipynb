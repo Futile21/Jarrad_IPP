{
 "cells": [
  {
   "cell_type": "code",
   "execution_count": 3,
   "metadata": {},
   "outputs": [],
   "source": [
    "import dash\n",
    "import plotly.graph_objs as go\n",
    "# import dash_bootstrap_components as dbc\n",
    "import dash_core_components as dcc\n",
    "import dash_html_components as html\n",
    "from dash.dependencies import Input, Output, State\n",
    "import pandas as pd\n",
    "import numpy as np\n",
    "# import dash_daq as daq\n",
    "import io\n",
    "import base64"
   ]
  },
  {
   "cell_type": "code",
   "execution_count": null,
   "metadata": {},
   "outputs": [],
   "source": []
  },
  {
   "cell_type": "code",
   "execution_count": 4,
   "metadata": {},
   "outputs": [
    {
     "name": "stdout",
     "output_type": "stream",
     "text": [
      "['Year', 'COA', 'NUC', 'GAS', 'PEA', 'HYD', 'WIN', 'CSP', 'SPV', 'DPV', 'BIO', 'DSR', 'PST', 'STO']\n"
     ]
    },
    {
     "data": {
      "text/plain": [
       "['Year', 'DSR', 'STO']"
      ]
     },
     "execution_count": 4,
     "metadata": {},
     "output_type": "execute_result"
    }
   ],
   "source": [
    "IRP2019_P = pd.read_excel('2019-IRP.xlsx', sheet_name=\"IRP1_P\").round(1)\n",
    "IRP2019_E = pd.read_excel('2019-IRP.xlsx', sheet_name=\"IRP1_E\").round(1)\n",
    "\n",
    "CSIR_LC_2019_P = pd.read_excel('2019-CSIR_LC.xlsx', sheet_name=\"IRP1_P\").round(1)\n",
    "CSIR_LC_2019_E = pd.read_excel('2019-CSIR_LC.xlsx', sheet_name=\"IRP1_E\").round(1)\n",
    "\n",
    "IRP2019_P2 = (IRP2019_P * 0.8).round(1)\n",
    "IRP2019_E2 = (IRP2019_E * 0.8).round(1)\n",
    "\n",
    "CSIR_LC_2019_P2 = (CSIR_LC_2019_P * 0.8).round(1)\n",
    "CSIR_LC_2019_E2 = (CSIR_LC_2019_E * 0.8).round(1)\n",
    "\n",
    "powerlist = list(CSIR_LC_2019_E.columns)\n",
    "print(powerlist)\n",
    "removelist = [powerlist[0], powerlist[11], powerlist[13]]\n",
    "removelist"
   ]
  },
  {
   "cell_type": "code",
   "execution_count": 5,
   "metadata": {},
   "outputs": [
    {
     "name": "stdout",
     "output_type": "stream",
     "text": [
      "remove Year\n",
      "remove DSR\n",
      "remove STO\n"
     ]
    }
   ],
   "source": [
    "for i in removelist:\n",
    "    print(f'remove {i}')\n",
    "    powerlist.remove(i)"
   ]
  },
  {
   "cell_type": "code",
   "execution_count": null,
   "metadata": {},
   "outputs": [],
   "source": []
  },
  {
   "cell_type": "code",
   "execution_count": null,
   "metadata": {},
   "outputs": [],
   "source": [
    "\n",
    "Powerlayout_oneyear = {\n",
    "    \"grid\": {\"rows\": 1, \"columns\": 2},\n",
    "    \"title\": \"\",\n",
    "    # \"width\": 1300,\n",
    "    \"xaxis\": {\n",
    "        \"ticks\": \"\",\n",
    "        \"mirror\": False,\n",
    "        \"showgrid\": True,\n",
    "        \"showline\": True,\n",
    "        \"zeroline\": False,\n",
    "        \"autorange\": True,\n",
    "        # \"gridcolor\": \"rgb(255, 255, 255)\",\n",
    "        # \"linecolor\": \"rgb(34,34,34)\",\n",
    "        \"linewidth\": 2,\n",
    "        \"title\": \"Years\",\n",
    "    },\n",
    "    \"yaxis\": {\n",
    "        \"type\": \"linear\",\n",
    "        \"ticks\": \"\",\n",
    "        # \"domain\": [0.55, 0.95],\n",
    "        \"mirror\": False,\n",
    "        \"showgrid\": True,\n",
    "        \"showline\": False,\n",
    "        \"zeroline\": False,\n",
    "        \"range\": [0, 16e4],\n",
    "        # \"gridcolor\": \"rgb(255, 255, 255)\",\n",
    "        # \"linecolor\": \"rgb(34,34,34)\",\n",
    "        \"linewidth\": 1,\n",
    "        \"title\": \"Installed capacity [MW]\",\n",
    "        \"autorange\": False,\n",
    "    },\n",
    "    \"height\": 500,\n",
    "    \"legend\": {\n",
    "        # \"x\": 1.019163763066202,\n",
    "        # \"y\": 0.5147321428571429,\n",
    "        # \"xref\": \"paper\",\n",
    "        # \"yref\": \"paper\",\n",
    "        # \"bgcolor\": \"rgba(255, 255, 255, 0.5)\",\n",
    "        \"traceorder\": \"normal\"\n",
    "    },\n",
    "    # \"margin\": {\"l\": 100},\n",
    "    \"xaxis2\": {\n",
    "        \"type\": \"linear\",\n",
    "        \"ticks\": \"\",\n",
    "        \"title\": \"Years\",\n",
    "        \"anchor\": \"y2\",\n",
    "        \"domain\": {\"column\": 0},\n",
    "        \"mirror\": False,\n",
    "        \"showgrid\": True,\n",
    "        \"showline\": True,\n",
    "        \"zeroline\": False,\n",
    "        \"autorange\": True,\n",
    "        # \"gridcolor\": \"rgb(255, 255, 255)\",\n",
    "        # \"linecolor\": \"rgb(34,34,34)\",\n",
    "        \"linewidth\": 2,\n",
    "    },\n",
    "    \"yaxis2\": {\n",
    "        \"type\": \"linear\",\n",
    "        \"ticks\": \"\",\n",
    "        \"anchor\": \"x2\",\n",
    "        \"domain\": {\"column\": 1},\n",
    "        \"mirror\": False,\n",
    "        \"showgrid\": True,\n",
    "        \"showline\": False,\n",
    "        \"zeroline\": False,\n",
    "        \"range\": [0, 4.5e5],\n",
    "        # \"gridcolor\": \"rgb(255, 255, 255)\",\n",
    "        # \"linecolor\": \"rgb(34,34,34)\",\n",
    "        \"linewidth\": 1,\n",
    "        \"autorange\": False,\n",
    "        \"title\": \"Energy produced [GWh]\",\n",
    "    },\n",
    "\n",
    "    \"barmode\": \"stack\",\n",
    "    \"autosize\": False,\n",
    "    \"showlegend\": True,\n",
    "}"
   ]
  },
  {
   "cell_type": "code",
   "execution_count": null,
   "metadata": {},
   "outputs": [],
   "source": []
  },
  {
   "cell_type": "code",
   "execution_count": null,
   "metadata": {},
   "outputs": [],
   "source": []
  },
  {
   "cell_type": "code",
   "execution_count": null,
   "metadata": {},
   "outputs": [],
   "source": [
    "IRP2019_P = pd.read_excel('2019-IRP.xlsx', sheet_name=\"IRP1_P\").round(1)\n",
    "IRP2019_E = pd.read_excel('2019-IRP.xlsx', sheet_name=\"IRP1_E\").round(1)\n",
    "\n",
    "\n",
    "\n",
    "DF_E = IRP2019_E\n",
    "DF_P = IRP2019_P\n",
    "\n",
    "traces = []\n",
    "\n",
    "\n",
    "\n",
    "for i, power in enumerate(powerlist):\n",
    "    traces.append(\n",
    "        go.Bar(x=[sliderValue],\n",
    "               y=DF_P[DF_P['Year'] == sliderValue][power],\n",
    "               name=power,\n",
    "               legendgroup=power,\n",
    "               # fillcolor=colours[i],\n",
    "               marker=dict(color=colours[i]),\n",
    "               xaxis='x2',  #\n",
    "               yaxis='y2',  #\n",
    "               )\n",
    "    )\n",
    "\n",
    "    traces.append(\n",
    "        go.Bar(x=[sliderValue],\n",
    "               y=DF_E[DF_E['Year'] == sliderValue][power],\n",
    "               name=power,\n",
    "               legendgroup=power,\n",
    "\n",
    "               showlegend=False,\n",
    "               marker=dict(color=colours[i]),\n",
    "               ))"
   ]
  },
  {
   "cell_type": "code",
   "execution_count": null,
   "metadata": {},
   "outputs": [],
   "source": []
  },
  {
   "cell_type": "code",
   "execution_count": null,
   "metadata": {},
   "outputs": [],
   "source": []
  }
 ],
 "metadata": {
  "kernelspec": {
   "display_name": "Python 3",
   "language": "python",
   "name": "python3"
  },
  "language_info": {
   "codemirror_mode": {
    "name": "ipython",
    "version": 3
   },
   "file_extension": ".py",
   "mimetype": "text/x-python",
   "name": "python",
   "nbconvert_exporter": "python",
   "pygments_lexer": "ipython3",
   "version": "3.7.4"
  }
 },
 "nbformat": 4,
 "nbformat_minor": 2
}
