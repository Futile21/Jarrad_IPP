{
 "cells": [
  {
   "cell_type": "code",
   "execution_count": 20,
   "metadata": {},
   "outputs": [],
   "source": [
    "import datetime\n",
    "import numpy as np\n",
    "import pandas as pd\n",
    "\n",
    "import plotly.graph_objects as go\n",
    "from ipywidgets import widgets"
   ]
  },
  {
   "cell_type": "code",
   "execution_count": null,
   "metadata": {},
   "outputs": [],
   "source": []
  },
  {
   "cell_type": "code",
   "execution_count": 21,
   "metadata": {},
   "outputs": [
    {
     "data": {
      "text/html": [
       "<div>\n",
       "<style scoped>\n",
       "    .dataframe tbody tr th:only-of-type {\n",
       "        vertical-align: middle;\n",
       "    }\n",
       "\n",
       "    .dataframe tbody tr th {\n",
       "        vertical-align: top;\n",
       "    }\n",
       "\n",
       "    .dataframe thead th {\n",
       "        text-align: right;\n",
       "    }\n",
       "</style>\n",
       "<table border=\"1\" class=\"dataframe\">\n",
       "  <thead>\n",
       "    <tr style=\"text-align: right;\">\n",
       "      <th></th>\n",
       "      <th>Year</th>\n",
       "      <th>COA</th>\n",
       "      <th>NUC</th>\n",
       "      <th>GAS</th>\n",
       "      <th>PEA</th>\n",
       "      <th>HYD</th>\n",
       "      <th>WIN</th>\n",
       "      <th>CSP</th>\n",
       "      <th>SPV</th>\n",
       "      <th>DPV</th>\n",
       "      <th>BIO</th>\n",
       "      <th>DSR</th>\n",
       "      <th>PST</th>\n",
       "      <th>STO</th>\n",
       "    </tr>\n",
       "  </thead>\n",
       "  <tbody>\n",
       "    <tr>\n",
       "      <td>0</td>\n",
       "      <td>2018</td>\n",
       "      <td>37625.0</td>\n",
       "      <td>1860</td>\n",
       "      <td>424.6</td>\n",
       "      <td>3405.0</td>\n",
       "      <td>2192</td>\n",
       "      <td>2086</td>\n",
       "      <td>400.0</td>\n",
       "      <td>1479.0</td>\n",
       "      <td>584</td>\n",
       "      <td>282.0</td>\n",
       "      <td>0</td>\n",
       "      <td>2912</td>\n",
       "      <td>0.0</td>\n",
       "    </tr>\n",
       "    <tr>\n",
       "      <td>1</td>\n",
       "      <td>2019</td>\n",
       "      <td>38671.0</td>\n",
       "      <td>1860</td>\n",
       "      <td>424.6</td>\n",
       "      <td>3405.0</td>\n",
       "      <td>2192</td>\n",
       "      <td>2086</td>\n",
       "      <td>500.0</td>\n",
       "      <td>1594.0</td>\n",
       "      <td>584</td>\n",
       "      <td>282.0</td>\n",
       "      <td>0</td>\n",
       "      <td>2912</td>\n",
       "      <td>0.0</td>\n",
       "    </tr>\n",
       "    <tr>\n",
       "      <td>2</td>\n",
       "      <td>2020</td>\n",
       "      <td>37457.0</td>\n",
       "      <td>1860</td>\n",
       "      <td>424.6</td>\n",
       "      <td>3405.0</td>\n",
       "      <td>2192</td>\n",
       "      <td>2226</td>\n",
       "      <td>500.0</td>\n",
       "      <td>1669.0</td>\n",
       "      <td>584</td>\n",
       "      <td>307.0</td>\n",
       "      <td>0</td>\n",
       "      <td>2912</td>\n",
       "      <td>0.0</td>\n",
       "    </tr>\n",
       "    <tr>\n",
       "      <td>3</td>\n",
       "      <td>2021</td>\n",
       "      <td>38038.0</td>\n",
       "      <td>1860</td>\n",
       "      <td>424.6</td>\n",
       "      <td>3405.0</td>\n",
       "      <td>2192</td>\n",
       "      <td>2762</td>\n",
       "      <td>600.0</td>\n",
       "      <td>1894.0</td>\n",
       "      <td>584</td>\n",
       "      <td>307.0</td>\n",
       "      <td>0</td>\n",
       "      <td>2912</td>\n",
       "      <td>0.0</td>\n",
       "    </tr>\n",
       "    <tr>\n",
       "      <td>4</td>\n",
       "      <td>2022</td>\n",
       "      <td>38014.0</td>\n",
       "      <td>1860</td>\n",
       "      <td>424.6</td>\n",
       "      <td>3405.0</td>\n",
       "      <td>2192</td>\n",
       "      <td>4362</td>\n",
       "      <td>600.0</td>\n",
       "      <td>2894.0</td>\n",
       "      <td>584</td>\n",
       "      <td>307.0</td>\n",
       "      <td>0</td>\n",
       "      <td>2912</td>\n",
       "      <td>513.0</td>\n",
       "    </tr>\n",
       "  </tbody>\n",
       "</table>\n",
       "</div>"
      ],
      "text/plain": [
       "   Year      COA   NUC    GAS     PEA   HYD   WIN    CSP     SPV  DPV    BIO  \\\n",
       "0  2018  37625.0  1860  424.6  3405.0  2192  2086  400.0  1479.0  584  282.0   \n",
       "1  2019  38671.0  1860  424.6  3405.0  2192  2086  500.0  1594.0  584  282.0   \n",
       "2  2020  37457.0  1860  424.6  3405.0  2192  2226  500.0  1669.0  584  307.0   \n",
       "3  2021  38038.0  1860  424.6  3405.0  2192  2762  600.0  1894.0  584  307.0   \n",
       "4  2022  38014.0  1860  424.6  3405.0  2192  4362  600.0  2894.0  584  307.0   \n",
       "\n",
       "   DSR   PST    STO  \n",
       "0    0  2912    0.0  \n",
       "1    0  2912    0.0  \n",
       "2    0  2912    0.0  \n",
       "3    0  2912    0.0  \n",
       "4    0  2912  513.0  "
      ]
     },
     "execution_count": 21,
     "metadata": {},
     "output_type": "execute_result"
    }
   ],
   "source": [
    "IRP2019_P = pd.read_excel('2019-IRP.xlsx',sheet_name=\"IRP1_P\")\n",
    "IRP2019_P.round(2).head()"
   ]
  },
  {
   "cell_type": "code",
   "execution_count": 22,
   "metadata": {},
   "outputs": [
    {
     "data": {
      "text/html": [
       "<div>\n",
       "<style scoped>\n",
       "    .dataframe tbody tr th:only-of-type {\n",
       "        vertical-align: middle;\n",
       "    }\n",
       "\n",
       "    .dataframe tbody tr th {\n",
       "        vertical-align: top;\n",
       "    }\n",
       "\n",
       "    .dataframe thead th {\n",
       "        text-align: right;\n",
       "    }\n",
       "</style>\n",
       "<table border=\"1\" class=\"dataframe\">\n",
       "  <thead>\n",
       "    <tr style=\"text-align: right;\">\n",
       "      <th></th>\n",
       "      <th>Year</th>\n",
       "      <th>COA</th>\n",
       "      <th>NUC</th>\n",
       "      <th>GAS</th>\n",
       "      <th>PEA</th>\n",
       "      <th>HYD</th>\n",
       "      <th>WIN</th>\n",
       "      <th>CSP</th>\n",
       "      <th>SPV</th>\n",
       "      <th>DPV</th>\n",
       "      <th>BIO</th>\n",
       "      <th>DSR</th>\n",
       "      <th>PST</th>\n",
       "      <th>STO</th>\n",
       "    </tr>\n",
       "  </thead>\n",
       "  <tbody>\n",
       "    <tr>\n",
       "      <td>0</td>\n",
       "      <td>2018</td>\n",
       "      <td>202872.1</td>\n",
       "      <td>13360.8</td>\n",
       "      <td>2231.7</td>\n",
       "      <td>353.4</td>\n",
       "      <td>13170.8</td>\n",
       "      <td>6512.4</td>\n",
       "      <td>1880.4</td>\n",
       "      <td>3292.9</td>\n",
       "      <td>1041.5</td>\n",
       "      <td>1915.2</td>\n",
       "      <td>0.0</td>\n",
       "      <td>1325.1</td>\n",
       "      <td>0.0</td>\n",
       "    </tr>\n",
       "    <tr>\n",
       "      <td>1</td>\n",
       "      <td>2019</td>\n",
       "      <td>208471.8</td>\n",
       "      <td>13360.8</td>\n",
       "      <td>2231.7</td>\n",
       "      <td>348.4</td>\n",
       "      <td>13166.2</td>\n",
       "      <td>6509.2</td>\n",
       "      <td>1892.0</td>\n",
       "      <td>3530.6</td>\n",
       "      <td>1041.5</td>\n",
       "      <td>1783.2</td>\n",
       "      <td>0.0</td>\n",
       "      <td>880.8</td>\n",
       "      <td>0.0</td>\n",
       "    </tr>\n",
       "    <tr>\n",
       "      <td>2</td>\n",
       "      <td>2020</td>\n",
       "      <td>212423.2</td>\n",
       "      <td>13397.4</td>\n",
       "      <td>2237.8</td>\n",
       "      <td>800.8</td>\n",
       "      <td>13204.0</td>\n",
       "      <td>7830.1</td>\n",
       "      <td>1914.8</td>\n",
       "      <td>4072.7</td>\n",
       "      <td>1044.6</td>\n",
       "      <td>1944.7</td>\n",
       "      <td>0.0</td>\n",
       "      <td>1991.5</td>\n",
       "      <td>0.0</td>\n",
       "    </tr>\n",
       "    <tr>\n",
       "      <td>3</td>\n",
       "      <td>2021</td>\n",
       "      <td>216953.9</td>\n",
       "      <td>13360.8</td>\n",
       "      <td>2231.7</td>\n",
       "      <td>483.2</td>\n",
       "      <td>13168.1</td>\n",
       "      <td>8612.3</td>\n",
       "      <td>1916.7</td>\n",
       "      <td>4216.9</td>\n",
       "      <td>1041.5</td>\n",
       "      <td>1931.6</td>\n",
       "      <td>0.0</td>\n",
       "      <td>1189.8</td>\n",
       "      <td>0.0</td>\n",
       "    </tr>\n",
       "    <tr>\n",
       "      <td>4</td>\n",
       "      <td>2022</td>\n",
       "      <td>216254.8</td>\n",
       "      <td>13360.8</td>\n",
       "      <td>2231.7</td>\n",
       "      <td>328.4</td>\n",
       "      <td>13169.3</td>\n",
       "      <td>13550.7</td>\n",
       "      <td>1921.7</td>\n",
       "      <td>5999.9</td>\n",
       "      <td>1041.5</td>\n",
       "      <td>1930.0</td>\n",
       "      <td>0.0</td>\n",
       "      <td>1147.3</td>\n",
       "      <td>409.0</td>\n",
       "    </tr>\n",
       "  </tbody>\n",
       "</table>\n",
       "</div>"
      ],
      "text/plain": [
       "   Year       COA      NUC     GAS    PEA      HYD      WIN     CSP     SPV  \\\n",
       "0  2018  202872.1  13360.8  2231.7  353.4  13170.8   6512.4  1880.4  3292.9   \n",
       "1  2019  208471.8  13360.8  2231.7  348.4  13166.2   6509.2  1892.0  3530.6   \n",
       "2  2020  212423.2  13397.4  2237.8  800.8  13204.0   7830.1  1914.8  4072.7   \n",
       "3  2021  216953.9  13360.8  2231.7  483.2  13168.1   8612.3  1916.7  4216.9   \n",
       "4  2022  216254.8  13360.8  2231.7  328.4  13169.3  13550.7  1921.7  5999.9   \n",
       "\n",
       "      DPV     BIO  DSR     PST    STO  \n",
       "0  1041.5  1915.2  0.0  1325.1    0.0  \n",
       "1  1041.5  1783.2  0.0   880.8    0.0  \n",
       "2  1044.6  1944.7  0.0  1991.5    0.0  \n",
       "3  1041.5  1931.6  0.0  1189.8    0.0  \n",
       "4  1041.5  1930.0  0.0  1147.3  409.0  "
      ]
     },
     "execution_count": 22,
     "metadata": {},
     "output_type": "execute_result"
    }
   ],
   "source": [
    "IRP2019_E = pd.read_excel('2019-IRP.xlsx',sheet_name=\"IRP1_E\")\n",
    "IRP2019_E.round(1).head()"
   ]
  },
  {
   "cell_type": "code",
   "execution_count": null,
   "metadata": {},
   "outputs": [],
   "source": []
  },
  {
   "cell_type": "code",
   "execution_count": 23,
   "metadata": {},
   "outputs": [
    {
     "data": {
      "text/html": [
       "<div>\n",
       "<style scoped>\n",
       "    .dataframe tbody tr th:only-of-type {\n",
       "        vertical-align: middle;\n",
       "    }\n",
       "\n",
       "    .dataframe tbody tr th {\n",
       "        vertical-align: top;\n",
       "    }\n",
       "\n",
       "    .dataframe thead th {\n",
       "        text-align: right;\n",
       "    }\n",
       "</style>\n",
       "<table border=\"1\" class=\"dataframe\">\n",
       "  <thead>\n",
       "    <tr style=\"text-align: right;\">\n",
       "      <th></th>\n",
       "      <th>Year</th>\n",
       "      <th>COA</th>\n",
       "      <th>NUC</th>\n",
       "      <th>GAS</th>\n",
       "      <th>PEA</th>\n",
       "      <th>HYD</th>\n",
       "      <th>WIN</th>\n",
       "      <th>CSP</th>\n",
       "      <th>SPV</th>\n",
       "      <th>DPV</th>\n",
       "      <th>BIO</th>\n",
       "      <th>DSR</th>\n",
       "      <th>PST</th>\n",
       "      <th>STO</th>\n",
       "    </tr>\n",
       "  </thead>\n",
       "  <tbody>\n",
       "    <tr>\n",
       "      <td>0</td>\n",
       "      <td>2018</td>\n",
       "      <td>37625</td>\n",
       "      <td>1860</td>\n",
       "      <td>424.6</td>\n",
       "      <td>3405.0</td>\n",
       "      <td>2192</td>\n",
       "      <td>2086.0</td>\n",
       "      <td>400</td>\n",
       "      <td>1479.0</td>\n",
       "      <td>584</td>\n",
       "      <td>282.0</td>\n",
       "      <td>0</td>\n",
       "      <td>2912</td>\n",
       "      <td>0.0</td>\n",
       "    </tr>\n",
       "    <tr>\n",
       "      <td>1</td>\n",
       "      <td>2019</td>\n",
       "      <td>38671</td>\n",
       "      <td>1860</td>\n",
       "      <td>424.6</td>\n",
       "      <td>3405.0</td>\n",
       "      <td>2192</td>\n",
       "      <td>2086.0</td>\n",
       "      <td>500</td>\n",
       "      <td>1594.0</td>\n",
       "      <td>584</td>\n",
       "      <td>282.0</td>\n",
       "      <td>0</td>\n",
       "      <td>2912</td>\n",
       "      <td>0.0</td>\n",
       "    </tr>\n",
       "    <tr>\n",
       "      <td>2</td>\n",
       "      <td>2020</td>\n",
       "      <td>37457</td>\n",
       "      <td>1860</td>\n",
       "      <td>424.6</td>\n",
       "      <td>3405.0</td>\n",
       "      <td>2192</td>\n",
       "      <td>2226.0</td>\n",
       "      <td>500</td>\n",
       "      <td>1669.0</td>\n",
       "      <td>584</td>\n",
       "      <td>307.0</td>\n",
       "      <td>0</td>\n",
       "      <td>2912</td>\n",
       "      <td>0.0</td>\n",
       "    </tr>\n",
       "    <tr>\n",
       "      <td>3</td>\n",
       "      <td>2021</td>\n",
       "      <td>38038</td>\n",
       "      <td>1860</td>\n",
       "      <td>424.6</td>\n",
       "      <td>3405.0</td>\n",
       "      <td>2192</td>\n",
       "      <td>2762.0</td>\n",
       "      <td>500</td>\n",
       "      <td>1894.0</td>\n",
       "      <td>584</td>\n",
       "      <td>307.0</td>\n",
       "      <td>0</td>\n",
       "      <td>2912</td>\n",
       "      <td>0.0</td>\n",
       "    </tr>\n",
       "    <tr>\n",
       "      <td>4</td>\n",
       "      <td>2022</td>\n",
       "      <td>38014</td>\n",
       "      <td>1860</td>\n",
       "      <td>424.6</td>\n",
       "      <td>3405.0</td>\n",
       "      <td>2192</td>\n",
       "      <td>2762.0</td>\n",
       "      <td>500</td>\n",
       "      <td>1894.0</td>\n",
       "      <td>584</td>\n",
       "      <td>307.0</td>\n",
       "      <td>0</td>\n",
       "      <td>2912</td>\n",
       "      <td>0.0</td>\n",
       "    </tr>\n",
       "  </tbody>\n",
       "</table>\n",
       "</div>"
      ],
      "text/plain": [
       "   Year    COA   NUC    GAS     PEA   HYD     WIN  CSP     SPV  DPV    BIO  \\\n",
       "0  2018  37625  1860  424.6  3405.0  2192  2086.0  400  1479.0  584  282.0   \n",
       "1  2019  38671  1860  424.6  3405.0  2192  2086.0  500  1594.0  584  282.0   \n",
       "2  2020  37457  1860  424.6  3405.0  2192  2226.0  500  1669.0  584  307.0   \n",
       "3  2021  38038  1860  424.6  3405.0  2192  2762.0  500  1894.0  584  307.0   \n",
       "4  2022  38014  1860  424.6  3405.0  2192  2762.0  500  1894.0  584  307.0   \n",
       "\n",
       "   DSR   PST  STO  \n",
       "0    0  2912  0.0  \n",
       "1    0  2912  0.0  \n",
       "2    0  2912  0.0  \n",
       "3    0  2912  0.0  \n",
       "4    0  2912  0.0  "
      ]
     },
     "execution_count": 23,
     "metadata": {},
     "output_type": "execute_result"
    }
   ],
   "source": [
    "CSIR_LC_2019_P = pd.read_excel('2019-CSIR_LC.xlsx',sheet_name=\"IRP1_P\")\n",
    "CSIR_LC_2019_P.round(2).head()"
   ]
  },
  {
   "cell_type": "code",
   "execution_count": 24,
   "metadata": {},
   "outputs": [
    {
     "data": {
      "text/html": [
       "<div>\n",
       "<style scoped>\n",
       "    .dataframe tbody tr th:only-of-type {\n",
       "        vertical-align: middle;\n",
       "    }\n",
       "\n",
       "    .dataframe tbody tr th {\n",
       "        vertical-align: top;\n",
       "    }\n",
       "\n",
       "    .dataframe thead th {\n",
       "        text-align: right;\n",
       "    }\n",
       "</style>\n",
       "<table border=\"1\" class=\"dataframe\">\n",
       "  <thead>\n",
       "    <tr style=\"text-align: right;\">\n",
       "      <th></th>\n",
       "      <th>Year</th>\n",
       "      <th>COA</th>\n",
       "      <th>NUC</th>\n",
       "      <th>GAS</th>\n",
       "      <th>PEA</th>\n",
       "      <th>HYD</th>\n",
       "      <th>WIN</th>\n",
       "      <th>CSP</th>\n",
       "      <th>SPV</th>\n",
       "      <th>DPV</th>\n",
       "      <th>BIO</th>\n",
       "      <th>DSR</th>\n",
       "      <th>PST</th>\n",
       "      <th>STO</th>\n",
       "    </tr>\n",
       "  </thead>\n",
       "  <tbody>\n",
       "    <tr>\n",
       "      <td>0</td>\n",
       "      <td>2018</td>\n",
       "      <td>202281.5</td>\n",
       "      <td>13360.8</td>\n",
       "      <td>2231.7</td>\n",
       "      <td>362.1</td>\n",
       "      <td>13163.5</td>\n",
       "      <td>6516.9</td>\n",
       "      <td>1880.4</td>\n",
       "      <td>3292.9</td>\n",
       "      <td>1041.5</td>\n",
       "      <td>1907.5</td>\n",
       "      <td>0.0</td>\n",
       "      <td>1251.4</td>\n",
       "      <td>0.0</td>\n",
       "    </tr>\n",
       "    <tr>\n",
       "      <td>1</td>\n",
       "      <td>2019</td>\n",
       "      <td>202469.5</td>\n",
       "      <td>13360.8</td>\n",
       "      <td>2231.7</td>\n",
       "      <td>352.0</td>\n",
       "      <td>13171.1</td>\n",
       "      <td>6509.2</td>\n",
       "      <td>1892.1</td>\n",
       "      <td>3534.4</td>\n",
       "      <td>1041.5</td>\n",
       "      <td>1769.2</td>\n",
       "      <td>0.0</td>\n",
       "      <td>876.6</td>\n",
       "      <td>0.0</td>\n",
       "    </tr>\n",
       "    <tr>\n",
       "      <td>2</td>\n",
       "      <td>2020</td>\n",
       "      <td>197784.6</td>\n",
       "      <td>13397.4</td>\n",
       "      <td>2610.8</td>\n",
       "      <td>3646.8</td>\n",
       "      <td>13195.6</td>\n",
       "      <td>7832.4</td>\n",
       "      <td>2121.4</td>\n",
       "      <td>4070.5</td>\n",
       "      <td>1044.6</td>\n",
       "      <td>2170.5</td>\n",
       "      <td>0.0</td>\n",
       "      <td>4400.6</td>\n",
       "      <td>0.0</td>\n",
       "    </tr>\n",
       "    <tr>\n",
       "      <td>3</td>\n",
       "      <td>2021</td>\n",
       "      <td>197256.0</td>\n",
       "      <td>13360.8</td>\n",
       "      <td>2603.6</td>\n",
       "      <td>4589.1</td>\n",
       "      <td>13031.5</td>\n",
       "      <td>8615.0</td>\n",
       "      <td>2147.2</td>\n",
       "      <td>4216.9</td>\n",
       "      <td>1041.5</td>\n",
       "      <td>2180.2</td>\n",
       "      <td>0.0</td>\n",
       "      <td>3582.2</td>\n",
       "      <td>0.0</td>\n",
       "    </tr>\n",
       "    <tr>\n",
       "      <td>4</td>\n",
       "      <td>2022</td>\n",
       "      <td>191840.4</td>\n",
       "      <td>13360.8</td>\n",
       "      <td>2603.6</td>\n",
       "      <td>5965.6</td>\n",
       "      <td>13198.9</td>\n",
       "      <td>8621.7</td>\n",
       "      <td>2361.7</td>\n",
       "      <td>4216.9</td>\n",
       "      <td>1041.5</td>\n",
       "      <td>2189.1</td>\n",
       "      <td>0.0</td>\n",
       "      <td>983.2</td>\n",
       "      <td>0.0</td>\n",
       "    </tr>\n",
       "  </tbody>\n",
       "</table>\n",
       "</div>"
      ],
      "text/plain": [
       "   Year       COA      NUC     GAS     PEA      HYD     WIN     CSP     SPV  \\\n",
       "0  2018  202281.5  13360.8  2231.7   362.1  13163.5  6516.9  1880.4  3292.9   \n",
       "1  2019  202469.5  13360.8  2231.7   352.0  13171.1  6509.2  1892.1  3534.4   \n",
       "2  2020  197784.6  13397.4  2610.8  3646.8  13195.6  7832.4  2121.4  4070.5   \n",
       "3  2021  197256.0  13360.8  2603.6  4589.1  13031.5  8615.0  2147.2  4216.9   \n",
       "4  2022  191840.4  13360.8  2603.6  5965.6  13198.9  8621.7  2361.7  4216.9   \n",
       "\n",
       "      DPV     BIO  DSR     PST  STO  \n",
       "0  1041.5  1907.5  0.0  1251.4  0.0  \n",
       "1  1041.5  1769.2  0.0   876.6  0.0  \n",
       "2  1044.6  2170.5  0.0  4400.6  0.0  \n",
       "3  1041.5  2180.2  0.0  3582.2  0.0  \n",
       "4  1041.5  2189.1  0.0   983.2  0.0  "
      ]
     },
     "execution_count": 24,
     "metadata": {},
     "output_type": "execute_result"
    }
   ],
   "source": [
    "CSIR_LC_2019_E = pd.read_excel('2019-CSIR_LC.xlsx',sheet_name=\"IRP1_E\")\n",
    "CSIR_LC_2019_E.round(1).head()"
   ]
  },
  {
   "cell_type": "code",
   "execution_count": null,
   "metadata": {},
   "outputs": [],
   "source": []
  },
  {
   "cell_type": "code",
   "execution_count": null,
   "metadata": {},
   "outputs": [],
   "source": []
  },
  {
   "cell_type": "code",
   "execution_count": 25,
   "metadata": {},
   "outputs": [
    {
     "name": "stdout",
     "output_type": "stream",
     "text": [
      "['Year', 'COA', 'NUC', 'GAS', 'PEA', 'HYD', 'WIN', 'CSP', 'SPV', 'DPV', 'BIO', 'DSR', 'PST', 'STO']\n",
      "remove Year\n",
      "remove DSR\n",
      "remove STO\n",
      "\n",
      "['COA', 'NUC', 'GAS', 'PEA', 'HYD', 'WIN', 'CSP', 'SPV', 'DPV', 'BIO', 'PST']\n",
      "11\n"
     ]
    }
   ],
   "source": [
    "powerlist =list(CSIR_LC_2019_E.columns) \n",
    "print(powerlist)\n",
    "removelist=[powerlist[0],powerlist[11],powerlist[13]]\n",
    "removelist\n",
    "\n",
    "for i in removelist:\n",
    "    print(f'remove {i}')\n",
    "    powerlist.remove(i)\n",
    "\n",
    "print(\"\")    \n",
    "print(powerlist)\n",
    "print(len(powerlist))\n"
   ]
  },
  {
   "cell_type": "code",
   "execution_count": 29,
   "metadata": {},
   "outputs": [
    {
     "data": {
      "application/vnd.plotly.v1+json": {
       "config": {
        "plotlyServerURL": "https://plot.ly"
       },
       "data": [
        {
         "labels": [
          "COA",
          "NUC",
          "GAS",
          "PEA",
          "HYD",
          "WIN",
          "CSP",
          "SPV",
          "DPV",
          "BIO",
          "PST"
         ],
         "scalegroup": "one",
         "textinfo": "label+percent",
         "textposition": "inside",
         "title": {
          "text": "CSIR_LC_2019_E"
         },
         "type": "pie",
         "values": [
          202281.47420086898,
          13360.7519999999,
          2231.697599999993,
          362.0791344541001,
          13163.450971716773,
          6516.850174540441,
          1880.432598643549,
          3292.892343824583,
          1041.47248703648,
          1907.4525950667692,
          1251.3714062082531
         ]
        }
       ],
       "frames": [
        {
         "data": [
          {
           "hole": 0.3,
           "labels": [
            "COA",
            "NUC",
            "GAS",
            "PEA",
            "HYD",
            "WIN",
            "CSP",
            "SPV",
            "DPV",
            "BIO",
            "PST"
           ],
           "scalegroup": "one",
           "textinfo": "label+percent",
           "textposition": "inside",
           "type": "pie",
           "values": [
            202281.47420086898,
            13360.7519999999,
            2231.697599999993,
            362.0791344541001,
            13163.450971716773,
            6516.850174540441,
            1880.432598643549,
            3292.892343824583,
            1041.47248703648,
            1907.4525950667692,
            1251.3714062082531
           ]
          }
         ],
         "name": "2018"
        },
        {
         "data": [
          {
           "hole": 0.3,
           "labels": [
            "COA",
            "NUC",
            "GAS",
            "PEA",
            "HYD",
            "WIN",
            "CSP",
            "SPV",
            "DPV",
            "BIO",
            "PST"
           ],
           "scalegroup": "one",
           "textinfo": "label+percent",
           "textposition": "inside",
           "type": "pie",
           "values": [
            202469.50209797727,
            13360.7519999999,
            2231.697599999993,
            352.03632981201,
            13171.096407251158,
            6509.177647155822,
            1892.145162588379,
            3534.4251521460574,
            1041.47248727008,
            1769.2470934409582,
            876.5823879083689
           ]
          }
         ],
         "name": "2019"
        },
        {
         "data": [
          {
           "hole": 0.3,
           "labels": [
            "COA",
            "NUC",
            "GAS",
            "PEA",
            "HYD",
            "WIN",
            "CSP",
            "SPV",
            "DPV",
            "BIO",
            "PST"
           ],
           "scalegroup": "one",
           "textinfo": "label+percent",
           "textposition": "inside",
           "type": "pie",
           "values": [
            197784.6437393029,
            13397.3567999999,
            2610.7804799998803,
            3646.775922131731,
            13195.64301458445,
            7832.434323158209,
            2121.362452339109,
            4070.537934049289,
            1044.58243108592,
            2170.452685714375,
            4400.59605473648
           ]
          }
         ],
         "name": "2020"
        },
        {
         "data": [
          {
           "hole": 0.3,
           "labels": [
            "COA",
            "NUC",
            "GAS",
            "PEA",
            "HYD",
            "WIN",
            "CSP",
            "SPV",
            "DPV",
            "BIO",
            "PST"
           ],
           "scalegroup": "one",
           "textinfo": "label+percent",
           "textposition": "inside",
           "type": "pie",
           "values": [
            197256.04933011747,
            13360.7519999999,
            2603.64719999964,
            4589.090906416749,
            13031.48636223612,
            8614.952579769379,
            2147.22111385989,
            4216.861334695538,
            1041.4724868788,
            2180.174057142925,
            3582.154087623819
           ]
          }
         ],
         "name": "2021"
        },
        {
         "data": [
          {
           "hole": 0.3,
           "labels": [
            "COA",
            "NUC",
            "GAS",
            "PEA",
            "HYD",
            "WIN",
            "CSP",
            "SPV",
            "DPV",
            "BIO",
            "PST"
           ],
           "scalegroup": "one",
           "textinfo": "label+percent",
           "textposition": "inside",
           "type": "pie",
           "values": [
            191840.44790644673,
            13360.7519999999,
            2603.6471999999703,
            5965.5599999999195,
            13198.90073110389,
            8621.66152287283,
            2361.74593195985,
            4216.86133992298,
            1041.47248610792,
            2189.1239999999952,
            983.225745074079
           ]
          }
         ],
         "name": "2022"
        },
        {
         "data": [
          {
           "hole": 0.3,
           "labels": [
            "COA",
            "NUC",
            "GAS",
            "PEA",
            "HYD",
            "WIN",
            "CSP",
            "SPV",
            "DPV",
            "BIO",
            "PST"
           ],
           "scalegroup": "one",
           "textinfo": "label+percent",
           "textposition": "inside",
           "type": "pie",
           "values": [
            184041.73052895168,
            13360.7519999999,
            2242.119911999993,
            557.70263397439,
            13118.64633887006,
            32411.068317142068,
            1900.624047026299,
            4216.861340661637,
            1933.14413585584,
            3802.90512541731,
            2810.7920968375206
           ]
          }
         ],
         "name": "2023"
        },
        {
         "data": [
          {
           "hole": 0.3,
           "labels": [
            "COA",
            "NUC",
            "GAS",
            "PEA",
            "HYD",
            "WIN",
            "CSP",
            "SPV",
            "DPV",
            "BIO",
            "PST"
           ],
           "scalegroup": "one",
           "textinfo": "label+percent",
           "textposition": "inside",
           "type": "pie",
           "values": [
            187392.71798953135,
            13397.3567999999,
            2237.811839999993,
            799.554532970609,
            13196.121691878066,
            32555.473563680367,
            1904.395830683059,
            4231.9466908395225,
            2833.2509771808,
            3832.5911069205977,
            4089.02574264729
           ]
          }
         ],
         "name": "2024"
        },
        {
         "data": [
          {
           "hole": 0.3,
           "labels": [
            "COA",
            "NUC",
            "GAS",
            "PEA",
            "HYD",
            "WIN",
            "CSP",
            "SPV",
            "DPV",
            "BIO",
            "PST"
           ],
           "scalegroup": "one",
           "textinfo": "label+percent",
           "textposition": "inside",
           "type": "pie",
           "values": [
            182955.9370231856,
            12855.65040000004,
            2231.697599999993,
            1438.8820014819103,
            13154.6031795276,
            36894.13899994957,
            1898.422544200509,
            9361.015562510333,
            3716.48743505347,
            3804.844550814778,
            3650.484750412336
           ]
          }
         ],
         "name": "2025"
        },
        {
         "data": [
          {
           "hole": 0.3,
           "labels": [
            "COA",
            "NUC",
            "GAS",
            "PEA",
            "HYD",
            "WIN",
            "CSP",
            "SPV",
            "DPV",
            "BIO",
            "PST"
           ],
           "scalegroup": "one",
           "textinfo": "label+percent",
           "textposition": "inside",
           "type": "pie",
           "values": [
            177998.62230622076,
            12937.11839999988,
            2231.697599999993,
            1845.71271315433,
            13165.976227784204,
            47395.31715883509,
            1895.4306541135588,
            9361.746117568378,
            4608.15916402232,
            3807.4307701627404,
            4477.88659508344
           ]
          }
         ],
         "name": "2026"
        },
        {
         "data": [
          {
           "hole": 0.3,
           "labels": [
            "COA",
            "NUC",
            "GAS",
            "PEA",
            "HYD",
            "WIN",
            "CSP",
            "SPV",
            "DPV",
            "BIO",
            "PST"
           ],
           "scalegroup": "one",
           "textinfo": "label+percent",
           "textposition": "inside",
           "type": "pie",
           "values": [
            169108.62143876273,
            12513.4848000001,
            2231.697599999993,
            1978.7891451367302,
            13150.736766150474,
            61439.54673448421,
            1892.816686984259,
            9362.137325913569,
            5499.83073550378,
            3800.373637327119,
            5098.97754760192
           ]
          }
         ],
         "name": "2027"
        },
        {
         "data": [
          {
           "hole": 0.3,
           "labels": [
            "COA",
            "NUC",
            "GAS",
            "PEA",
            "HYD",
            "WIN",
            "CSP",
            "SPV",
            "DPV",
            "BIO",
            "PST"
           ],
           "scalegroup": "one",
           "textinfo": "label+percent",
           "textposition": "inside",
           "type": "pie",
           "values": [
            168764.73641313182,
            13397.3567999999,
            2237.811839999993,
            2218.6389508602306,
            13164.26351198073,
            65988.45957092576,
            1904.1809197272191,
            9391.297013837495,
            6410.58807334399,
            3840.144720647826,
            5383.875899353249
           ]
          }
         ],
         "name": "2028"
        },
        {
         "data": [
          {
           "hole": 0.3,
           "labels": [
            "COA",
            "NUC",
            "GAS",
            "PEA",
            "HYD",
            "WIN",
            "CSP",
            "SPV",
            "DPV",
            "BIO",
            "PST"
           ],
           "scalegroup": "one",
           "textinfo": "label+percent",
           "textposition": "inside",
           "type": "pie",
           "values": [
            165914.10271145724,
            13360.7519999999,
            2231.697599999993,
            2414.92266858326,
            13159.867428915311,
            70192.50459868294,
            1898.204120985439,
            11764.129027718216,
            7283.17403842519,
            3794.66274968071,
            4915.177972530117
           ]
          }
         ],
         "name": "2029"
        },
        {
         "data": [
          {
           "hole": 0.3,
           "labels": [
            "COA",
            "NUC",
            "GAS",
            "PEA",
            "HYD",
            "WIN",
            "CSP",
            "SPV",
            "DPV",
            "BIO",
            "PST"
           ],
           "scalegroup": "one",
           "textinfo": "label+percent",
           "textposition": "inside",
           "type": "pie",
           "values": [
            120533.12418737702,
            13360.7519999999,
            2231.697599999993,
            1085.4114446176802,
            12694.634694302184,
            121572.2497009829,
            1890.087920677159,
            13991.34638602052,
            8174.84568962951,
            3784.324170580509,
            3383.359793720321
           ]
          }
         ],
         "name": "2030"
        },
        {
         "data": [
          {
           "hole": 0.3,
           "labels": [
            "COA",
            "NUC",
            "GAS",
            "PEA",
            "HYD",
            "WIN",
            "CSP",
            "SPV",
            "DPV",
            "BIO",
            "PST"
           ],
           "scalegroup": "one",
           "textinfo": "label+percent",
           "textposition": "inside",
           "type": "pie",
           "values": [
            121102.55331667975,
            13360.75199999972,
            2231.697599999993,
            925.3435973949502,
            13074.069716830962,
            117252.2332817339,
            1886.7353783045291,
            21054.1982840732,
            8174.84568266185,
            3782.618316043949,
            3360.298306331182
           ]
          }
         ],
         "name": "2031"
        },
        {
         "data": [
          {
           "hole": 0.3,
           "labels": [
            "COA",
            "NUC",
            "GAS",
            "PEA",
            "HYD",
            "WIN",
            "CSP",
            "SPV",
            "DPV",
            "BIO",
            "PST"
           ],
           "scalegroup": "one",
           "textinfo": "label+percent",
           "textposition": "inside",
           "type": "pie",
           "values": [
            109807.37798208042,
            12890.87136000004,
            2237.811839999993,
            1689.52859750281,
            13203.3262651447,
            117585.69355705162,
            1897.062354755059,
            36208.35835775687,
            8199.25661050919,
            3787.62456878274,
            1987.150635657881
           ]
          }
         ],
         "name": "2032"
        },
        {
         "data": [
          {
           "hole": 0.3,
           "labels": [
            "COA",
            "NUC",
            "GAS",
            "PEA",
            "HYD",
            "WIN",
            "CSP",
            "SPV",
            "DPV",
            "BIO",
            "PST"
           ],
           "scalegroup": "one",
           "textinfo": "label+percent",
           "textposition": "inside",
           "type": "pie",
           "values": [
            111453.42819888744,
            12937.11839999988,
            2231.697599999993,
            1353.1748732362103,
            12988.60807515381,
            117246.93722156117,
            1884.431267364469,
            41376.491353526355,
            8174.84567821537,
            3787.700992178421,
            4584.852637683779
           ]
          }
         ],
         "name": "2033"
        },
        {
         "data": [
          {
           "hole": 0.3,
           "labels": [
            "COA",
            "NUC",
            "GAS",
            "PEA",
            "HYD",
            "WIN",
            "CSP",
            "SPV",
            "DPV",
            "BIO",
            "PST"
           ],
           "scalegroup": "one",
           "textinfo": "label+percent",
           "textposition": "inside",
           "type": "pie",
           "values": [
            115961.5602355053,
            12513.4848000001,
            2231.697599999993,
            1438.9887922815099,
            13111.572594925221,
            112229.71219975085,
            1891.168861612309,
            45339.2419302709,
            8174.84568444962,
            3792.80580467643,
            3682.925020310932
           ]
          }
         ],
         "name": "2034"
        },
        {
         "data": [
          {
           "hole": 0.3,
           "labels": [
            "COA",
            "NUC",
            "GAS",
            "PEA",
            "HYD",
            "WIN",
            "CSP",
            "SPV",
            "DPV",
            "BIO",
            "PST"
           ],
           "scalegroup": "one",
           "textinfo": "label+percent",
           "textposition": "inside",
           "type": "pie",
           "values": [
            105887.51705810832,
            13360.75199999963,
            2231.697599999993,
            2494.8996542048803,
            13118.708019018442,
            115909.7648284215,
            1902.325716259749,
            54305.19007824582,
            8174.84568701664,
            3787.71283567918,
            3699.8316807191914
           ]
          }
         ],
         "name": "2035"
        },
        {
         "data": [
          {
           "hole": 0.3,
           "labels": [
            "COA",
            "NUC",
            "GAS",
            "PEA",
            "HYD",
            "WIN",
            "CSP",
            "SPV",
            "DPV",
            "BIO",
            "PST"
           ],
           "scalegroup": "one",
           "textinfo": "label+percent",
           "textposition": "inside",
           "type": "pie",
           "values": [
            96767.393345745,
            13397.3567999997,
            2237.811839999993,
            2162.42377915905,
            12954.252729339312,
            128831.46781336097,
            1900.579476480269,
            56770.240351739645,
            8199.25662623231,
            3789.508415369651,
            4536.63983273619
           ]
          }
         ],
         "name": "2036"
        },
        {
         "data": [
          {
           "hole": 0.3,
           "labels": [
            "COA",
            "NUC",
            "GAS",
            "PEA",
            "HYD",
            "WIN",
            "CSP",
            "SPV",
            "DPV",
            "BIO",
            "PST"
           ],
           "scalegroup": "one",
           "textinfo": "label+percent",
           "textposition": "inside",
           "type": "pie",
           "values": [
            84917.30209719652,
            13360.7519999999,
            2231.697599999993,
            3175.60657212537,
            12960.183920602292,
            128500.19895577032,
            1895.775051647889,
            71438.58029688198,
            8174.84582031936,
            3782.8034997659024,
            3161.839032615641
           ]
          }
         ],
         "name": "2037"
        },
        {
         "data": [
          {
           "hole": 0.3,
           "labels": [
            "COA",
            "NUC",
            "GAS",
            "PEA",
            "HYD",
            "WIN",
            "CSP",
            "SPV",
            "DPV",
            "BIO",
            "PST"
           ],
           "scalegroup": "one",
           "textinfo": "label+percent",
           "textposition": "inside",
           "type": "pie",
           "values": [
            85191.07301035017,
            13360.7519999999,
            2231.697599999993,
            2094.51689793804,
            13008.579937153121,
            131385.7841443178,
            1894.440130230259,
            74677.18796124398,
            8174.84568114911,
            3799.458264923249,
            3947.4807637775475
           ]
          }
         ],
         "name": "2038"
        },
        {
         "data": [
          {
           "hole": 0.3,
           "labels": [
            "COA",
            "NUC",
            "GAS",
            "PEA",
            "HYD",
            "WIN",
            "CSP",
            "SPV",
            "DPV",
            "BIO",
            "PST"
           ],
           "scalegroup": "one",
           "textinfo": "label+percent",
           "textposition": "inside",
           "type": "pie",
           "values": [
            66008.54509513287,
            12601.15216434002,
            2231.697599999993,
            2463.97079512996,
            11649.32636697559,
            157987.72687334017,
            1884.431267364469,
            73788.74018357114,
            7900.21081031721,
            3767.318036707779,
            5403.749940472459
           ]
          }
         ],
         "name": "2039"
        },
        {
         "data": [
          {
           "hole": 0.3,
           "labels": [
            "COA",
            "NUC",
            "GAS",
            "PEA",
            "HYD",
            "WIN",
            "CSP",
            "SPV",
            "DPV",
            "BIO",
            "PST"
           ],
           "scalegroup": "one",
           "textinfo": "label+percent",
           "textposition": "inside",
           "type": "pie",
           "values": [
            60429.94867501772,
            12972.56255999988,
            2237.811839999993,
            1164.1136122777102,
            12383.806683505532,
            157200.899010328,
            1889.916359891149,
            84750.7048348403,
            7709.16143067401,
            3787.943757598908,
            3731.7102848858
           ]
          }
         ],
         "name": "2040"
        },
        {
         "data": [
          {
           "hole": 0.3,
           "labels": [
            "COA",
            "NUC",
            "GAS",
            "PEA",
            "HYD",
            "WIN",
            "CSP",
            "SPV",
            "DPV",
            "BIO",
            "PST"
           ],
           "scalegroup": "one",
           "textinfo": "label+percent",
           "textposition": "inside",
           "type": "pie",
           "values": [
            49941.24791863104,
            12076.092626788279,
            2231.697599999993,
            3107.44205118399,
            11215.546108336628,
            172416.05549205,
            1891.428937626079,
            84570.42979642759,
            7490.04186222601,
            3741.634175935329,
            5338.107804098598
           ]
          }
         ],
         "name": "2041"
        },
        {
         "data": [
          {
           "hole": 0.3,
           "labels": [
            "COA",
            "NUC",
            "GAS",
            "PEA",
            "HYD",
            "WIN",
            "CSP",
            "SPV",
            "DPV",
            "BIO",
            "PST"
           ],
           "scalegroup": "one",
           "textinfo": "label+percent",
           "textposition": "inside",
           "type": "pie",
           "values": [
            42590.08516935663,
            12977.18965879288,
            2231.697599999993,
            1795.5589255659,
            10153.894409447441,
            187800.052226683,
            1898.972157964909,
            83539.1706621662,
            7133.37319604,
            3749.157105810958,
            5779.830300828616
           ]
          }
         ],
         "name": "2042"
        },
        {
         "data": [
          {
           "hole": 0.3,
           "labels": [
            "COA",
            "NUC",
            "GAS",
            "PEA",
            "HYD",
            "WIN",
            "CSP",
            "SPV",
            "DPV",
            "BIO",
            "PST"
           ],
           "scalegroup": "one",
           "textinfo": "label+percent",
           "textposition": "inside",
           "type": "pie",
           "values": [
            44417.44011194473,
            13083.48791498301,
            2256.7111487999928,
            3648.91135870566,
            11644.914957861074,
            166090.046754706,
            1891.428937626079,
            104330.35095173829,
            7133.37331616,
            3794.60961547868,
            4843.071846069261
           ]
          }
         ],
         "name": "2043"
        },
        {
         "data": [
          {
           "hole": 0.3,
           "labels": [
            "COA",
            "NUC",
            "GAS",
            "PEA",
            "HYD",
            "WIN",
            "CSP",
            "SPV",
            "DPV",
            "BIO",
            "PST"
           ],
           "scalegroup": "one",
           "textinfo": "label+percent",
           "textposition": "inside",
           "type": "pie",
           "values": [
            41424.17275926812,
            12439.641374000032,
            2237.811839999993,
            2191.54569211553,
            10110.088902431487,
            176366.508417954,
            1902.196451949699,
            104638.32273041015,
            7154.67418367999,
            3750.396382937782,
            5187.11628971457
           ]
          }
         ],
         "name": "2044"
        },
        {
         "data": [
          {
           "hole": 0.3,
           "labels": [
            "COA",
            "NUC",
            "GAS",
            "PEA",
            "HYD",
            "WIN",
            "CSP",
            "SPV",
            "DPV",
            "BIO",
            "PST"
           ],
           "scalegroup": "one",
           "textinfo": "label+percent",
           "textposition": "inside",
           "type": "pie",
           "values": [
            48821.74731917763,
            11735.23511709297,
            2231.697599999993,
            2278.5283426891397,
            12000.653999951299,
            172855.366149805,
            1481.670098654498,
            103862.03720505704,
            7133.37319760001,
            3736.668941895551,
            6091.218337448071
           ]
          }
         ],
         "name": "2045"
        },
        {
         "data": [
          {
           "hole": 0.3,
           "labels": [
            "COA",
            "NUC",
            "GAS",
            "PEA",
            "HYD",
            "WIN",
            "CSP",
            "SPV",
            "DPV",
            "BIO",
            "PST"
           ],
           "scalegroup": "one",
           "textinfo": "label+percent",
           "textposition": "inside",
           "type": "pie",
           "values": [
            36726.76813908308,
            5809.43402305645,
            2231.697599999993,
            3003.16015108385,
            8853.882318058691,
            198386.67767361,
            983.3635628880261,
            103431.008723601,
            7133.37319984,
            3770.455361199727,
            6316.558735898046
           ]
          }
         ],
         "name": "2046"
        },
        {
         "data": [
          {
           "hole": 0.3,
           "labels": [
            "COA",
            "NUC",
            "GAS",
            "PEA",
            "HYD",
            "WIN",
            "CSP",
            "SPV",
            "DPV",
            "BIO",
            "PST"
           ],
           "scalegroup": "one",
           "textinfo": "label+percent",
           "textposition": "inside",
           "type": "pie",
           "values": [
            37061.599634041704,
            0,
            2231.697599999993,
            3688.07783334272,
            9942.764364734623,
            207568.018159616,
            10.99633898253,
            103432.243179191,
            6241.70155185502,
            3556.504611843826,
            5833.608422028678
           ]
          }
         ],
         "name": "2047"
        },
        {
         "data": [
          {
           "hole": 0.3,
           "labels": [
            "COA",
            "NUC",
            "GAS",
            "PEA",
            "HYD",
            "WIN",
            "CSP",
            "SPV",
            "DPV",
            "BIO",
            "PST"
           ],
           "scalegroup": "one",
           "textinfo": "label+percent",
           "textposition": "inside",
           "type": "pie",
           "values": [
            43179.29826810293,
            0,
            2237.811839999993,
            1385.13486065526,
            12750.843370372657,
            205215.113148731,
            12.169728813,
            105749.251905159,
            5366.00563914,
            3630.016504338102,
            4722.676801794707
           ]
          }
         ],
         "name": "2048"
        },
        {
         "data": [
          {
           "hole": 0.3,
           "labels": [
            "COA",
            "NUC",
            "GAS",
            "PEA",
            "HYD",
            "WIN",
            "CSP",
            "SPV",
            "DPV",
            "BIO",
            "PST"
           ],
           "scalegroup": "one",
           "textinfo": "label+percent",
           "textposition": "inside",
           "type": "pie",
           "values": [
            35452.15246162472,
            0,
            2231.820640514863,
            1436.194538934,
            9715.45709950998,
            210840.568792902,
            0,
            114593.32119977,
            4458.35824670001,
            3628.11283383874,
            4194.52140734362
           ]
          }
         ],
         "name": "2049"
        },
        {
         "data": [
          {
           "hole": 0.3,
           "labels": [
            "COA",
            "NUC",
            "GAS",
            "PEA",
            "HYD",
            "WIN",
            "CSP",
            "SPV",
            "DPV",
            "BIO",
            "PST"
           ],
           "scalegroup": "one",
           "textinfo": "label+percent",
           "textposition": "inside",
           "type": "pie",
           "values": [
            32929.453305351555,
            0,
            2254.926141573123,
            1098.24938165104,
            8407.194580901329,
            226247.090860143,
            0,
            109487.020281784,
            3566.68659608001,
            3286.954023881421,
            5488.074203656999
           ]
          }
         ],
         "name": "2050"
        }
       ],
       "layout": {
        "sliders": [
         {
          "active": 0,
          "currentvalue": {
           "font": {
            "size": 20
           },
           "prefix": "Year:",
           "visible": true,
           "xanchor": "right"
          },
          "len": 0.9,
          "pad": {
           "b": 10,
           "t": 50
          },
          "steps": [
           {
            "args": [
             [
              2018
             ],
             {
              "frame": {
               "duration": 300,
               "redraw": true
              },
              "mode": "immediate",
              "transition": {
               "duration": 300
              }
             }
            ],
            "label": "2018",
            "method": "animate"
           },
           {
            "args": [
             [
              2019
             ],
             {
              "frame": {
               "duration": 300,
               "redraw": true
              },
              "mode": "immediate",
              "transition": {
               "duration": 300
              }
             }
            ],
            "label": "2019",
            "method": "animate"
           },
           {
            "args": [
             [
              2020
             ],
             {
              "frame": {
               "duration": 300,
               "redraw": true
              },
              "mode": "immediate",
              "transition": {
               "duration": 300
              }
             }
            ],
            "label": "2020",
            "method": "animate"
           },
           {
            "args": [
             [
              2021
             ],
             {
              "frame": {
               "duration": 300,
               "redraw": true
              },
              "mode": "immediate",
              "transition": {
               "duration": 300
              }
             }
            ],
            "label": "2021",
            "method": "animate"
           },
           {
            "args": [
             [
              2022
             ],
             {
              "frame": {
               "duration": 300,
               "redraw": true
              },
              "mode": "immediate",
              "transition": {
               "duration": 300
              }
             }
            ],
            "label": "2022",
            "method": "animate"
           },
           {
            "args": [
             [
              2023
             ],
             {
              "frame": {
               "duration": 300,
               "redraw": true
              },
              "mode": "immediate",
              "transition": {
               "duration": 300
              }
             }
            ],
            "label": "2023",
            "method": "animate"
           },
           {
            "args": [
             [
              2024
             ],
             {
              "frame": {
               "duration": 300,
               "redraw": true
              },
              "mode": "immediate",
              "transition": {
               "duration": 300
              }
             }
            ],
            "label": "2024",
            "method": "animate"
           },
           {
            "args": [
             [
              2025
             ],
             {
              "frame": {
               "duration": 300,
               "redraw": true
              },
              "mode": "immediate",
              "transition": {
               "duration": 300
              }
             }
            ],
            "label": "2025",
            "method": "animate"
           },
           {
            "args": [
             [
              2026
             ],
             {
              "frame": {
               "duration": 300,
               "redraw": true
              },
              "mode": "immediate",
              "transition": {
               "duration": 300
              }
             }
            ],
            "label": "2026",
            "method": "animate"
           },
           {
            "args": [
             [
              2027
             ],
             {
              "frame": {
               "duration": 300,
               "redraw": true
              },
              "mode": "immediate",
              "transition": {
               "duration": 300
              }
             }
            ],
            "label": "2027",
            "method": "animate"
           },
           {
            "args": [
             [
              2028
             ],
             {
              "frame": {
               "duration": 300,
               "redraw": true
              },
              "mode": "immediate",
              "transition": {
               "duration": 300
              }
             }
            ],
            "label": "2028",
            "method": "animate"
           },
           {
            "args": [
             [
              2029
             ],
             {
              "frame": {
               "duration": 300,
               "redraw": true
              },
              "mode": "immediate",
              "transition": {
               "duration": 300
              }
             }
            ],
            "label": "2029",
            "method": "animate"
           },
           {
            "args": [
             [
              2030
             ],
             {
              "frame": {
               "duration": 300,
               "redraw": true
              },
              "mode": "immediate",
              "transition": {
               "duration": 300
              }
             }
            ],
            "label": "2030",
            "method": "animate"
           },
           {
            "args": [
             [
              2031
             ],
             {
              "frame": {
               "duration": 300,
               "redraw": true
              },
              "mode": "immediate",
              "transition": {
               "duration": 300
              }
             }
            ],
            "label": "2031",
            "method": "animate"
           },
           {
            "args": [
             [
              2032
             ],
             {
              "frame": {
               "duration": 300,
               "redraw": true
              },
              "mode": "immediate",
              "transition": {
               "duration": 300
              }
             }
            ],
            "label": "2032",
            "method": "animate"
           },
           {
            "args": [
             [
              2033
             ],
             {
              "frame": {
               "duration": 300,
               "redraw": true
              },
              "mode": "immediate",
              "transition": {
               "duration": 300
              }
             }
            ],
            "label": "2033",
            "method": "animate"
           },
           {
            "args": [
             [
              2034
             ],
             {
              "frame": {
               "duration": 300,
               "redraw": true
              },
              "mode": "immediate",
              "transition": {
               "duration": 300
              }
             }
            ],
            "label": "2034",
            "method": "animate"
           },
           {
            "args": [
             [
              2035
             ],
             {
              "frame": {
               "duration": 300,
               "redraw": true
              },
              "mode": "immediate",
              "transition": {
               "duration": 300
              }
             }
            ],
            "label": "2035",
            "method": "animate"
           },
           {
            "args": [
             [
              2036
             ],
             {
              "frame": {
               "duration": 300,
               "redraw": true
              },
              "mode": "immediate",
              "transition": {
               "duration": 300
              }
             }
            ],
            "label": "2036",
            "method": "animate"
           },
           {
            "args": [
             [
              2037
             ],
             {
              "frame": {
               "duration": 300,
               "redraw": true
              },
              "mode": "immediate",
              "transition": {
               "duration": 300
              }
             }
            ],
            "label": "2037",
            "method": "animate"
           },
           {
            "args": [
             [
              2038
             ],
             {
              "frame": {
               "duration": 300,
               "redraw": true
              },
              "mode": "immediate",
              "transition": {
               "duration": 300
              }
             }
            ],
            "label": "2038",
            "method": "animate"
           },
           {
            "args": [
             [
              2039
             ],
             {
              "frame": {
               "duration": 300,
               "redraw": true
              },
              "mode": "immediate",
              "transition": {
               "duration": 300
              }
             }
            ],
            "label": "2039",
            "method": "animate"
           },
           {
            "args": [
             [
              2040
             ],
             {
              "frame": {
               "duration": 300,
               "redraw": true
              },
              "mode": "immediate",
              "transition": {
               "duration": 300
              }
             }
            ],
            "label": "2040",
            "method": "animate"
           },
           {
            "args": [
             [
              2041
             ],
             {
              "frame": {
               "duration": 300,
               "redraw": true
              },
              "mode": "immediate",
              "transition": {
               "duration": 300
              }
             }
            ],
            "label": "2041",
            "method": "animate"
           },
           {
            "args": [
             [
              2042
             ],
             {
              "frame": {
               "duration": 300,
               "redraw": true
              },
              "mode": "immediate",
              "transition": {
               "duration": 300
              }
             }
            ],
            "label": "2042",
            "method": "animate"
           },
           {
            "args": [
             [
              2043
             ],
             {
              "frame": {
               "duration": 300,
               "redraw": true
              },
              "mode": "immediate",
              "transition": {
               "duration": 300
              }
             }
            ],
            "label": "2043",
            "method": "animate"
           },
           {
            "args": [
             [
              2044
             ],
             {
              "frame": {
               "duration": 300,
               "redraw": true
              },
              "mode": "immediate",
              "transition": {
               "duration": 300
              }
             }
            ],
            "label": "2044",
            "method": "animate"
           },
           {
            "args": [
             [
              2045
             ],
             {
              "frame": {
               "duration": 300,
               "redraw": true
              },
              "mode": "immediate",
              "transition": {
               "duration": 300
              }
             }
            ],
            "label": "2045",
            "method": "animate"
           },
           {
            "args": [
             [
              2046
             ],
             {
              "frame": {
               "duration": 300,
               "redraw": true
              },
              "mode": "immediate",
              "transition": {
               "duration": 300
              }
             }
            ],
            "label": "2046",
            "method": "animate"
           },
           {
            "args": [
             [
              2047
             ],
             {
              "frame": {
               "duration": 300,
               "redraw": true
              },
              "mode": "immediate",
              "transition": {
               "duration": 300
              }
             }
            ],
            "label": "2047",
            "method": "animate"
           },
           {
            "args": [
             [
              2048
             ],
             {
              "frame": {
               "duration": 300,
               "redraw": true
              },
              "mode": "immediate",
              "transition": {
               "duration": 300
              }
             }
            ],
            "label": "2048",
            "method": "animate"
           },
           {
            "args": [
             [
              2049
             ],
             {
              "frame": {
               "duration": 300,
               "redraw": true
              },
              "mode": "immediate",
              "transition": {
               "duration": 300
              }
             }
            ],
            "label": "2049",
            "method": "animate"
           },
           {
            "args": [
             [
              2050
             ],
             {
              "frame": {
               "duration": 300,
               "redraw": true
              },
              "mode": "immediate",
              "transition": {
               "duration": 300
              }
             }
            ],
            "label": "2050",
            "method": "animate"
           }
          ],
          "transition": {
           "duration": 300,
           "easing": "cubic-in-out"
          },
          "x": 0.1,
          "xanchor": "left",
          "y": 0,
          "yanchor": "top"
         }
        ],
        "template": {
         "data": {
          "bar": [
           {
            "error_x": {
             "color": "#2a3f5f"
            },
            "error_y": {
             "color": "#2a3f5f"
            },
            "marker": {
             "line": {
              "color": "#E5ECF6",
              "width": 0.5
             }
            },
            "type": "bar"
           }
          ],
          "barpolar": [
           {
            "marker": {
             "line": {
              "color": "#E5ECF6",
              "width": 0.5
             }
            },
            "type": "barpolar"
           }
          ],
          "carpet": [
           {
            "aaxis": {
             "endlinecolor": "#2a3f5f",
             "gridcolor": "white",
             "linecolor": "white",
             "minorgridcolor": "white",
             "startlinecolor": "#2a3f5f"
            },
            "baxis": {
             "endlinecolor": "#2a3f5f",
             "gridcolor": "white",
             "linecolor": "white",
             "minorgridcolor": "white",
             "startlinecolor": "#2a3f5f"
            },
            "type": "carpet"
           }
          ],
          "choropleth": [
           {
            "colorbar": {
             "outlinewidth": 0,
             "ticks": ""
            },
            "type": "choropleth"
           }
          ],
          "contour": [
           {
            "colorbar": {
             "outlinewidth": 0,
             "ticks": ""
            },
            "colorscale": [
             [
              0,
              "#0d0887"
             ],
             [
              0.1111111111111111,
              "#46039f"
             ],
             [
              0.2222222222222222,
              "#7201a8"
             ],
             [
              0.3333333333333333,
              "#9c179e"
             ],
             [
              0.4444444444444444,
              "#bd3786"
             ],
             [
              0.5555555555555556,
              "#d8576b"
             ],
             [
              0.6666666666666666,
              "#ed7953"
             ],
             [
              0.7777777777777778,
              "#fb9f3a"
             ],
             [
              0.8888888888888888,
              "#fdca26"
             ],
             [
              1,
              "#f0f921"
             ]
            ],
            "type": "contour"
           }
          ],
          "contourcarpet": [
           {
            "colorbar": {
             "outlinewidth": 0,
             "ticks": ""
            },
            "type": "contourcarpet"
           }
          ],
          "heatmap": [
           {
            "colorbar": {
             "outlinewidth": 0,
             "ticks": ""
            },
            "colorscale": [
             [
              0,
              "#0d0887"
             ],
             [
              0.1111111111111111,
              "#46039f"
             ],
             [
              0.2222222222222222,
              "#7201a8"
             ],
             [
              0.3333333333333333,
              "#9c179e"
             ],
             [
              0.4444444444444444,
              "#bd3786"
             ],
             [
              0.5555555555555556,
              "#d8576b"
             ],
             [
              0.6666666666666666,
              "#ed7953"
             ],
             [
              0.7777777777777778,
              "#fb9f3a"
             ],
             [
              0.8888888888888888,
              "#fdca26"
             ],
             [
              1,
              "#f0f921"
             ]
            ],
            "type": "heatmap"
           }
          ],
          "heatmapgl": [
           {
            "colorbar": {
             "outlinewidth": 0,
             "ticks": ""
            },
            "colorscale": [
             [
              0,
              "#0d0887"
             ],
             [
              0.1111111111111111,
              "#46039f"
             ],
             [
              0.2222222222222222,
              "#7201a8"
             ],
             [
              0.3333333333333333,
              "#9c179e"
             ],
             [
              0.4444444444444444,
              "#bd3786"
             ],
             [
              0.5555555555555556,
              "#d8576b"
             ],
             [
              0.6666666666666666,
              "#ed7953"
             ],
             [
              0.7777777777777778,
              "#fb9f3a"
             ],
             [
              0.8888888888888888,
              "#fdca26"
             ],
             [
              1,
              "#f0f921"
             ]
            ],
            "type": "heatmapgl"
           }
          ],
          "histogram": [
           {
            "marker": {
             "colorbar": {
              "outlinewidth": 0,
              "ticks": ""
             }
            },
            "type": "histogram"
           }
          ],
          "histogram2d": [
           {
            "colorbar": {
             "outlinewidth": 0,
             "ticks": ""
            },
            "colorscale": [
             [
              0,
              "#0d0887"
             ],
             [
              0.1111111111111111,
              "#46039f"
             ],
             [
              0.2222222222222222,
              "#7201a8"
             ],
             [
              0.3333333333333333,
              "#9c179e"
             ],
             [
              0.4444444444444444,
              "#bd3786"
             ],
             [
              0.5555555555555556,
              "#d8576b"
             ],
             [
              0.6666666666666666,
              "#ed7953"
             ],
             [
              0.7777777777777778,
              "#fb9f3a"
             ],
             [
              0.8888888888888888,
              "#fdca26"
             ],
             [
              1,
              "#f0f921"
             ]
            ],
            "type": "histogram2d"
           }
          ],
          "histogram2dcontour": [
           {
            "colorbar": {
             "outlinewidth": 0,
             "ticks": ""
            },
            "colorscale": [
             [
              0,
              "#0d0887"
             ],
             [
              0.1111111111111111,
              "#46039f"
             ],
             [
              0.2222222222222222,
              "#7201a8"
             ],
             [
              0.3333333333333333,
              "#9c179e"
             ],
             [
              0.4444444444444444,
              "#bd3786"
             ],
             [
              0.5555555555555556,
              "#d8576b"
             ],
             [
              0.6666666666666666,
              "#ed7953"
             ],
             [
              0.7777777777777778,
              "#fb9f3a"
             ],
             [
              0.8888888888888888,
              "#fdca26"
             ],
             [
              1,
              "#f0f921"
             ]
            ],
            "type": "histogram2dcontour"
           }
          ],
          "mesh3d": [
           {
            "colorbar": {
             "outlinewidth": 0,
             "ticks": ""
            },
            "type": "mesh3d"
           }
          ],
          "parcoords": [
           {
            "line": {
             "colorbar": {
              "outlinewidth": 0,
              "ticks": ""
             }
            },
            "type": "parcoords"
           }
          ],
          "scatter": [
           {
            "marker": {
             "colorbar": {
              "outlinewidth": 0,
              "ticks": ""
             }
            },
            "type": "scatter"
           }
          ],
          "scatter3d": [
           {
            "line": {
             "colorbar": {
              "outlinewidth": 0,
              "ticks": ""
             }
            },
            "marker": {
             "colorbar": {
              "outlinewidth": 0,
              "ticks": ""
             }
            },
            "type": "scatter3d"
           }
          ],
          "scattercarpet": [
           {
            "marker": {
             "colorbar": {
              "outlinewidth": 0,
              "ticks": ""
             }
            },
            "type": "scattercarpet"
           }
          ],
          "scattergeo": [
           {
            "marker": {
             "colorbar": {
              "outlinewidth": 0,
              "ticks": ""
             }
            },
            "type": "scattergeo"
           }
          ],
          "scattergl": [
           {
            "marker": {
             "colorbar": {
              "outlinewidth": 0,
              "ticks": ""
             }
            },
            "type": "scattergl"
           }
          ],
          "scattermapbox": [
           {
            "marker": {
             "colorbar": {
              "outlinewidth": 0,
              "ticks": ""
             }
            },
            "type": "scattermapbox"
           }
          ],
          "scatterpolar": [
           {
            "marker": {
             "colorbar": {
              "outlinewidth": 0,
              "ticks": ""
             }
            },
            "type": "scatterpolar"
           }
          ],
          "scatterpolargl": [
           {
            "marker": {
             "colorbar": {
              "outlinewidth": 0,
              "ticks": ""
             }
            },
            "type": "scatterpolargl"
           }
          ],
          "scatterternary": [
           {
            "marker": {
             "colorbar": {
              "outlinewidth": 0,
              "ticks": ""
             }
            },
            "type": "scatterternary"
           }
          ],
          "surface": [
           {
            "colorbar": {
             "outlinewidth": 0,
             "ticks": ""
            },
            "colorscale": [
             [
              0,
              "#0d0887"
             ],
             [
              0.1111111111111111,
              "#46039f"
             ],
             [
              0.2222222222222222,
              "#7201a8"
             ],
             [
              0.3333333333333333,
              "#9c179e"
             ],
             [
              0.4444444444444444,
              "#bd3786"
             ],
             [
              0.5555555555555556,
              "#d8576b"
             ],
             [
              0.6666666666666666,
              "#ed7953"
             ],
             [
              0.7777777777777778,
              "#fb9f3a"
             ],
             [
              0.8888888888888888,
              "#fdca26"
             ],
             [
              1,
              "#f0f921"
             ]
            ],
            "type": "surface"
           }
          ],
          "table": [
           {
            "cells": {
             "fill": {
              "color": "#EBF0F8"
             },
             "line": {
              "color": "white"
             }
            },
            "header": {
             "fill": {
              "color": "#C8D4E3"
             },
             "line": {
              "color": "white"
             }
            },
            "type": "table"
           }
          ]
         },
         "layout": {
          "annotationdefaults": {
           "arrowcolor": "#2a3f5f",
           "arrowhead": 0,
           "arrowwidth": 1
          },
          "colorscale": {
           "diverging": [
            [
             0,
             "#8e0152"
            ],
            [
             0.1,
             "#c51b7d"
            ],
            [
             0.2,
             "#de77ae"
            ],
            [
             0.3,
             "#f1b6da"
            ],
            [
             0.4,
             "#fde0ef"
            ],
            [
             0.5,
             "#f7f7f7"
            ],
            [
             0.6,
             "#e6f5d0"
            ],
            [
             0.7,
             "#b8e186"
            ],
            [
             0.8,
             "#7fbc41"
            ],
            [
             0.9,
             "#4d9221"
            ],
            [
             1,
             "#276419"
            ]
           ],
           "sequential": [
            [
             0,
             "#0d0887"
            ],
            [
             0.1111111111111111,
             "#46039f"
            ],
            [
             0.2222222222222222,
             "#7201a8"
            ],
            [
             0.3333333333333333,
             "#9c179e"
            ],
            [
             0.4444444444444444,
             "#bd3786"
            ],
            [
             0.5555555555555556,
             "#d8576b"
            ],
            [
             0.6666666666666666,
             "#ed7953"
            ],
            [
             0.7777777777777778,
             "#fb9f3a"
            ],
            [
             0.8888888888888888,
             "#fdca26"
            ],
            [
             1,
             "#f0f921"
            ]
           ],
           "sequentialminus": [
            [
             0,
             "#0d0887"
            ],
            [
             0.1111111111111111,
             "#46039f"
            ],
            [
             0.2222222222222222,
             "#7201a8"
            ],
            [
             0.3333333333333333,
             "#9c179e"
            ],
            [
             0.4444444444444444,
             "#bd3786"
            ],
            [
             0.5555555555555556,
             "#d8576b"
            ],
            [
             0.6666666666666666,
             "#ed7953"
            ],
            [
             0.7777777777777778,
             "#fb9f3a"
            ],
            [
             0.8888888888888888,
             "#fdca26"
            ],
            [
             1,
             "#f0f921"
            ]
           ]
          },
          "colorway": [
           "#636efa",
           "#EF553B",
           "#00cc96",
           "#ab63fa",
           "#FFA15A",
           "#19d3f3",
           "#FF6692",
           "#B6E880",
           "#FF97FF",
           "#FECB52"
          ],
          "font": {
           "color": "#2a3f5f"
          },
          "geo": {
           "bgcolor": "white",
           "lakecolor": "white",
           "landcolor": "#E5ECF6",
           "showlakes": true,
           "showland": true,
           "subunitcolor": "white"
          },
          "hoverlabel": {
           "align": "left"
          },
          "hovermode": "closest",
          "mapbox": {
           "style": "light"
          },
          "paper_bgcolor": "white",
          "plot_bgcolor": "#E5ECF6",
          "polar": {
           "angularaxis": {
            "gridcolor": "white",
            "linecolor": "white",
            "ticks": ""
           },
           "bgcolor": "#E5ECF6",
           "radialaxis": {
            "gridcolor": "white",
            "linecolor": "white",
            "ticks": ""
           }
          },
          "scene": {
           "xaxis": {
            "backgroundcolor": "#E5ECF6",
            "gridcolor": "white",
            "gridwidth": 2,
            "linecolor": "white",
            "showbackground": true,
            "ticks": "",
            "zerolinecolor": "white"
           },
           "yaxis": {
            "backgroundcolor": "#E5ECF6",
            "gridcolor": "white",
            "gridwidth": 2,
            "linecolor": "white",
            "showbackground": true,
            "ticks": "",
            "zerolinecolor": "white"
           },
           "zaxis": {
            "backgroundcolor": "#E5ECF6",
            "gridcolor": "white",
            "gridwidth": 2,
            "linecolor": "white",
            "showbackground": true,
            "ticks": "",
            "zerolinecolor": "white"
           }
          },
          "shapedefaults": {
           "line": {
            "color": "#2a3f5f"
           }
          },
          "ternary": {
           "aaxis": {
            "gridcolor": "white",
            "linecolor": "white",
            "ticks": ""
           },
           "baxis": {
            "gridcolor": "white",
            "linecolor": "white",
            "ticks": ""
           },
           "bgcolor": "#E5ECF6",
           "caxis": {
            "gridcolor": "white",
            "linecolor": "white",
            "ticks": ""
           }
          },
          "title": {
           "x": 0.05
          },
          "xaxis": {
           "automargin": true,
           "gridcolor": "white",
           "linecolor": "white",
           "ticks": "",
           "zerolinecolor": "white",
           "zerolinewidth": 2
          },
          "yaxis": {
           "automargin": true,
           "gridcolor": "white",
           "linecolor": "white",
           "ticks": "",
           "zerolinecolor": "white",
           "zerolinewidth": 2
          }
         }
        },
        "updatemenus": [
         {
          "buttons": [
           {
            "args": [
             null,
             {
              "frame": {
               "duration": 500,
               "redraw": true
              },
              "fromcurrent": true,
              "transition": {
               "duration": 300,
               "easing": "quadratic-in-out"
              }
             }
            ],
            "label": "Play",
            "method": "animate"
           },
           {
            "args": [
             [
              null
             ],
             {
              "frame": {
               "duration": 0,
               "redraw": true
              },
              "mode": "immediate",
              "transition": {
               "duration": 0
              }
             }
            ],
            "label": "Pause",
            "method": "animate"
           }
          ],
          "direction": "left",
          "pad": {
           "r": 10,
           "t": 87
          },
          "showactive": false,
          "type": "buttons",
          "x": 0.1,
          "xanchor": "right",
          "y": 0,
          "yanchor": "top"
         }
        ]
       }
      },
      "text/html": [
       "<div>\n",
       "        \n",
       "        \n",
       "            <div id=\"c2f8c548-581a-4036-99e1-f6b1996b691b\" class=\"plotly-graph-div\" style=\"height:525px; width:100%;\"></div>\n",
       "            <script type=\"text/javascript\">\n",
       "                require([\"plotly\"], function(Plotly) {\n",
       "                    window.PLOTLYENV=window.PLOTLYENV || {};\n",
       "                    \n",
       "                if (document.getElementById(\"c2f8c548-581a-4036-99e1-f6b1996b691b\")) {\n",
       "                    Plotly.newPlot(\n",
       "                        'c2f8c548-581a-4036-99e1-f6b1996b691b',\n",
       "                        [{\"labels\": [\"COA\", \"NUC\", \"GAS\", \"PEA\", \"HYD\", \"WIN\", \"CSP\", \"SPV\", \"DPV\", \"BIO\", \"PST\"], \"scalegroup\": \"one\", \"textinfo\": \"label+percent\", \"textposition\": \"inside\", \"title\": {\"text\": \"CSIR_LC_2019_E\"}, \"type\": \"pie\", \"values\": [202281.47420086898, 13360.7519999999, 2231.697599999993, 362.0791344541001, 13163.450971716773, 6516.850174540441, 1880.432598643549, 3292.892343824583, 1041.47248703648, 1907.4525950667692, 1251.3714062082531]}],\n",
       "                        {\"sliders\": [{\"active\": 0, \"currentvalue\": {\"font\": {\"size\": 20}, \"prefix\": \"Year:\", \"visible\": true, \"xanchor\": \"right\"}, \"len\": 0.9, \"pad\": {\"b\": 10, \"t\": 50}, \"steps\": [{\"args\": [[2018], {\"frame\": {\"duration\": 300, \"redraw\": true}, \"mode\": \"immediate\", \"transition\": {\"duration\": 300}}], \"label\": \"2018\", \"method\": \"animate\"}, {\"args\": [[2019], {\"frame\": {\"duration\": 300, \"redraw\": true}, \"mode\": \"immediate\", \"transition\": {\"duration\": 300}}], \"label\": \"2019\", \"method\": \"animate\"}, {\"args\": [[2020], {\"frame\": {\"duration\": 300, \"redraw\": true}, \"mode\": \"immediate\", \"transition\": {\"duration\": 300}}], \"label\": \"2020\", \"method\": \"animate\"}, {\"args\": [[2021], {\"frame\": {\"duration\": 300, \"redraw\": true}, \"mode\": \"immediate\", \"transition\": {\"duration\": 300}}], \"label\": \"2021\", \"method\": \"animate\"}, {\"args\": [[2022], {\"frame\": {\"duration\": 300, \"redraw\": true}, \"mode\": \"immediate\", \"transition\": {\"duration\": 300}}], \"label\": \"2022\", \"method\": \"animate\"}, {\"args\": [[2023], {\"frame\": {\"duration\": 300, \"redraw\": true}, \"mode\": \"immediate\", \"transition\": {\"duration\": 300}}], \"label\": \"2023\", \"method\": \"animate\"}, {\"args\": [[2024], {\"frame\": {\"duration\": 300, \"redraw\": true}, \"mode\": \"immediate\", \"transition\": {\"duration\": 300}}], \"label\": \"2024\", \"method\": \"animate\"}, {\"args\": [[2025], {\"frame\": {\"duration\": 300, \"redraw\": true}, \"mode\": \"immediate\", \"transition\": {\"duration\": 300}}], \"label\": \"2025\", \"method\": \"animate\"}, {\"args\": [[2026], {\"frame\": {\"duration\": 300, \"redraw\": true}, \"mode\": \"immediate\", \"transition\": {\"duration\": 300}}], \"label\": \"2026\", \"method\": \"animate\"}, {\"args\": [[2027], {\"frame\": {\"duration\": 300, \"redraw\": true}, \"mode\": \"immediate\", \"transition\": {\"duration\": 300}}], \"label\": \"2027\", \"method\": \"animate\"}, {\"args\": [[2028], {\"frame\": {\"duration\": 300, \"redraw\": true}, \"mode\": \"immediate\", \"transition\": {\"duration\": 300}}], \"label\": \"2028\", \"method\": \"animate\"}, {\"args\": [[2029], {\"frame\": {\"duration\": 300, \"redraw\": true}, \"mode\": \"immediate\", \"transition\": {\"duration\": 300}}], \"label\": \"2029\", \"method\": \"animate\"}, {\"args\": [[2030], {\"frame\": {\"duration\": 300, \"redraw\": true}, \"mode\": \"immediate\", \"transition\": {\"duration\": 300}}], \"label\": \"2030\", \"method\": \"animate\"}, {\"args\": [[2031], {\"frame\": {\"duration\": 300, \"redraw\": true}, \"mode\": \"immediate\", \"transition\": {\"duration\": 300}}], \"label\": \"2031\", \"method\": \"animate\"}, {\"args\": [[2032], {\"frame\": {\"duration\": 300, \"redraw\": true}, \"mode\": \"immediate\", \"transition\": {\"duration\": 300}}], \"label\": \"2032\", \"method\": \"animate\"}, {\"args\": [[2033], {\"frame\": {\"duration\": 300, \"redraw\": true}, \"mode\": \"immediate\", \"transition\": {\"duration\": 300}}], \"label\": \"2033\", \"method\": \"animate\"}, {\"args\": [[2034], {\"frame\": {\"duration\": 300, \"redraw\": true}, \"mode\": \"immediate\", \"transition\": {\"duration\": 300}}], \"label\": \"2034\", \"method\": \"animate\"}, {\"args\": [[2035], {\"frame\": {\"duration\": 300, \"redraw\": true}, \"mode\": \"immediate\", \"transition\": {\"duration\": 300}}], \"label\": \"2035\", \"method\": \"animate\"}, {\"args\": [[2036], {\"frame\": {\"duration\": 300, \"redraw\": true}, \"mode\": \"immediate\", \"transition\": {\"duration\": 300}}], \"label\": \"2036\", \"method\": \"animate\"}, {\"args\": [[2037], {\"frame\": {\"duration\": 300, \"redraw\": true}, \"mode\": \"immediate\", \"transition\": {\"duration\": 300}}], \"label\": \"2037\", \"method\": \"animate\"}, {\"args\": [[2038], {\"frame\": {\"duration\": 300, \"redraw\": true}, \"mode\": \"immediate\", \"transition\": {\"duration\": 300}}], \"label\": \"2038\", \"method\": \"animate\"}, {\"args\": [[2039], {\"frame\": {\"duration\": 300, \"redraw\": true}, \"mode\": \"immediate\", \"transition\": {\"duration\": 300}}], \"label\": \"2039\", \"method\": \"animate\"}, {\"args\": [[2040], {\"frame\": {\"duration\": 300, \"redraw\": true}, \"mode\": \"immediate\", \"transition\": {\"duration\": 300}}], \"label\": \"2040\", \"method\": \"animate\"}, {\"args\": [[2041], {\"frame\": {\"duration\": 300, \"redraw\": true}, \"mode\": \"immediate\", \"transition\": {\"duration\": 300}}], \"label\": \"2041\", \"method\": \"animate\"}, {\"args\": [[2042], {\"frame\": {\"duration\": 300, \"redraw\": true}, \"mode\": \"immediate\", \"transition\": {\"duration\": 300}}], \"label\": \"2042\", \"method\": \"animate\"}, {\"args\": [[2043], {\"frame\": {\"duration\": 300, \"redraw\": true}, \"mode\": \"immediate\", \"transition\": {\"duration\": 300}}], \"label\": \"2043\", \"method\": \"animate\"}, {\"args\": [[2044], {\"frame\": {\"duration\": 300, \"redraw\": true}, \"mode\": \"immediate\", \"transition\": {\"duration\": 300}}], \"label\": \"2044\", \"method\": \"animate\"}, {\"args\": [[2045], {\"frame\": {\"duration\": 300, \"redraw\": true}, \"mode\": \"immediate\", \"transition\": {\"duration\": 300}}], \"label\": \"2045\", \"method\": \"animate\"}, {\"args\": [[2046], {\"frame\": {\"duration\": 300, \"redraw\": true}, \"mode\": \"immediate\", \"transition\": {\"duration\": 300}}], \"label\": \"2046\", \"method\": \"animate\"}, {\"args\": [[2047], {\"frame\": {\"duration\": 300, \"redraw\": true}, \"mode\": \"immediate\", \"transition\": {\"duration\": 300}}], \"label\": \"2047\", \"method\": \"animate\"}, {\"args\": [[2048], {\"frame\": {\"duration\": 300, \"redraw\": true}, \"mode\": \"immediate\", \"transition\": {\"duration\": 300}}], \"label\": \"2048\", \"method\": \"animate\"}, {\"args\": [[2049], {\"frame\": {\"duration\": 300, \"redraw\": true}, \"mode\": \"immediate\", \"transition\": {\"duration\": 300}}], \"label\": \"2049\", \"method\": \"animate\"}, {\"args\": [[2050], {\"frame\": {\"duration\": 300, \"redraw\": true}, \"mode\": \"immediate\", \"transition\": {\"duration\": 300}}], \"label\": \"2050\", \"method\": \"animate\"}], \"transition\": {\"duration\": 300, \"easing\": \"cubic-in-out\"}, \"x\": 0.1, \"xanchor\": \"left\", \"y\": 0, \"yanchor\": \"top\"}], \"template\": {\"data\": {\"bar\": [{\"error_x\": {\"color\": \"#2a3f5f\"}, \"error_y\": {\"color\": \"#2a3f5f\"}, \"marker\": {\"line\": {\"color\": \"#E5ECF6\", \"width\": 0.5}}, \"type\": \"bar\"}], \"barpolar\": [{\"marker\": {\"line\": {\"color\": \"#E5ECF6\", \"width\": 0.5}}, \"type\": \"barpolar\"}], \"carpet\": [{\"aaxis\": {\"endlinecolor\": \"#2a3f5f\", \"gridcolor\": \"white\", \"linecolor\": \"white\", \"minorgridcolor\": \"white\", \"startlinecolor\": \"#2a3f5f\"}, \"baxis\": {\"endlinecolor\": \"#2a3f5f\", \"gridcolor\": \"white\", \"linecolor\": \"white\", \"minorgridcolor\": \"white\", \"startlinecolor\": \"#2a3f5f\"}, \"type\": \"carpet\"}], \"choropleth\": [{\"colorbar\": {\"outlinewidth\": 0, \"ticks\": \"\"}, \"type\": \"choropleth\"}], \"contour\": [{\"colorbar\": {\"outlinewidth\": 0, \"ticks\": \"\"}, \"colorscale\": [[0.0, \"#0d0887\"], [0.1111111111111111, \"#46039f\"], [0.2222222222222222, \"#7201a8\"], [0.3333333333333333, \"#9c179e\"], [0.4444444444444444, \"#bd3786\"], [0.5555555555555556, \"#d8576b\"], [0.6666666666666666, \"#ed7953\"], [0.7777777777777778, \"#fb9f3a\"], [0.8888888888888888, \"#fdca26\"], [1.0, \"#f0f921\"]], \"type\": \"contour\"}], \"contourcarpet\": [{\"colorbar\": {\"outlinewidth\": 0, \"ticks\": \"\"}, \"type\": \"contourcarpet\"}], \"heatmap\": [{\"colorbar\": {\"outlinewidth\": 0, \"ticks\": \"\"}, \"colorscale\": [[0.0, \"#0d0887\"], [0.1111111111111111, \"#46039f\"], [0.2222222222222222, \"#7201a8\"], [0.3333333333333333, \"#9c179e\"], [0.4444444444444444, \"#bd3786\"], [0.5555555555555556, \"#d8576b\"], [0.6666666666666666, \"#ed7953\"], [0.7777777777777778, \"#fb9f3a\"], [0.8888888888888888, \"#fdca26\"], [1.0, \"#f0f921\"]], \"type\": \"heatmap\"}], \"heatmapgl\": [{\"colorbar\": {\"outlinewidth\": 0, \"ticks\": \"\"}, \"colorscale\": [[0.0, \"#0d0887\"], [0.1111111111111111, \"#46039f\"], [0.2222222222222222, \"#7201a8\"], [0.3333333333333333, \"#9c179e\"], [0.4444444444444444, \"#bd3786\"], [0.5555555555555556, \"#d8576b\"], [0.6666666666666666, \"#ed7953\"], [0.7777777777777778, \"#fb9f3a\"], [0.8888888888888888, \"#fdca26\"], [1.0, \"#f0f921\"]], \"type\": \"heatmapgl\"}], \"histogram\": [{\"marker\": {\"colorbar\": {\"outlinewidth\": 0, \"ticks\": \"\"}}, \"type\": \"histogram\"}], \"histogram2d\": [{\"colorbar\": {\"outlinewidth\": 0, \"ticks\": \"\"}, \"colorscale\": [[0.0, \"#0d0887\"], [0.1111111111111111, \"#46039f\"], [0.2222222222222222, \"#7201a8\"], [0.3333333333333333, \"#9c179e\"], [0.4444444444444444, \"#bd3786\"], [0.5555555555555556, \"#d8576b\"], [0.6666666666666666, \"#ed7953\"], [0.7777777777777778, \"#fb9f3a\"], [0.8888888888888888, \"#fdca26\"], [1.0, \"#f0f921\"]], \"type\": \"histogram2d\"}], \"histogram2dcontour\": [{\"colorbar\": {\"outlinewidth\": 0, \"ticks\": \"\"}, \"colorscale\": [[0.0, \"#0d0887\"], [0.1111111111111111, \"#46039f\"], [0.2222222222222222, \"#7201a8\"], [0.3333333333333333, \"#9c179e\"], [0.4444444444444444, \"#bd3786\"], [0.5555555555555556, \"#d8576b\"], [0.6666666666666666, \"#ed7953\"], [0.7777777777777778, \"#fb9f3a\"], [0.8888888888888888, \"#fdca26\"], [1.0, \"#f0f921\"]], \"type\": \"histogram2dcontour\"}], \"mesh3d\": [{\"colorbar\": {\"outlinewidth\": 0, \"ticks\": \"\"}, \"type\": \"mesh3d\"}], \"parcoords\": [{\"line\": {\"colorbar\": {\"outlinewidth\": 0, \"ticks\": \"\"}}, \"type\": \"parcoords\"}], \"scatter\": [{\"marker\": {\"colorbar\": {\"outlinewidth\": 0, \"ticks\": \"\"}}, \"type\": \"scatter\"}], \"scatter3d\": [{\"line\": {\"colorbar\": {\"outlinewidth\": 0, \"ticks\": \"\"}}, \"marker\": {\"colorbar\": {\"outlinewidth\": 0, \"ticks\": \"\"}}, \"type\": \"scatter3d\"}], \"scattercarpet\": [{\"marker\": {\"colorbar\": {\"outlinewidth\": 0, \"ticks\": \"\"}}, \"type\": \"scattercarpet\"}], \"scattergeo\": [{\"marker\": {\"colorbar\": {\"outlinewidth\": 0, \"ticks\": \"\"}}, \"type\": \"scattergeo\"}], \"scattergl\": [{\"marker\": {\"colorbar\": {\"outlinewidth\": 0, \"ticks\": \"\"}}, \"type\": \"scattergl\"}], \"scattermapbox\": [{\"marker\": {\"colorbar\": {\"outlinewidth\": 0, \"ticks\": \"\"}}, \"type\": \"scattermapbox\"}], \"scatterpolar\": [{\"marker\": {\"colorbar\": {\"outlinewidth\": 0, \"ticks\": \"\"}}, \"type\": \"scatterpolar\"}], \"scatterpolargl\": [{\"marker\": {\"colorbar\": {\"outlinewidth\": 0, \"ticks\": \"\"}}, \"type\": \"scatterpolargl\"}], \"scatterternary\": [{\"marker\": {\"colorbar\": {\"outlinewidth\": 0, \"ticks\": \"\"}}, \"type\": \"scatterternary\"}], \"surface\": [{\"colorbar\": {\"outlinewidth\": 0, \"ticks\": \"\"}, \"colorscale\": [[0.0, \"#0d0887\"], [0.1111111111111111, \"#46039f\"], [0.2222222222222222, \"#7201a8\"], [0.3333333333333333, \"#9c179e\"], [0.4444444444444444, \"#bd3786\"], [0.5555555555555556, \"#d8576b\"], [0.6666666666666666, \"#ed7953\"], [0.7777777777777778, \"#fb9f3a\"], [0.8888888888888888, \"#fdca26\"], [1.0, \"#f0f921\"]], \"type\": \"surface\"}], \"table\": [{\"cells\": {\"fill\": {\"color\": \"#EBF0F8\"}, \"line\": {\"color\": \"white\"}}, \"header\": {\"fill\": {\"color\": \"#C8D4E3\"}, \"line\": {\"color\": \"white\"}}, \"type\": \"table\"}]}, \"layout\": {\"annotationdefaults\": {\"arrowcolor\": \"#2a3f5f\", \"arrowhead\": 0, \"arrowwidth\": 1}, \"colorscale\": {\"diverging\": [[0, \"#8e0152\"], [0.1, \"#c51b7d\"], [0.2, \"#de77ae\"], [0.3, \"#f1b6da\"], [0.4, \"#fde0ef\"], [0.5, \"#f7f7f7\"], [0.6, \"#e6f5d0\"], [0.7, \"#b8e186\"], [0.8, \"#7fbc41\"], [0.9, \"#4d9221\"], [1, \"#276419\"]], \"sequential\": [[0.0, \"#0d0887\"], [0.1111111111111111, \"#46039f\"], [0.2222222222222222, \"#7201a8\"], [0.3333333333333333, \"#9c179e\"], [0.4444444444444444, \"#bd3786\"], [0.5555555555555556, \"#d8576b\"], [0.6666666666666666, \"#ed7953\"], [0.7777777777777778, \"#fb9f3a\"], [0.8888888888888888, \"#fdca26\"], [1.0, \"#f0f921\"]], \"sequentialminus\": [[0.0, \"#0d0887\"], [0.1111111111111111, \"#46039f\"], [0.2222222222222222, \"#7201a8\"], [0.3333333333333333, \"#9c179e\"], [0.4444444444444444, \"#bd3786\"], [0.5555555555555556, \"#d8576b\"], [0.6666666666666666, \"#ed7953\"], [0.7777777777777778, \"#fb9f3a\"], [0.8888888888888888, \"#fdca26\"], [1.0, \"#f0f921\"]]}, \"colorway\": [\"#636efa\", \"#EF553B\", \"#00cc96\", \"#ab63fa\", \"#FFA15A\", \"#19d3f3\", \"#FF6692\", \"#B6E880\", \"#FF97FF\", \"#FECB52\"], \"font\": {\"color\": \"#2a3f5f\"}, \"geo\": {\"bgcolor\": \"white\", \"lakecolor\": \"white\", \"landcolor\": \"#E5ECF6\", \"showlakes\": true, \"showland\": true, \"subunitcolor\": \"white\"}, \"hoverlabel\": {\"align\": \"left\"}, \"hovermode\": \"closest\", \"mapbox\": {\"style\": \"light\"}, \"paper_bgcolor\": \"white\", \"plot_bgcolor\": \"#E5ECF6\", \"polar\": {\"angularaxis\": {\"gridcolor\": \"white\", \"linecolor\": \"white\", \"ticks\": \"\"}, \"bgcolor\": \"#E5ECF6\", \"radialaxis\": {\"gridcolor\": \"white\", \"linecolor\": \"white\", \"ticks\": \"\"}}, \"scene\": {\"xaxis\": {\"backgroundcolor\": \"#E5ECF6\", \"gridcolor\": \"white\", \"gridwidth\": 2, \"linecolor\": \"white\", \"showbackground\": true, \"ticks\": \"\", \"zerolinecolor\": \"white\"}, \"yaxis\": {\"backgroundcolor\": \"#E5ECF6\", \"gridcolor\": \"white\", \"gridwidth\": 2, \"linecolor\": \"white\", \"showbackground\": true, \"ticks\": \"\", \"zerolinecolor\": \"white\"}, \"zaxis\": {\"backgroundcolor\": \"#E5ECF6\", \"gridcolor\": \"white\", \"gridwidth\": 2, \"linecolor\": \"white\", \"showbackground\": true, \"ticks\": \"\", \"zerolinecolor\": \"white\"}}, \"shapedefaults\": {\"line\": {\"color\": \"#2a3f5f\"}}, \"ternary\": {\"aaxis\": {\"gridcolor\": \"white\", \"linecolor\": \"white\", \"ticks\": \"\"}, \"baxis\": {\"gridcolor\": \"white\", \"linecolor\": \"white\", \"ticks\": \"\"}, \"bgcolor\": \"#E5ECF6\", \"caxis\": {\"gridcolor\": \"white\", \"linecolor\": \"white\", \"ticks\": \"\"}}, \"title\": {\"x\": 0.05}, \"xaxis\": {\"automargin\": true, \"gridcolor\": \"white\", \"linecolor\": \"white\", \"ticks\": \"\", \"zerolinecolor\": \"white\", \"zerolinewidth\": 2}, \"yaxis\": {\"automargin\": true, \"gridcolor\": \"white\", \"linecolor\": \"white\", \"ticks\": \"\", \"zerolinecolor\": \"white\", \"zerolinewidth\": 2}}}, \"updatemenus\": [{\"buttons\": [{\"args\": [null, {\"frame\": {\"duration\": 500, \"redraw\": true}, \"fromcurrent\": true, \"transition\": {\"duration\": 300, \"easing\": \"quadratic-in-out\"}}], \"label\": \"Play\", \"method\": \"animate\"}, {\"args\": [[null], {\"frame\": {\"duration\": 0, \"redraw\": true}, \"mode\": \"immediate\", \"transition\": {\"duration\": 0}}], \"label\": \"Pause\", \"method\": \"animate\"}], \"direction\": \"left\", \"pad\": {\"r\": 10, \"t\": 87}, \"showactive\": false, \"type\": \"buttons\", \"x\": 0.1, \"xanchor\": \"right\", \"y\": 0, \"yanchor\": \"top\"}]},\n",
       "                        {\"responsive\": true}\n",
       "                    ).then(function(){\n",
       "                            Plotly.addFrames('c2f8c548-581a-4036-99e1-f6b1996b691b', [{\"data\": [{\"hole\": 0.3, \"labels\": [\"COA\", \"NUC\", \"GAS\", \"PEA\", \"HYD\", \"WIN\", \"CSP\", \"SPV\", \"DPV\", \"BIO\", \"PST\"], \"scalegroup\": \"one\", \"textinfo\": \"label+percent\", \"textposition\": \"inside\", \"values\": [202281.47420086898, 13360.7519999999, 2231.697599999993, 362.0791344541001, 13163.450971716773, 6516.850174540441, 1880.432598643549, 3292.892343824583, 1041.47248703648, 1907.4525950667692, 1251.3714062082531], \"type\": \"pie\"}], \"name\": \"2018\"}, {\"data\": [{\"hole\": 0.3, \"labels\": [\"COA\", \"NUC\", \"GAS\", \"PEA\", \"HYD\", \"WIN\", \"CSP\", \"SPV\", \"DPV\", \"BIO\", \"PST\"], \"scalegroup\": \"one\", \"textinfo\": \"label+percent\", \"textposition\": \"inside\", \"values\": [202469.50209797727, 13360.7519999999, 2231.697599999993, 352.03632981201, 13171.096407251158, 6509.177647155822, 1892.145162588379, 3534.4251521460574, 1041.47248727008, 1769.2470934409582, 876.5823879083689], \"type\": \"pie\"}], \"name\": \"2019\"}, {\"data\": [{\"hole\": 0.3, \"labels\": [\"COA\", \"NUC\", \"GAS\", \"PEA\", \"HYD\", \"WIN\", \"CSP\", \"SPV\", \"DPV\", \"BIO\", \"PST\"], \"scalegroup\": \"one\", \"textinfo\": \"label+percent\", \"textposition\": \"inside\", \"values\": [197784.6437393029, 13397.3567999999, 2610.7804799998803, 3646.775922131731, 13195.64301458445, 7832.434323158209, 2121.362452339109, 4070.537934049289, 1044.58243108592, 2170.452685714375, 4400.59605473648], \"type\": \"pie\"}], \"name\": \"2020\"}, {\"data\": [{\"hole\": 0.3, \"labels\": [\"COA\", \"NUC\", \"GAS\", \"PEA\", \"HYD\", \"WIN\", \"CSP\", \"SPV\", \"DPV\", \"BIO\", \"PST\"], \"scalegroup\": \"one\", \"textinfo\": \"label+percent\", \"textposition\": \"inside\", \"values\": [197256.04933011747, 13360.7519999999, 2603.64719999964, 4589.090906416749, 13031.48636223612, 8614.952579769379, 2147.22111385989, 4216.861334695538, 1041.4724868788, 2180.174057142925, 3582.154087623819], \"type\": \"pie\"}], \"name\": \"2021\"}, {\"data\": [{\"hole\": 0.3, \"labels\": [\"COA\", \"NUC\", \"GAS\", \"PEA\", \"HYD\", \"WIN\", \"CSP\", \"SPV\", \"DPV\", \"BIO\", \"PST\"], \"scalegroup\": \"one\", \"textinfo\": \"label+percent\", \"textposition\": \"inside\", \"values\": [191840.44790644673, 13360.7519999999, 2603.6471999999703, 5965.5599999999195, 13198.90073110389, 8621.66152287283, 2361.74593195985, 4216.86133992298, 1041.47248610792, 2189.1239999999952, 983.225745074079], \"type\": \"pie\"}], \"name\": \"2022\"}, {\"data\": [{\"hole\": 0.3, \"labels\": [\"COA\", \"NUC\", \"GAS\", \"PEA\", \"HYD\", \"WIN\", \"CSP\", \"SPV\", \"DPV\", \"BIO\", \"PST\"], \"scalegroup\": \"one\", \"textinfo\": \"label+percent\", \"textposition\": \"inside\", \"values\": [184041.73052895168, 13360.7519999999, 2242.119911999993, 557.70263397439, 13118.64633887006, 32411.068317142068, 1900.624047026299, 4216.861340661637, 1933.14413585584, 3802.90512541731, 2810.7920968375206], \"type\": \"pie\"}], \"name\": \"2023\"}, {\"data\": [{\"hole\": 0.3, \"labels\": [\"COA\", \"NUC\", \"GAS\", \"PEA\", \"HYD\", \"WIN\", \"CSP\", \"SPV\", \"DPV\", \"BIO\", \"PST\"], \"scalegroup\": \"one\", \"textinfo\": \"label+percent\", \"textposition\": \"inside\", \"values\": [187392.71798953135, 13397.3567999999, 2237.811839999993, 799.554532970609, 13196.121691878066, 32555.473563680367, 1904.395830683059, 4231.9466908395225, 2833.2509771808, 3832.5911069205977, 4089.02574264729], \"type\": \"pie\"}], \"name\": \"2024\"}, {\"data\": [{\"hole\": 0.3, \"labels\": [\"COA\", \"NUC\", \"GAS\", \"PEA\", \"HYD\", \"WIN\", \"CSP\", \"SPV\", \"DPV\", \"BIO\", \"PST\"], \"scalegroup\": \"one\", \"textinfo\": \"label+percent\", \"textposition\": \"inside\", \"values\": [182955.9370231856, 12855.65040000004, 2231.697599999993, 1438.8820014819103, 13154.6031795276, 36894.13899994957, 1898.422544200509, 9361.015562510333, 3716.48743505347, 3804.844550814778, 3650.484750412336], \"type\": \"pie\"}], \"name\": \"2025\"}, {\"data\": [{\"hole\": 0.3, \"labels\": [\"COA\", \"NUC\", \"GAS\", \"PEA\", \"HYD\", \"WIN\", \"CSP\", \"SPV\", \"DPV\", \"BIO\", \"PST\"], \"scalegroup\": \"one\", \"textinfo\": \"label+percent\", \"textposition\": \"inside\", \"values\": [177998.62230622076, 12937.11839999988, 2231.697599999993, 1845.71271315433, 13165.976227784204, 47395.31715883509, 1895.4306541135588, 9361.746117568378, 4608.15916402232, 3807.4307701627404, 4477.88659508344], \"type\": \"pie\"}], \"name\": \"2026\"}, {\"data\": [{\"hole\": 0.3, \"labels\": [\"COA\", \"NUC\", \"GAS\", \"PEA\", \"HYD\", \"WIN\", \"CSP\", \"SPV\", \"DPV\", \"BIO\", \"PST\"], \"scalegroup\": \"one\", \"textinfo\": \"label+percent\", \"textposition\": \"inside\", \"values\": [169108.62143876273, 12513.4848000001, 2231.697599999993, 1978.7891451367302, 13150.736766150474, 61439.54673448421, 1892.816686984259, 9362.137325913569, 5499.83073550378, 3800.373637327119, 5098.97754760192], \"type\": \"pie\"}], \"name\": \"2027\"}, {\"data\": [{\"hole\": 0.3, \"labels\": [\"COA\", \"NUC\", \"GAS\", \"PEA\", \"HYD\", \"WIN\", \"CSP\", \"SPV\", \"DPV\", \"BIO\", \"PST\"], \"scalegroup\": \"one\", \"textinfo\": \"label+percent\", \"textposition\": \"inside\", \"values\": [168764.73641313182, 13397.3567999999, 2237.811839999993, 2218.6389508602306, 13164.26351198073, 65988.45957092576, 1904.1809197272191, 9391.297013837495, 6410.58807334399, 3840.144720647826, 5383.875899353249], \"type\": \"pie\"}], \"name\": \"2028\"}, {\"data\": [{\"hole\": 0.3, \"labels\": [\"COA\", \"NUC\", \"GAS\", \"PEA\", \"HYD\", \"WIN\", \"CSP\", \"SPV\", \"DPV\", \"BIO\", \"PST\"], \"scalegroup\": \"one\", \"textinfo\": \"label+percent\", \"textposition\": \"inside\", \"values\": [165914.10271145724, 13360.7519999999, 2231.697599999993, 2414.92266858326, 13159.867428915311, 70192.50459868294, 1898.204120985439, 11764.129027718216, 7283.17403842519, 3794.66274968071, 4915.177972530117], \"type\": \"pie\"}], \"name\": \"2029\"}, {\"data\": [{\"hole\": 0.3, \"labels\": [\"COA\", \"NUC\", \"GAS\", \"PEA\", \"HYD\", \"WIN\", \"CSP\", \"SPV\", \"DPV\", \"BIO\", \"PST\"], \"scalegroup\": \"one\", \"textinfo\": \"label+percent\", \"textposition\": \"inside\", \"values\": [120533.12418737702, 13360.7519999999, 2231.697599999993, 1085.4114446176802, 12694.634694302184, 121572.2497009829, 1890.087920677159, 13991.34638602052, 8174.84568962951, 3784.324170580509, 3383.359793720321], \"type\": \"pie\"}], \"name\": \"2030\"}, {\"data\": [{\"hole\": 0.3, \"labels\": [\"COA\", \"NUC\", \"GAS\", \"PEA\", \"HYD\", \"WIN\", \"CSP\", \"SPV\", \"DPV\", \"BIO\", \"PST\"], \"scalegroup\": \"one\", \"textinfo\": \"label+percent\", \"textposition\": \"inside\", \"values\": [121102.55331667975, 13360.75199999972, 2231.697599999993, 925.3435973949502, 13074.069716830962, 117252.2332817339, 1886.7353783045291, 21054.1982840732, 8174.84568266185, 3782.618316043949, 3360.298306331182], \"type\": \"pie\"}], \"name\": \"2031\"}, {\"data\": [{\"hole\": 0.3, \"labels\": [\"COA\", \"NUC\", \"GAS\", \"PEA\", \"HYD\", \"WIN\", \"CSP\", \"SPV\", \"DPV\", \"BIO\", \"PST\"], \"scalegroup\": \"one\", \"textinfo\": \"label+percent\", \"textposition\": \"inside\", \"values\": [109807.37798208042, 12890.87136000004, 2237.811839999993, 1689.52859750281, 13203.3262651447, 117585.69355705162, 1897.062354755059, 36208.35835775687, 8199.25661050919, 3787.62456878274, 1987.150635657881], \"type\": \"pie\"}], \"name\": \"2032\"}, {\"data\": [{\"hole\": 0.3, \"labels\": [\"COA\", \"NUC\", \"GAS\", \"PEA\", \"HYD\", \"WIN\", \"CSP\", \"SPV\", \"DPV\", \"BIO\", \"PST\"], \"scalegroup\": \"one\", \"textinfo\": \"label+percent\", \"textposition\": \"inside\", \"values\": [111453.42819888744, 12937.11839999988, 2231.697599999993, 1353.1748732362103, 12988.60807515381, 117246.93722156117, 1884.431267364469, 41376.491353526355, 8174.84567821537, 3787.700992178421, 4584.852637683779], \"type\": \"pie\"}], \"name\": \"2033\"}, {\"data\": [{\"hole\": 0.3, \"labels\": [\"COA\", \"NUC\", \"GAS\", \"PEA\", \"HYD\", \"WIN\", \"CSP\", \"SPV\", \"DPV\", \"BIO\", \"PST\"], \"scalegroup\": \"one\", \"textinfo\": \"label+percent\", \"textposition\": \"inside\", \"values\": [115961.5602355053, 12513.4848000001, 2231.697599999993, 1438.9887922815099, 13111.572594925221, 112229.71219975085, 1891.168861612309, 45339.2419302709, 8174.84568444962, 3792.80580467643, 3682.925020310932], \"type\": \"pie\"}], \"name\": \"2034\"}, {\"data\": [{\"hole\": 0.3, \"labels\": [\"COA\", \"NUC\", \"GAS\", \"PEA\", \"HYD\", \"WIN\", \"CSP\", \"SPV\", \"DPV\", \"BIO\", \"PST\"], \"scalegroup\": \"one\", \"textinfo\": \"label+percent\", \"textposition\": \"inside\", \"values\": [105887.51705810832, 13360.75199999963, 2231.697599999993, 2494.8996542048803, 13118.708019018442, 115909.7648284215, 1902.325716259749, 54305.19007824582, 8174.84568701664, 3787.71283567918, 3699.8316807191914], \"type\": \"pie\"}], \"name\": \"2035\"}, {\"data\": [{\"hole\": 0.3, \"labels\": [\"COA\", \"NUC\", \"GAS\", \"PEA\", \"HYD\", \"WIN\", \"CSP\", \"SPV\", \"DPV\", \"BIO\", \"PST\"], \"scalegroup\": \"one\", \"textinfo\": \"label+percent\", \"textposition\": \"inside\", \"values\": [96767.393345745, 13397.3567999997, 2237.811839999993, 2162.42377915905, 12954.252729339312, 128831.46781336097, 1900.579476480269, 56770.240351739645, 8199.25662623231, 3789.508415369651, 4536.63983273619], \"type\": \"pie\"}], \"name\": \"2036\"}, {\"data\": [{\"hole\": 0.3, \"labels\": [\"COA\", \"NUC\", \"GAS\", \"PEA\", \"HYD\", \"WIN\", \"CSP\", \"SPV\", \"DPV\", \"BIO\", \"PST\"], \"scalegroup\": \"one\", \"textinfo\": \"label+percent\", \"textposition\": \"inside\", \"values\": [84917.30209719652, 13360.7519999999, 2231.697599999993, 3175.60657212537, 12960.183920602292, 128500.19895577032, 1895.775051647889, 71438.58029688198, 8174.84582031936, 3782.8034997659024, 3161.839032615641], \"type\": \"pie\"}], \"name\": \"2037\"}, {\"data\": [{\"hole\": 0.3, \"labels\": [\"COA\", \"NUC\", \"GAS\", \"PEA\", \"HYD\", \"WIN\", \"CSP\", \"SPV\", \"DPV\", \"BIO\", \"PST\"], \"scalegroup\": \"one\", \"textinfo\": \"label+percent\", \"textposition\": \"inside\", \"values\": [85191.07301035017, 13360.7519999999, 2231.697599999993, 2094.51689793804, 13008.579937153121, 131385.7841443178, 1894.440130230259, 74677.18796124398, 8174.84568114911, 3799.458264923249, 3947.4807637775475], \"type\": \"pie\"}], \"name\": \"2038\"}, {\"data\": [{\"hole\": 0.3, \"labels\": [\"COA\", \"NUC\", \"GAS\", \"PEA\", \"HYD\", \"WIN\", \"CSP\", \"SPV\", \"DPV\", \"BIO\", \"PST\"], \"scalegroup\": \"one\", \"textinfo\": \"label+percent\", \"textposition\": \"inside\", \"values\": [66008.54509513287, 12601.15216434002, 2231.697599999993, 2463.97079512996, 11649.32636697559, 157987.72687334017, 1884.431267364469, 73788.74018357114, 7900.21081031721, 3767.318036707779, 5403.749940472459], \"type\": \"pie\"}], \"name\": \"2039\"}, {\"data\": [{\"hole\": 0.3, \"labels\": [\"COA\", \"NUC\", \"GAS\", \"PEA\", \"HYD\", \"WIN\", \"CSP\", \"SPV\", \"DPV\", \"BIO\", \"PST\"], \"scalegroup\": \"one\", \"textinfo\": \"label+percent\", \"textposition\": \"inside\", \"values\": [60429.94867501772, 12972.56255999988, 2237.811839999993, 1164.1136122777102, 12383.806683505532, 157200.899010328, 1889.916359891149, 84750.7048348403, 7709.16143067401, 3787.943757598908, 3731.7102848858], \"type\": \"pie\"}], \"name\": \"2040\"}, {\"data\": [{\"hole\": 0.3, \"labels\": [\"COA\", \"NUC\", \"GAS\", \"PEA\", \"HYD\", \"WIN\", \"CSP\", \"SPV\", \"DPV\", \"BIO\", \"PST\"], \"scalegroup\": \"one\", \"textinfo\": \"label+percent\", \"textposition\": \"inside\", \"values\": [49941.24791863104, 12076.092626788279, 2231.697599999993, 3107.44205118399, 11215.546108336628, 172416.05549205, 1891.428937626079, 84570.42979642759, 7490.04186222601, 3741.634175935329, 5338.107804098598], \"type\": \"pie\"}], \"name\": \"2041\"}, {\"data\": [{\"hole\": 0.3, \"labels\": [\"COA\", \"NUC\", \"GAS\", \"PEA\", \"HYD\", \"WIN\", \"CSP\", \"SPV\", \"DPV\", \"BIO\", \"PST\"], \"scalegroup\": \"one\", \"textinfo\": \"label+percent\", \"textposition\": \"inside\", \"values\": [42590.08516935663, 12977.18965879288, 2231.697599999993, 1795.5589255659, 10153.894409447441, 187800.052226683, 1898.972157964909, 83539.1706621662, 7133.37319604, 3749.157105810958, 5779.830300828616], \"type\": \"pie\"}], \"name\": \"2042\"}, {\"data\": [{\"hole\": 0.3, \"labels\": [\"COA\", \"NUC\", \"GAS\", \"PEA\", \"HYD\", \"WIN\", \"CSP\", \"SPV\", \"DPV\", \"BIO\", \"PST\"], \"scalegroup\": \"one\", \"textinfo\": \"label+percent\", \"textposition\": \"inside\", \"values\": [44417.44011194473, 13083.48791498301, 2256.7111487999928, 3648.91135870566, 11644.914957861074, 166090.046754706, 1891.428937626079, 104330.35095173829, 7133.37331616, 3794.60961547868, 4843.071846069261], \"type\": \"pie\"}], \"name\": \"2043\"}, {\"data\": [{\"hole\": 0.3, \"labels\": [\"COA\", \"NUC\", \"GAS\", \"PEA\", \"HYD\", \"WIN\", \"CSP\", \"SPV\", \"DPV\", \"BIO\", \"PST\"], \"scalegroup\": \"one\", \"textinfo\": \"label+percent\", \"textposition\": \"inside\", \"values\": [41424.17275926812, 12439.641374000032, 2237.811839999993, 2191.54569211553, 10110.088902431487, 176366.508417954, 1902.196451949699, 104638.32273041015, 7154.67418367999, 3750.396382937782, 5187.11628971457], \"type\": \"pie\"}], \"name\": \"2044\"}, {\"data\": [{\"hole\": 0.3, \"labels\": [\"COA\", \"NUC\", \"GAS\", \"PEA\", \"HYD\", \"WIN\", \"CSP\", \"SPV\", \"DPV\", \"BIO\", \"PST\"], \"scalegroup\": \"one\", \"textinfo\": \"label+percent\", \"textposition\": \"inside\", \"values\": [48821.74731917763, 11735.23511709297, 2231.697599999993, 2278.5283426891397, 12000.653999951299, 172855.366149805, 1481.670098654498, 103862.03720505704, 7133.37319760001, 3736.668941895551, 6091.218337448071], \"type\": \"pie\"}], \"name\": \"2045\"}, {\"data\": [{\"hole\": 0.3, \"labels\": [\"COA\", \"NUC\", \"GAS\", \"PEA\", \"HYD\", \"WIN\", \"CSP\", \"SPV\", \"DPV\", \"BIO\", \"PST\"], \"scalegroup\": \"one\", \"textinfo\": \"label+percent\", \"textposition\": \"inside\", \"values\": [36726.76813908308, 5809.43402305645, 2231.697599999993, 3003.16015108385, 8853.882318058691, 198386.67767361, 983.3635628880261, 103431.008723601, 7133.37319984, 3770.455361199727, 6316.558735898046], \"type\": \"pie\"}], \"name\": \"2046\"}, {\"data\": [{\"hole\": 0.3, \"labels\": [\"COA\", \"NUC\", \"GAS\", \"PEA\", \"HYD\", \"WIN\", \"CSP\", \"SPV\", \"DPV\", \"BIO\", \"PST\"], \"scalegroup\": \"one\", \"textinfo\": \"label+percent\", \"textposition\": \"inside\", \"values\": [37061.599634041704, 0.0, 2231.697599999993, 3688.07783334272, 9942.764364734623, 207568.018159616, 10.99633898253, 103432.243179191, 6241.70155185502, 3556.504611843826, 5833.608422028678], \"type\": \"pie\"}], \"name\": \"2047\"}, {\"data\": [{\"hole\": 0.3, \"labels\": [\"COA\", \"NUC\", \"GAS\", \"PEA\", \"HYD\", \"WIN\", \"CSP\", \"SPV\", \"DPV\", \"BIO\", \"PST\"], \"scalegroup\": \"one\", \"textinfo\": \"label+percent\", \"textposition\": \"inside\", \"values\": [43179.29826810293, 0.0, 2237.811839999993, 1385.13486065526, 12750.843370372657, 205215.113148731, 12.169728813, 105749.251905159, 5366.00563914, 3630.016504338102, 4722.676801794707], \"type\": \"pie\"}], \"name\": \"2048\"}, {\"data\": [{\"hole\": 0.3, \"labels\": [\"COA\", \"NUC\", \"GAS\", \"PEA\", \"HYD\", \"WIN\", \"CSP\", \"SPV\", \"DPV\", \"BIO\", \"PST\"], \"scalegroup\": \"one\", \"textinfo\": \"label+percent\", \"textposition\": \"inside\", \"values\": [35452.15246162472, 0.0, 2231.820640514863, 1436.194538934, 9715.45709950998, 210840.568792902, 0.0, 114593.32119977, 4458.35824670001, 3628.11283383874, 4194.52140734362], \"type\": \"pie\"}], \"name\": \"2049\"}, {\"data\": [{\"hole\": 0.3, \"labels\": [\"COA\", \"NUC\", \"GAS\", \"PEA\", \"HYD\", \"WIN\", \"CSP\", \"SPV\", \"DPV\", \"BIO\", \"PST\"], \"scalegroup\": \"one\", \"textinfo\": \"label+percent\", \"textposition\": \"inside\", \"values\": [32929.453305351555, 0.0, 2254.926141573123, 1098.24938165104, 8407.194580901329, 226247.090860143, 0.0, 109487.020281784, 3566.68659608001, 3286.954023881421, 5488.074203656999], \"type\": \"pie\"}], \"name\": \"2050\"}]);\n",
       "                        }).then(function(){\n",
       "                            \n",
       "var gd = document.getElementById('c2f8c548-581a-4036-99e1-f6b1996b691b');\n",
       "var x = new MutationObserver(function (mutations, observer) {{\n",
       "        var display = window.getComputedStyle(gd).display;\n",
       "        if (!display || display === 'none') {{\n",
       "            console.log([gd, 'removed!']);\n",
       "            Plotly.purge(gd);\n",
       "            observer.disconnect();\n",
       "        }}\n",
       "}});\n",
       "\n",
       "// Listen for the removal of the full notebook cells\n",
       "var notebookContainer = gd.closest('#notebook-container');\n",
       "if (notebookContainer) {{\n",
       "    x.observe(notebookContainer, {childList: true});\n",
       "}}\n",
       "\n",
       "// Listen for the clearing of the current output cell\n",
       "var outputEl = gd.closest('.output');\n",
       "if (outputEl) {{\n",
       "    x.observe(outputEl, {childList: true});\n",
       "}}\n",
       "\n",
       "                        })\n",
       "                };\n",
       "                });\n",
       "            </script>\n",
       "        </div>"
      ]
     },
     "metadata": {},
     "output_type": "display_data"
    }
   ],
   "source": [
    "\n",
    "\n",
    "years = CSIR_LC_2019_E['Year']\n",
    "\n",
    "\n",
    "# make figure\n",
    "fig_dict = {\n",
    "    \"data\": [],\n",
    "    \"layout\": {},\n",
    "    \"frames\": []\n",
    "}\n",
    "\n",
    "# fill in most of layout\n",
    "fig_dict[\"layout\"]\n",
    "\n",
    "\n",
    "\n",
    "fig_dict[\"layout\"][\"sliders\"] = {\n",
    "    \"args\": [\n",
    "        \"transition\", {\n",
    "            \"duration\": 400,\n",
    "            \"easing\": \"cubic-in-out\"\n",
    "        }\n",
    "    ],\n",
    "    \"initialValue\": \"2018\",\n",
    "    \"plotlycommand\": \"animate\",\n",
    "    \"values\": CSIR_LC_2019_E['Year'],\n",
    "    \"visible\": True\n",
    "}\n",
    "fig_dict[\"layout\"][\"updatemenus\"] = [\n",
    "    {\n",
    "        \"buttons\": [\n",
    "            {\n",
    "                \"args\": [None, {\"frame\": {\"duration\": 500, \"redraw\": True},\n",
    "                                \"fromcurrent\": True, \"transition\": {\"duration\": 300,\n",
    "                                                                    \"easing\": \"quadratic-in-out\"}}],\n",
    "                \"label\": \"Play\",\n",
    "                \"method\": \"animate\"\n",
    "            },\n",
    "            {\n",
    "                \"args\": [[None], {\"frame\": {\"duration\": 0, \"redraw\": True},\n",
    "                                  \"mode\": \"immediate\",\n",
    "                                  \"transition\": {\"duration\": 0}}],\n",
    "                \"label\": \"Pause\",\n",
    "                \"method\": \"animate\"\n",
    "            }\n",
    "        ],\n",
    "        \"direction\": \"left\",\n",
    "        \"pad\": {\"r\": 10, \"t\": 87},\n",
    "        \"showactive\": False,\n",
    "        \"type\": \"buttons\",\n",
    "        \"x\": 0.1,\n",
    "        \"xanchor\": \"right\",\n",
    "        \"y\": 0,\n",
    "        \"yanchor\": \"top\"\n",
    "    }\n",
    "]\n",
    "\n",
    "sliders_dict = {\n",
    "    \"active\": 0,\n",
    "    \"yanchor\": \"top\",\n",
    "    \"xanchor\": \"left\",\n",
    "    \"currentvalue\": {\n",
    "        \"font\": {\"size\": 20},\n",
    "        \"prefix\": \"Year:\",\n",
    "        \"visible\": True,\n",
    "        \"xanchor\": \"right\"\n",
    "    },\n",
    "    \"transition\": {\"duration\": 300, \"easing\": \"cubic-in-out\"},\n",
    "    \"pad\": {\"b\": 10, \"t\": 50},\n",
    "    \"len\": 0.9,\n",
    "    \"x\": 0.1,\n",
    "    \"y\": 0,\n",
    "    \"steps\": []\n",
    "}\n",
    "\n",
    "# make data\n",
    "\n",
    "fig_dict[\"data\"].append(go.Pie(labels=powerlist,\n",
    "                               values=np.array(CSIR_LC_2019_E[CSIR_LC_2019_E['Year'] == 2018][powerlist])[0],\n",
    "                               textinfo='label+percent',\n",
    "                               textposition='inside',\n",
    "                               title='CSIR_LC_2019_E',\n",
    "                               scalegroup='one'))\n",
    "\n",
    "# make frames\n",
    "for year in years:\n",
    "    frame = {\"data\": [], \"name\": str(year)}\n",
    "    frame[\"data\"].append(go.Pie(labels=powerlist,\n",
    "                                values=np.array(CSIR_LC_2019_E[CSIR_LC_2019_E['Year'] == year][powerlist])[0],\n",
    "                                textinfo='label+percent',\n",
    "                                textposition='inside',\n",
    "                                scalegroup='one',\n",
    "                                hole=.3))\n",
    "\n",
    "\n",
    "    fig_dict[\"frames\"].append(frame)\n",
    "    slider_step = {\"args\": [\n",
    "        [year],\n",
    "        {\"frame\": {\"duration\": 300, \"redraw\": True},\n",
    "         \"mode\": \"immediate\",\n",
    "         \"transition\": {\"duration\": 300}}\n",
    "    ],\n",
    "        \"label\": year,\n",
    "        \"method\": \"animate\"}\n",
    "    sliders_dict[\"steps\"].append(slider_step)\n",
    "\n",
    "\n",
    "fig_dict[\"layout\"][\"sliders\"] = [sliders_dict]\n",
    "\n",
    "fig = go.Figure(fig_dict)\n",
    "\n",
    "fig.show()"
   ]
  },
  {
   "cell_type": "code",
   "execution_count": null,
   "metadata": {},
   "outputs": [],
   "source": []
  },
  {
   "cell_type": "code",
   "execution_count": null,
   "metadata": {},
   "outputs": [],
   "source": []
  },
  {
   "cell_type": "code",
   "execution_count": null,
   "metadata": {},
   "outputs": [],
   "source": []
  },
  {
   "cell_type": "code",
   "execution_count": null,
   "metadata": {},
   "outputs": [],
   "source": []
  },
  {
   "cell_type": "code",
   "execution_count": null,
   "metadata": {},
   "outputs": [],
   "source": []
  },
  {
   "cell_type": "code",
   "execution_count": null,
   "metadata": {},
   "outputs": [],
   "source": []
  },
  {
   "cell_type": "code",
   "execution_count": null,
   "metadata": {},
   "outputs": [],
   "source": []
  },
  {
   "cell_type": "code",
   "execution_count": null,
   "metadata": {},
   "outputs": [],
   "source": []
  },
  {
   "cell_type": "code",
   "execution_count": null,
   "metadata": {},
   "outputs": [],
   "source": []
  },
  {
   "cell_type": "code",
   "execution_count": null,
   "metadata": {},
   "outputs": [],
   "source": []
  },
  {
   "cell_type": "code",
   "execution_count": null,
   "metadata": {},
   "outputs": [],
   "source": []
  },
  {
   "cell_type": "code",
   "execution_count": null,
   "metadata": {},
   "outputs": [],
   "source": []
  },
  {
   "cell_type": "code",
   "execution_count": null,
   "metadata": {},
   "outputs": [],
   "source": []
  },
  {
   "cell_type": "code",
   "execution_count": null,
   "metadata": {},
   "outputs": [],
   "source": []
  },
  {
   "cell_type": "code",
   "execution_count": null,
   "metadata": {},
   "outputs": [],
   "source": []
  },
  {
   "cell_type": "code",
   "execution_count": null,
   "metadata": {},
   "outputs": [],
   "source": []
  },
  {
   "cell_type": "code",
   "execution_count": null,
   "metadata": {},
   "outputs": [],
   "source": []
  },
  {
   "cell_type": "code",
   "execution_count": null,
   "metadata": {},
   "outputs": [],
   "source": []
  },
  {
   "cell_type": "code",
   "execution_count": null,
   "metadata": {},
   "outputs": [],
   "source": []
  },
  {
   "cell_type": "code",
   "execution_count": null,
   "metadata": {},
   "outputs": [],
   "source": []
  },
  {
   "cell_type": "code",
   "execution_count": null,
   "metadata": {},
   "outputs": [],
   "source": []
  },
  {
   "cell_type": "code",
   "execution_count": 9,
   "metadata": {},
   "outputs": [],
   "source": []
  },
  {
   "cell_type": "code",
   "execution_count": null,
   "metadata": {},
   "outputs": [],
   "source": []
  },
  {
   "cell_type": "code",
   "execution_count": null,
   "metadata": {},
   "outputs": [],
   "source": []
  },
  {
   "cell_type": "code",
   "execution_count": null,
   "metadata": {},
   "outputs": [],
   "source": []
  }
 ],
 "metadata": {
  "kernelspec": {
   "display_name": "Python 3",
   "language": "python",
   "name": "python3"
  },
  "language_info": {
   "codemirror_mode": {
    "name": "ipython",
    "version": 3
   },
   "file_extension": ".py",
   "mimetype": "text/x-python",
   "name": "python",
   "nbconvert_exporter": "python",
   "pygments_lexer": "ipython3",
   "version": "3.7.4"
  }
 },
 "nbformat": 4,
 "nbformat_minor": 2
}
